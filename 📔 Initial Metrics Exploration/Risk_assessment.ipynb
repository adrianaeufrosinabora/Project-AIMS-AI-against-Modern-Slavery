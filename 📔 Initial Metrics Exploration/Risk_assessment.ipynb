{
  "nbformat": 4,
  "nbformat_minor": 0,
  "metadata": {
    "colab": {
      "name": " Risk_assessment.ipynb",
      "provenance": [],
      "collapsed_sections": []
    },
    "kernelspec": {
      "name": "python3",
      "display_name": "Python 3"
    },
    "language_info": {
      "name": "python"
    },
    "widgets": {
      "application/vnd.jupyter.widget-state+json": {
        "64b1f825e4b64c799d8f4db369a1ea52": {
          "model_module": "@jupyter-widgets/controls",
          "model_name": "HBoxModel",
          "model_module_version": "1.5.0",
          "state": {
            "_view_name": "HBoxView",
            "_dom_classes": [],
            "_model_name": "HBoxModel",
            "_view_module": "@jupyter-widgets/controls",
            "_model_module_version": "1.5.0",
            "_view_count": null,
            "_view_module_version": "1.5.0",
            "box_style": "",
            "layout": "IPY_MODEL_ab27c9f65cfb4b12a1ce9375a5771f3d",
            "_model_module": "@jupyter-widgets/controls",
            "children": [
              "IPY_MODEL_d8c20718c3b2476d91954e7ddc4941d7",
              "IPY_MODEL_5d0989890b9a4848ae7637604a9d1d1b",
              "IPY_MODEL_051afa87ce8c4e248f4883ea14e57b3d"
            ]
          }
        },
        "ab27c9f65cfb4b12a1ce9375a5771f3d": {
          "model_module": "@jupyter-widgets/base",
          "model_name": "LayoutModel",
          "model_module_version": "1.2.0",
          "state": {
            "_view_name": "LayoutView",
            "grid_template_rows": null,
            "right": null,
            "justify_content": null,
            "_view_module": "@jupyter-widgets/base",
            "overflow": null,
            "_model_module_version": "1.2.0",
            "_view_count": null,
            "flex_flow": null,
            "width": null,
            "min_width": null,
            "border": null,
            "align_items": null,
            "bottom": null,
            "_model_module": "@jupyter-widgets/base",
            "top": null,
            "grid_column": null,
            "overflow_y": null,
            "overflow_x": null,
            "grid_auto_flow": null,
            "grid_area": null,
            "grid_template_columns": null,
            "flex": null,
            "_model_name": "LayoutModel",
            "justify_items": null,
            "grid_row": null,
            "max_height": null,
            "align_content": null,
            "visibility": null,
            "align_self": null,
            "height": null,
            "min_height": null,
            "padding": null,
            "grid_auto_rows": null,
            "grid_gap": null,
            "max_width": null,
            "order": null,
            "_view_module_version": "1.2.0",
            "grid_template_areas": null,
            "object_position": null,
            "object_fit": null,
            "grid_auto_columns": null,
            "margin": null,
            "display": null,
            "left": null
          }
        },
        "d8c20718c3b2476d91954e7ddc4941d7": {
          "model_module": "@jupyter-widgets/controls",
          "model_name": "HTMLModel",
          "model_module_version": "1.5.0",
          "state": {
            "_view_name": "HTMLView",
            "style": "IPY_MODEL_468a9356727f420da4553ec449177703",
            "_dom_classes": [],
            "description": "",
            "_model_name": "HTMLModel",
            "placeholder": "​",
            "_view_module": "@jupyter-widgets/controls",
            "_model_module_version": "1.5.0",
            "value": " 26%",
            "_view_count": null,
            "_view_module_version": "1.5.0",
            "description_tooltip": null,
            "_model_module": "@jupyter-widgets/controls",
            "layout": "IPY_MODEL_77febfa40a214016956611016ba1567d"
          }
        },
        "5d0989890b9a4848ae7637604a9d1d1b": {
          "model_module": "@jupyter-widgets/controls",
          "model_name": "FloatProgressModel",
          "model_module_version": "1.5.0",
          "state": {
            "_view_name": "ProgressView",
            "style": "IPY_MODEL_86b3023af29f4e40b8624931c6bf292c",
            "_dom_classes": [],
            "description": "",
            "_model_name": "FloatProgressModel",
            "bar_style": "danger",
            "max": 200,
            "_view_module": "@jupyter-widgets/controls",
            "_model_module_version": "1.5.0",
            "value": 64,
            "_view_count": null,
            "_view_module_version": "1.5.0",
            "orientation": "horizontal",
            "min": 0,
            "description_tooltip": null,
            "_model_module": "@jupyter-widgets/controls",
            "layout": "IPY_MODEL_016dd8fb38434e8b93d5d2a442022978"
          }
        },
        "051afa87ce8c4e248f4883ea14e57b3d": {
          "model_module": "@jupyter-widgets/controls",
          "model_name": "HTMLModel",
          "model_module_version": "1.5.0",
          "state": {
            "_view_name": "HTMLView",
            "style": "IPY_MODEL_cd5048a2f2dc42008412bd11cc8dc9fa",
            "_dom_classes": [],
            "description": "",
            "_model_name": "HTMLModel",
            "placeholder": "​",
            "_view_module": "@jupyter-widgets/controls",
            "_model_module_version": "1.5.0",
            "value": " 64/200 [2:24:55&lt;4:55:48, 130.50s/it, counter=19, train_f1=0.796, train_loss=0.521, val_f1=0.769]",
            "_view_count": null,
            "_view_module_version": "1.5.0",
            "description_tooltip": null,
            "_model_module": "@jupyter-widgets/controls",
            "layout": "IPY_MODEL_1934793f3f634d1c9061ebf5ff54186d"
          }
        },
        "468a9356727f420da4553ec449177703": {
          "model_module": "@jupyter-widgets/controls",
          "model_name": "DescriptionStyleModel",
          "model_module_version": "1.5.0",
          "state": {
            "_view_name": "StyleView",
            "_model_name": "DescriptionStyleModel",
            "description_width": "",
            "_view_module": "@jupyter-widgets/base",
            "_model_module_version": "1.5.0",
            "_view_count": null,
            "_view_module_version": "1.2.0",
            "_model_module": "@jupyter-widgets/controls"
          }
        },
        "77febfa40a214016956611016ba1567d": {
          "model_module": "@jupyter-widgets/base",
          "model_name": "LayoutModel",
          "model_module_version": "1.2.0",
          "state": {
            "_view_name": "LayoutView",
            "grid_template_rows": null,
            "right": null,
            "justify_content": null,
            "_view_module": "@jupyter-widgets/base",
            "overflow": null,
            "_model_module_version": "1.2.0",
            "_view_count": null,
            "flex_flow": null,
            "width": null,
            "min_width": null,
            "border": null,
            "align_items": null,
            "bottom": null,
            "_model_module": "@jupyter-widgets/base",
            "top": null,
            "grid_column": null,
            "overflow_y": null,
            "overflow_x": null,
            "grid_auto_flow": null,
            "grid_area": null,
            "grid_template_columns": null,
            "flex": null,
            "_model_name": "LayoutModel",
            "justify_items": null,
            "grid_row": null,
            "max_height": null,
            "align_content": null,
            "visibility": null,
            "align_self": null,
            "height": null,
            "min_height": null,
            "padding": null,
            "grid_auto_rows": null,
            "grid_gap": null,
            "max_width": null,
            "order": null,
            "_view_module_version": "1.2.0",
            "grid_template_areas": null,
            "object_position": null,
            "object_fit": null,
            "grid_auto_columns": null,
            "margin": null,
            "display": null,
            "left": null
          }
        },
        "86b3023af29f4e40b8624931c6bf292c": {
          "model_module": "@jupyter-widgets/controls",
          "model_name": "ProgressStyleModel",
          "model_module_version": "1.5.0",
          "state": {
            "_view_name": "StyleView",
            "_model_name": "ProgressStyleModel",
            "description_width": "",
            "_view_module": "@jupyter-widgets/base",
            "_model_module_version": "1.5.0",
            "_view_count": null,
            "_view_module_version": "1.2.0",
            "bar_color": null,
            "_model_module": "@jupyter-widgets/controls"
          }
        },
        "016dd8fb38434e8b93d5d2a442022978": {
          "model_module": "@jupyter-widgets/base",
          "model_name": "LayoutModel",
          "model_module_version": "1.2.0",
          "state": {
            "_view_name": "LayoutView",
            "grid_template_rows": null,
            "right": null,
            "justify_content": null,
            "_view_module": "@jupyter-widgets/base",
            "overflow": null,
            "_model_module_version": "1.2.0",
            "_view_count": null,
            "flex_flow": null,
            "width": null,
            "min_width": null,
            "border": null,
            "align_items": null,
            "bottom": null,
            "_model_module": "@jupyter-widgets/base",
            "top": null,
            "grid_column": null,
            "overflow_y": null,
            "overflow_x": null,
            "grid_auto_flow": null,
            "grid_area": null,
            "grid_template_columns": null,
            "flex": null,
            "_model_name": "LayoutModel",
            "justify_items": null,
            "grid_row": null,
            "max_height": null,
            "align_content": null,
            "visibility": null,
            "align_self": null,
            "height": null,
            "min_height": null,
            "padding": null,
            "grid_auto_rows": null,
            "grid_gap": null,
            "max_width": null,
            "order": null,
            "_view_module_version": "1.2.0",
            "grid_template_areas": null,
            "object_position": null,
            "object_fit": null,
            "grid_auto_columns": null,
            "margin": null,
            "display": null,
            "left": null
          }
        },
        "cd5048a2f2dc42008412bd11cc8dc9fa": {
          "model_module": "@jupyter-widgets/controls",
          "model_name": "DescriptionStyleModel",
          "model_module_version": "1.5.0",
          "state": {
            "_view_name": "StyleView",
            "_model_name": "DescriptionStyleModel",
            "description_width": "",
            "_view_module": "@jupyter-widgets/base",
            "_model_module_version": "1.5.0",
            "_view_count": null,
            "_view_module_version": "1.2.0",
            "_model_module": "@jupyter-widgets/controls"
          }
        },
        "1934793f3f634d1c9061ebf5ff54186d": {
          "model_module": "@jupyter-widgets/base",
          "model_name": "LayoutModel",
          "model_module_version": "1.2.0",
          "state": {
            "_view_name": "LayoutView",
            "grid_template_rows": null,
            "right": null,
            "justify_content": null,
            "_view_module": "@jupyter-widgets/base",
            "overflow": null,
            "_model_module_version": "1.2.0",
            "_view_count": null,
            "flex_flow": null,
            "width": null,
            "min_width": null,
            "border": null,
            "align_items": null,
            "bottom": null,
            "_model_module": "@jupyter-widgets/base",
            "top": null,
            "grid_column": null,
            "overflow_y": null,
            "overflow_x": null,
            "grid_auto_flow": null,
            "grid_area": null,
            "grid_template_columns": null,
            "flex": null,
            "_model_name": "LayoutModel",
            "justify_items": null,
            "grid_row": null,
            "max_height": null,
            "align_content": null,
            "visibility": null,
            "align_self": null,
            "height": null,
            "min_height": null,
            "padding": null,
            "grid_auto_rows": null,
            "grid_gap": null,
            "max_width": null,
            "order": null,
            "_view_module_version": "1.2.0",
            "grid_template_areas": null,
            "object_position": null,
            "object_fit": null,
            "grid_auto_columns": null,
            "margin": null,
            "display": null,
            "left": null
          }
        },
        "06218806d7e247b88740f4814785ef5f": {
          "model_module": "@jupyter-widgets/controls",
          "model_name": "HBoxModel",
          "model_module_version": "1.5.0",
          "state": {
            "_view_name": "HBoxView",
            "_dom_classes": [],
            "_model_name": "HBoxModel",
            "_view_module": "@jupyter-widgets/controls",
            "_model_module_version": "1.5.0",
            "_view_count": null,
            "_view_module_version": "1.5.0",
            "box_style": "",
            "layout": "IPY_MODEL_367bad6b9fd940c2bd3c8ce8fb069950",
            "_model_module": "@jupyter-widgets/controls",
            "children": [
              "IPY_MODEL_60957f49a59e45d9b2ae2c7a67ebabf1",
              "IPY_MODEL_cd79d286ebac483a85ea311b9c18df20",
              "IPY_MODEL_1c1158270a5d4ffabb8de0924a767b21"
            ]
          }
        },
        "367bad6b9fd940c2bd3c8ce8fb069950": {
          "model_module": "@jupyter-widgets/base",
          "model_name": "LayoutModel",
          "model_module_version": "1.2.0",
          "state": {
            "_view_name": "LayoutView",
            "grid_template_rows": null,
            "right": null,
            "justify_content": null,
            "_view_module": "@jupyter-widgets/base",
            "overflow": null,
            "_model_module_version": "1.2.0",
            "_view_count": null,
            "flex_flow": null,
            "width": null,
            "min_width": null,
            "border": null,
            "align_items": null,
            "bottom": null,
            "_model_module": "@jupyter-widgets/base",
            "top": null,
            "grid_column": null,
            "overflow_y": null,
            "overflow_x": null,
            "grid_auto_flow": null,
            "grid_area": null,
            "grid_template_columns": null,
            "flex": null,
            "_model_name": "LayoutModel",
            "justify_items": null,
            "grid_row": null,
            "max_height": null,
            "align_content": null,
            "visibility": null,
            "align_self": null,
            "height": null,
            "min_height": null,
            "padding": null,
            "grid_auto_rows": null,
            "grid_gap": null,
            "max_width": null,
            "order": null,
            "_view_module_version": "1.2.0",
            "grid_template_areas": null,
            "object_position": null,
            "object_fit": null,
            "grid_auto_columns": null,
            "margin": null,
            "display": null,
            "left": null
          }
        },
        "60957f49a59e45d9b2ae2c7a67ebabf1": {
          "model_module": "@jupyter-widgets/controls",
          "model_name": "HTMLModel",
          "model_module_version": "1.5.0",
          "state": {
            "_view_name": "HTMLView",
            "style": "IPY_MODEL_50c2119938804617b2010f8b8a55d16e",
            "_dom_classes": [],
            "description": "",
            "_model_name": "HTMLModel",
            "placeholder": "​",
            "_view_module": "@jupyter-widgets/controls",
            "_model_module_version": "1.5.0",
            "value": "Downloading: 100%",
            "_view_count": null,
            "_view_module_version": "1.5.0",
            "description_tooltip": null,
            "_model_module": "@jupyter-widgets/controls",
            "layout": "IPY_MODEL_237462ae1b944c98913574fcccf2a020"
          }
        },
        "cd79d286ebac483a85ea311b9c18df20": {
          "model_module": "@jupyter-widgets/controls",
          "model_name": "FloatProgressModel",
          "model_module_version": "1.5.0",
          "state": {
            "_view_name": "ProgressView",
            "style": "IPY_MODEL_6bb1038e276443dbb0ca29c11e22a691",
            "_dom_classes": [],
            "description": "",
            "_model_name": "FloatProgressModel",
            "bar_style": "success",
            "max": 231508,
            "_view_module": "@jupyter-widgets/controls",
            "_model_module_version": "1.5.0",
            "value": 231508,
            "_view_count": null,
            "_view_module_version": "1.5.0",
            "orientation": "horizontal",
            "min": 0,
            "description_tooltip": null,
            "_model_module": "@jupyter-widgets/controls",
            "layout": "IPY_MODEL_2733ddb87385457b99505f51f7b82625"
          }
        },
        "1c1158270a5d4ffabb8de0924a767b21": {
          "model_module": "@jupyter-widgets/controls",
          "model_name": "HTMLModel",
          "model_module_version": "1.5.0",
          "state": {
            "_view_name": "HTMLView",
            "style": "IPY_MODEL_b32881a55ab64c4d9ccb9eece2e50c0d",
            "_dom_classes": [],
            "description": "",
            "_model_name": "HTMLModel",
            "placeholder": "​",
            "_view_module": "@jupyter-widgets/controls",
            "_model_module_version": "1.5.0",
            "value": " 226k/226k [00:00&lt;00:00, 476kB/s]",
            "_view_count": null,
            "_view_module_version": "1.5.0",
            "description_tooltip": null,
            "_model_module": "@jupyter-widgets/controls",
            "layout": "IPY_MODEL_d521182ebcf244e4aaaffaf4b301d927"
          }
        },
        "50c2119938804617b2010f8b8a55d16e": {
          "model_module": "@jupyter-widgets/controls",
          "model_name": "DescriptionStyleModel",
          "model_module_version": "1.5.0",
          "state": {
            "_view_name": "StyleView",
            "_model_name": "DescriptionStyleModel",
            "description_width": "",
            "_view_module": "@jupyter-widgets/base",
            "_model_module_version": "1.5.0",
            "_view_count": null,
            "_view_module_version": "1.2.0",
            "_model_module": "@jupyter-widgets/controls"
          }
        },
        "237462ae1b944c98913574fcccf2a020": {
          "model_module": "@jupyter-widgets/base",
          "model_name": "LayoutModel",
          "model_module_version": "1.2.0",
          "state": {
            "_view_name": "LayoutView",
            "grid_template_rows": null,
            "right": null,
            "justify_content": null,
            "_view_module": "@jupyter-widgets/base",
            "overflow": null,
            "_model_module_version": "1.2.0",
            "_view_count": null,
            "flex_flow": null,
            "width": null,
            "min_width": null,
            "border": null,
            "align_items": null,
            "bottom": null,
            "_model_module": "@jupyter-widgets/base",
            "top": null,
            "grid_column": null,
            "overflow_y": null,
            "overflow_x": null,
            "grid_auto_flow": null,
            "grid_area": null,
            "grid_template_columns": null,
            "flex": null,
            "_model_name": "LayoutModel",
            "justify_items": null,
            "grid_row": null,
            "max_height": null,
            "align_content": null,
            "visibility": null,
            "align_self": null,
            "height": null,
            "min_height": null,
            "padding": null,
            "grid_auto_rows": null,
            "grid_gap": null,
            "max_width": null,
            "order": null,
            "_view_module_version": "1.2.0",
            "grid_template_areas": null,
            "object_position": null,
            "object_fit": null,
            "grid_auto_columns": null,
            "margin": null,
            "display": null,
            "left": null
          }
        },
        "6bb1038e276443dbb0ca29c11e22a691": {
          "model_module": "@jupyter-widgets/controls",
          "model_name": "ProgressStyleModel",
          "model_module_version": "1.5.0",
          "state": {
            "_view_name": "StyleView",
            "_model_name": "ProgressStyleModel",
            "description_width": "",
            "_view_module": "@jupyter-widgets/base",
            "_model_module_version": "1.5.0",
            "_view_count": null,
            "_view_module_version": "1.2.0",
            "bar_color": null,
            "_model_module": "@jupyter-widgets/controls"
          }
        },
        "2733ddb87385457b99505f51f7b82625": {
          "model_module": "@jupyter-widgets/base",
          "model_name": "LayoutModel",
          "model_module_version": "1.2.0",
          "state": {
            "_view_name": "LayoutView",
            "grid_template_rows": null,
            "right": null,
            "justify_content": null,
            "_view_module": "@jupyter-widgets/base",
            "overflow": null,
            "_model_module_version": "1.2.0",
            "_view_count": null,
            "flex_flow": null,
            "width": null,
            "min_width": null,
            "border": null,
            "align_items": null,
            "bottom": null,
            "_model_module": "@jupyter-widgets/base",
            "top": null,
            "grid_column": null,
            "overflow_y": null,
            "overflow_x": null,
            "grid_auto_flow": null,
            "grid_area": null,
            "grid_template_columns": null,
            "flex": null,
            "_model_name": "LayoutModel",
            "justify_items": null,
            "grid_row": null,
            "max_height": null,
            "align_content": null,
            "visibility": null,
            "align_self": null,
            "height": null,
            "min_height": null,
            "padding": null,
            "grid_auto_rows": null,
            "grid_gap": null,
            "max_width": null,
            "order": null,
            "_view_module_version": "1.2.0",
            "grid_template_areas": null,
            "object_position": null,
            "object_fit": null,
            "grid_auto_columns": null,
            "margin": null,
            "display": null,
            "left": null
          }
        },
        "b32881a55ab64c4d9ccb9eece2e50c0d": {
          "model_module": "@jupyter-widgets/controls",
          "model_name": "DescriptionStyleModel",
          "model_module_version": "1.5.0",
          "state": {
            "_view_name": "StyleView",
            "_model_name": "DescriptionStyleModel",
            "description_width": "",
            "_view_module": "@jupyter-widgets/base",
            "_model_module_version": "1.5.0",
            "_view_count": null,
            "_view_module_version": "1.2.0",
            "_model_module": "@jupyter-widgets/controls"
          }
        },
        "d521182ebcf244e4aaaffaf4b301d927": {
          "model_module": "@jupyter-widgets/base",
          "model_name": "LayoutModel",
          "model_module_version": "1.2.0",
          "state": {
            "_view_name": "LayoutView",
            "grid_template_rows": null,
            "right": null,
            "justify_content": null,
            "_view_module": "@jupyter-widgets/base",
            "overflow": null,
            "_model_module_version": "1.2.0",
            "_view_count": null,
            "flex_flow": null,
            "width": null,
            "min_width": null,
            "border": null,
            "align_items": null,
            "bottom": null,
            "_model_module": "@jupyter-widgets/base",
            "top": null,
            "grid_column": null,
            "overflow_y": null,
            "overflow_x": null,
            "grid_auto_flow": null,
            "grid_area": null,
            "grid_template_columns": null,
            "flex": null,
            "_model_name": "LayoutModel",
            "justify_items": null,
            "grid_row": null,
            "max_height": null,
            "align_content": null,
            "visibility": null,
            "align_self": null,
            "height": null,
            "min_height": null,
            "padding": null,
            "grid_auto_rows": null,
            "grid_gap": null,
            "max_width": null,
            "order": null,
            "_view_module_version": "1.2.0",
            "grid_template_areas": null,
            "object_position": null,
            "object_fit": null,
            "grid_auto_columns": null,
            "margin": null,
            "display": null,
            "left": null
          }
        },
        "4249d35f17e84f23a7cf6af4b63b4653": {
          "model_module": "@jupyter-widgets/controls",
          "model_name": "HBoxModel",
          "model_module_version": "1.5.0",
          "state": {
            "_view_name": "HBoxView",
            "_dom_classes": [],
            "_model_name": "HBoxModel",
            "_view_module": "@jupyter-widgets/controls",
            "_model_module_version": "1.5.0",
            "_view_count": null,
            "_view_module_version": "1.5.0",
            "box_style": "",
            "layout": "IPY_MODEL_481bb32b47ea4be2be1b5d08461958ba",
            "_model_module": "@jupyter-widgets/controls",
            "children": [
              "IPY_MODEL_9c8cb7b3f69b4584ad28522339508014",
              "IPY_MODEL_85178cfa2dbd4d569b9d30e9b3d472b7",
              "IPY_MODEL_f7938afbaae64179a34afa2410fc7dce"
            ]
          }
        },
        "481bb32b47ea4be2be1b5d08461958ba": {
          "model_module": "@jupyter-widgets/base",
          "model_name": "LayoutModel",
          "model_module_version": "1.2.0",
          "state": {
            "_view_name": "LayoutView",
            "grid_template_rows": null,
            "right": null,
            "justify_content": null,
            "_view_module": "@jupyter-widgets/base",
            "overflow": null,
            "_model_module_version": "1.2.0",
            "_view_count": null,
            "flex_flow": null,
            "width": null,
            "min_width": null,
            "border": null,
            "align_items": null,
            "bottom": null,
            "_model_module": "@jupyter-widgets/base",
            "top": null,
            "grid_column": null,
            "overflow_y": null,
            "overflow_x": null,
            "grid_auto_flow": null,
            "grid_area": null,
            "grid_template_columns": null,
            "flex": null,
            "_model_name": "LayoutModel",
            "justify_items": null,
            "grid_row": null,
            "max_height": null,
            "align_content": null,
            "visibility": null,
            "align_self": null,
            "height": null,
            "min_height": null,
            "padding": null,
            "grid_auto_rows": null,
            "grid_gap": null,
            "max_width": null,
            "order": null,
            "_view_module_version": "1.2.0",
            "grid_template_areas": null,
            "object_position": null,
            "object_fit": null,
            "grid_auto_columns": null,
            "margin": null,
            "display": null,
            "left": null
          }
        },
        "9c8cb7b3f69b4584ad28522339508014": {
          "model_module": "@jupyter-widgets/controls",
          "model_name": "HTMLModel",
          "model_module_version": "1.5.0",
          "state": {
            "_view_name": "HTMLView",
            "style": "IPY_MODEL_a552141bcf1547219a3dfb399ad725f0",
            "_dom_classes": [],
            "description": "",
            "_model_name": "HTMLModel",
            "placeholder": "​",
            "_view_module": "@jupyter-widgets/controls",
            "_model_module_version": "1.5.0",
            "value": "Downloading: 100%",
            "_view_count": null,
            "_view_module_version": "1.5.0",
            "description_tooltip": null,
            "_model_module": "@jupyter-widgets/controls",
            "layout": "IPY_MODEL_bf17f0fc8d594d9999499606545c11d9"
          }
        },
        "85178cfa2dbd4d569b9d30e9b3d472b7": {
          "model_module": "@jupyter-widgets/controls",
          "model_name": "FloatProgressModel",
          "model_module_version": "1.5.0",
          "state": {
            "_view_name": "ProgressView",
            "style": "IPY_MODEL_7639b3685f7244609e4ba210198d4037",
            "_dom_classes": [],
            "description": "",
            "_model_name": "FloatProgressModel",
            "bar_style": "success",
            "max": 28,
            "_view_module": "@jupyter-widgets/controls",
            "_model_module_version": "1.5.0",
            "value": 28,
            "_view_count": null,
            "_view_module_version": "1.5.0",
            "orientation": "horizontal",
            "min": 0,
            "description_tooltip": null,
            "_model_module": "@jupyter-widgets/controls",
            "layout": "IPY_MODEL_94cf8059f430469885330c529a79a6d4"
          }
        },
        "f7938afbaae64179a34afa2410fc7dce": {
          "model_module": "@jupyter-widgets/controls",
          "model_name": "HTMLModel",
          "model_module_version": "1.5.0",
          "state": {
            "_view_name": "HTMLView",
            "style": "IPY_MODEL_607d90cdb8d642d78b909457da2231c9",
            "_dom_classes": [],
            "description": "",
            "_model_name": "HTMLModel",
            "placeholder": "​",
            "_view_module": "@jupyter-widgets/controls",
            "_model_module_version": "1.5.0",
            "value": " 28.0/28.0 [00:00&lt;00:00, 344B/s]",
            "_view_count": null,
            "_view_module_version": "1.5.0",
            "description_tooltip": null,
            "_model_module": "@jupyter-widgets/controls",
            "layout": "IPY_MODEL_7c994908b17b47ccac20af629ef04b2b"
          }
        },
        "a552141bcf1547219a3dfb399ad725f0": {
          "model_module": "@jupyter-widgets/controls",
          "model_name": "DescriptionStyleModel",
          "model_module_version": "1.5.0",
          "state": {
            "_view_name": "StyleView",
            "_model_name": "DescriptionStyleModel",
            "description_width": "",
            "_view_module": "@jupyter-widgets/base",
            "_model_module_version": "1.5.0",
            "_view_count": null,
            "_view_module_version": "1.2.0",
            "_model_module": "@jupyter-widgets/controls"
          }
        },
        "bf17f0fc8d594d9999499606545c11d9": {
          "model_module": "@jupyter-widgets/base",
          "model_name": "LayoutModel",
          "model_module_version": "1.2.0",
          "state": {
            "_view_name": "LayoutView",
            "grid_template_rows": null,
            "right": null,
            "justify_content": null,
            "_view_module": "@jupyter-widgets/base",
            "overflow": null,
            "_model_module_version": "1.2.0",
            "_view_count": null,
            "flex_flow": null,
            "width": null,
            "min_width": null,
            "border": null,
            "align_items": null,
            "bottom": null,
            "_model_module": "@jupyter-widgets/base",
            "top": null,
            "grid_column": null,
            "overflow_y": null,
            "overflow_x": null,
            "grid_auto_flow": null,
            "grid_area": null,
            "grid_template_columns": null,
            "flex": null,
            "_model_name": "LayoutModel",
            "justify_items": null,
            "grid_row": null,
            "max_height": null,
            "align_content": null,
            "visibility": null,
            "align_self": null,
            "height": null,
            "min_height": null,
            "padding": null,
            "grid_auto_rows": null,
            "grid_gap": null,
            "max_width": null,
            "order": null,
            "_view_module_version": "1.2.0",
            "grid_template_areas": null,
            "object_position": null,
            "object_fit": null,
            "grid_auto_columns": null,
            "margin": null,
            "display": null,
            "left": null
          }
        },
        "7639b3685f7244609e4ba210198d4037": {
          "model_module": "@jupyter-widgets/controls",
          "model_name": "ProgressStyleModel",
          "model_module_version": "1.5.0",
          "state": {
            "_view_name": "StyleView",
            "_model_name": "ProgressStyleModel",
            "description_width": "",
            "_view_module": "@jupyter-widgets/base",
            "_model_module_version": "1.5.0",
            "_view_count": null,
            "_view_module_version": "1.2.0",
            "bar_color": null,
            "_model_module": "@jupyter-widgets/controls"
          }
        },
        "94cf8059f430469885330c529a79a6d4": {
          "model_module": "@jupyter-widgets/base",
          "model_name": "LayoutModel",
          "model_module_version": "1.2.0",
          "state": {
            "_view_name": "LayoutView",
            "grid_template_rows": null,
            "right": null,
            "justify_content": null,
            "_view_module": "@jupyter-widgets/base",
            "overflow": null,
            "_model_module_version": "1.2.0",
            "_view_count": null,
            "flex_flow": null,
            "width": null,
            "min_width": null,
            "border": null,
            "align_items": null,
            "bottom": null,
            "_model_module": "@jupyter-widgets/base",
            "top": null,
            "grid_column": null,
            "overflow_y": null,
            "overflow_x": null,
            "grid_auto_flow": null,
            "grid_area": null,
            "grid_template_columns": null,
            "flex": null,
            "_model_name": "LayoutModel",
            "justify_items": null,
            "grid_row": null,
            "max_height": null,
            "align_content": null,
            "visibility": null,
            "align_self": null,
            "height": null,
            "min_height": null,
            "padding": null,
            "grid_auto_rows": null,
            "grid_gap": null,
            "max_width": null,
            "order": null,
            "_view_module_version": "1.2.0",
            "grid_template_areas": null,
            "object_position": null,
            "object_fit": null,
            "grid_auto_columns": null,
            "margin": null,
            "display": null,
            "left": null
          }
        },
        "607d90cdb8d642d78b909457da2231c9": {
          "model_module": "@jupyter-widgets/controls",
          "model_name": "DescriptionStyleModel",
          "model_module_version": "1.5.0",
          "state": {
            "_view_name": "StyleView",
            "_model_name": "DescriptionStyleModel",
            "description_width": "",
            "_view_module": "@jupyter-widgets/base",
            "_model_module_version": "1.5.0",
            "_view_count": null,
            "_view_module_version": "1.2.0",
            "_model_module": "@jupyter-widgets/controls"
          }
        },
        "7c994908b17b47ccac20af629ef04b2b": {
          "model_module": "@jupyter-widgets/base",
          "model_name": "LayoutModel",
          "model_module_version": "1.2.0",
          "state": {
            "_view_name": "LayoutView",
            "grid_template_rows": null,
            "right": null,
            "justify_content": null,
            "_view_module": "@jupyter-widgets/base",
            "overflow": null,
            "_model_module_version": "1.2.0",
            "_view_count": null,
            "flex_flow": null,
            "width": null,
            "min_width": null,
            "border": null,
            "align_items": null,
            "bottom": null,
            "_model_module": "@jupyter-widgets/base",
            "top": null,
            "grid_column": null,
            "overflow_y": null,
            "overflow_x": null,
            "grid_auto_flow": null,
            "grid_area": null,
            "grid_template_columns": null,
            "flex": null,
            "_model_name": "LayoutModel",
            "justify_items": null,
            "grid_row": null,
            "max_height": null,
            "align_content": null,
            "visibility": null,
            "align_self": null,
            "height": null,
            "min_height": null,
            "padding": null,
            "grid_auto_rows": null,
            "grid_gap": null,
            "max_width": null,
            "order": null,
            "_view_module_version": "1.2.0",
            "grid_template_areas": null,
            "object_position": null,
            "object_fit": null,
            "grid_auto_columns": null,
            "margin": null,
            "display": null,
            "left": null
          }
        },
        "2c640f5faa184560a1dfd51ed03c0005": {
          "model_module": "@jupyter-widgets/controls",
          "model_name": "HBoxModel",
          "model_module_version": "1.5.0",
          "state": {
            "_view_name": "HBoxView",
            "_dom_classes": [],
            "_model_name": "HBoxModel",
            "_view_module": "@jupyter-widgets/controls",
            "_model_module_version": "1.5.0",
            "_view_count": null,
            "_view_module_version": "1.5.0",
            "box_style": "",
            "layout": "IPY_MODEL_a683cfda54c64d23993cea696b0e868f",
            "_model_module": "@jupyter-widgets/controls",
            "children": [
              "IPY_MODEL_9b113802d2ed4a71a54cb41f2e07774c",
              "IPY_MODEL_c8ab86792fcb464da9f116be68b5b0f9",
              "IPY_MODEL_f0a785a7060e4c30a97afb53f639c8ee"
            ]
          }
        },
        "a683cfda54c64d23993cea696b0e868f": {
          "model_module": "@jupyter-widgets/base",
          "model_name": "LayoutModel",
          "model_module_version": "1.2.0",
          "state": {
            "_view_name": "LayoutView",
            "grid_template_rows": null,
            "right": null,
            "justify_content": null,
            "_view_module": "@jupyter-widgets/base",
            "overflow": null,
            "_model_module_version": "1.2.0",
            "_view_count": null,
            "flex_flow": null,
            "width": null,
            "min_width": null,
            "border": null,
            "align_items": null,
            "bottom": null,
            "_model_module": "@jupyter-widgets/base",
            "top": null,
            "grid_column": null,
            "overflow_y": null,
            "overflow_x": null,
            "grid_auto_flow": null,
            "grid_area": null,
            "grid_template_columns": null,
            "flex": null,
            "_model_name": "LayoutModel",
            "justify_items": null,
            "grid_row": null,
            "max_height": null,
            "align_content": null,
            "visibility": null,
            "align_self": null,
            "height": null,
            "min_height": null,
            "padding": null,
            "grid_auto_rows": null,
            "grid_gap": null,
            "max_width": null,
            "order": null,
            "_view_module_version": "1.2.0",
            "grid_template_areas": null,
            "object_position": null,
            "object_fit": null,
            "grid_auto_columns": null,
            "margin": null,
            "display": null,
            "left": null
          }
        },
        "9b113802d2ed4a71a54cb41f2e07774c": {
          "model_module": "@jupyter-widgets/controls",
          "model_name": "HTMLModel",
          "model_module_version": "1.5.0",
          "state": {
            "_view_name": "HTMLView",
            "style": "IPY_MODEL_2843111d3705481a97deb7d7b0047d65",
            "_dom_classes": [],
            "description": "",
            "_model_name": "HTMLModel",
            "placeholder": "​",
            "_view_module": "@jupyter-widgets/controls",
            "_model_module_version": "1.5.0",
            "value": "Downloading: 100%",
            "_view_count": null,
            "_view_module_version": "1.5.0",
            "description_tooltip": null,
            "_model_module": "@jupyter-widgets/controls",
            "layout": "IPY_MODEL_9671573efac94fb387a9bfc306c8e6a5"
          }
        },
        "c8ab86792fcb464da9f116be68b5b0f9": {
          "model_module": "@jupyter-widgets/controls",
          "model_name": "FloatProgressModel",
          "model_module_version": "1.5.0",
          "state": {
            "_view_name": "ProgressView",
            "style": "IPY_MODEL_8adb3a21a3e44743b371109bc79e5753",
            "_dom_classes": [],
            "description": "",
            "_model_name": "FloatProgressModel",
            "bar_style": "success",
            "max": 466062,
            "_view_module": "@jupyter-widgets/controls",
            "_model_module_version": "1.5.0",
            "value": 466062,
            "_view_count": null,
            "_view_module_version": "1.5.0",
            "orientation": "horizontal",
            "min": 0,
            "description_tooltip": null,
            "_model_module": "@jupyter-widgets/controls",
            "layout": "IPY_MODEL_4f485d896a7247f2be79f3a4df6bf449"
          }
        },
        "f0a785a7060e4c30a97afb53f639c8ee": {
          "model_module": "@jupyter-widgets/controls",
          "model_name": "HTMLModel",
          "model_module_version": "1.5.0",
          "state": {
            "_view_name": "HTMLView",
            "style": "IPY_MODEL_01554d80fd2d471c8002786e53b60fd9",
            "_dom_classes": [],
            "description": "",
            "_model_name": "HTMLModel",
            "placeholder": "​",
            "_view_module": "@jupyter-widgets/controls",
            "_model_module_version": "1.5.0",
            "value": " 455k/455k [00:00&lt;00:00, 818kB/s]",
            "_view_count": null,
            "_view_module_version": "1.5.0",
            "description_tooltip": null,
            "_model_module": "@jupyter-widgets/controls",
            "layout": "IPY_MODEL_db5bb0735c974e0e9151bd0c8a80afcd"
          }
        },
        "2843111d3705481a97deb7d7b0047d65": {
          "model_module": "@jupyter-widgets/controls",
          "model_name": "DescriptionStyleModel",
          "model_module_version": "1.5.0",
          "state": {
            "_view_name": "StyleView",
            "_model_name": "DescriptionStyleModel",
            "description_width": "",
            "_view_module": "@jupyter-widgets/base",
            "_model_module_version": "1.5.0",
            "_view_count": null,
            "_view_module_version": "1.2.0",
            "_model_module": "@jupyter-widgets/controls"
          }
        },
        "9671573efac94fb387a9bfc306c8e6a5": {
          "model_module": "@jupyter-widgets/base",
          "model_name": "LayoutModel",
          "model_module_version": "1.2.0",
          "state": {
            "_view_name": "LayoutView",
            "grid_template_rows": null,
            "right": null,
            "justify_content": null,
            "_view_module": "@jupyter-widgets/base",
            "overflow": null,
            "_model_module_version": "1.2.0",
            "_view_count": null,
            "flex_flow": null,
            "width": null,
            "min_width": null,
            "border": null,
            "align_items": null,
            "bottom": null,
            "_model_module": "@jupyter-widgets/base",
            "top": null,
            "grid_column": null,
            "overflow_y": null,
            "overflow_x": null,
            "grid_auto_flow": null,
            "grid_area": null,
            "grid_template_columns": null,
            "flex": null,
            "_model_name": "LayoutModel",
            "justify_items": null,
            "grid_row": null,
            "max_height": null,
            "align_content": null,
            "visibility": null,
            "align_self": null,
            "height": null,
            "min_height": null,
            "padding": null,
            "grid_auto_rows": null,
            "grid_gap": null,
            "max_width": null,
            "order": null,
            "_view_module_version": "1.2.0",
            "grid_template_areas": null,
            "object_position": null,
            "object_fit": null,
            "grid_auto_columns": null,
            "margin": null,
            "display": null,
            "left": null
          }
        },
        "8adb3a21a3e44743b371109bc79e5753": {
          "model_module": "@jupyter-widgets/controls",
          "model_name": "ProgressStyleModel",
          "model_module_version": "1.5.0",
          "state": {
            "_view_name": "StyleView",
            "_model_name": "ProgressStyleModel",
            "description_width": "",
            "_view_module": "@jupyter-widgets/base",
            "_model_module_version": "1.5.0",
            "_view_count": null,
            "_view_module_version": "1.2.0",
            "bar_color": null,
            "_model_module": "@jupyter-widgets/controls"
          }
        },
        "4f485d896a7247f2be79f3a4df6bf449": {
          "model_module": "@jupyter-widgets/base",
          "model_name": "LayoutModel",
          "model_module_version": "1.2.0",
          "state": {
            "_view_name": "LayoutView",
            "grid_template_rows": null,
            "right": null,
            "justify_content": null,
            "_view_module": "@jupyter-widgets/base",
            "overflow": null,
            "_model_module_version": "1.2.0",
            "_view_count": null,
            "flex_flow": null,
            "width": null,
            "min_width": null,
            "border": null,
            "align_items": null,
            "bottom": null,
            "_model_module": "@jupyter-widgets/base",
            "top": null,
            "grid_column": null,
            "overflow_y": null,
            "overflow_x": null,
            "grid_auto_flow": null,
            "grid_area": null,
            "grid_template_columns": null,
            "flex": null,
            "_model_name": "LayoutModel",
            "justify_items": null,
            "grid_row": null,
            "max_height": null,
            "align_content": null,
            "visibility": null,
            "align_self": null,
            "height": null,
            "min_height": null,
            "padding": null,
            "grid_auto_rows": null,
            "grid_gap": null,
            "max_width": null,
            "order": null,
            "_view_module_version": "1.2.0",
            "grid_template_areas": null,
            "object_position": null,
            "object_fit": null,
            "grid_auto_columns": null,
            "margin": null,
            "display": null,
            "left": null
          }
        },
        "01554d80fd2d471c8002786e53b60fd9": {
          "model_module": "@jupyter-widgets/controls",
          "model_name": "DescriptionStyleModel",
          "model_module_version": "1.5.0",
          "state": {
            "_view_name": "StyleView",
            "_model_name": "DescriptionStyleModel",
            "description_width": "",
            "_view_module": "@jupyter-widgets/base",
            "_model_module_version": "1.5.0",
            "_view_count": null,
            "_view_module_version": "1.2.0",
            "_model_module": "@jupyter-widgets/controls"
          }
        },
        "db5bb0735c974e0e9151bd0c8a80afcd": {
          "model_module": "@jupyter-widgets/base",
          "model_name": "LayoutModel",
          "model_module_version": "1.2.0",
          "state": {
            "_view_name": "LayoutView",
            "grid_template_rows": null,
            "right": null,
            "justify_content": null,
            "_view_module": "@jupyter-widgets/base",
            "overflow": null,
            "_model_module_version": "1.2.0",
            "_view_count": null,
            "flex_flow": null,
            "width": null,
            "min_width": null,
            "border": null,
            "align_items": null,
            "bottom": null,
            "_model_module": "@jupyter-widgets/base",
            "top": null,
            "grid_column": null,
            "overflow_y": null,
            "overflow_x": null,
            "grid_auto_flow": null,
            "grid_area": null,
            "grid_template_columns": null,
            "flex": null,
            "_model_name": "LayoutModel",
            "justify_items": null,
            "grid_row": null,
            "max_height": null,
            "align_content": null,
            "visibility": null,
            "align_self": null,
            "height": null,
            "min_height": null,
            "padding": null,
            "grid_auto_rows": null,
            "grid_gap": null,
            "max_width": null,
            "order": null,
            "_view_module_version": "1.2.0",
            "grid_template_areas": null,
            "object_position": null,
            "object_fit": null,
            "grid_auto_columns": null,
            "margin": null,
            "display": null,
            "left": null
          }
        },
        "7c5ae9da4755429d849743846cbc2f97": {
          "model_module": "@jupyter-widgets/controls",
          "model_name": "HBoxModel",
          "model_module_version": "1.5.0",
          "state": {
            "_view_name": "HBoxView",
            "_dom_classes": [],
            "_model_name": "HBoxModel",
            "_view_module": "@jupyter-widgets/controls",
            "_model_module_version": "1.5.0",
            "_view_count": null,
            "_view_module_version": "1.5.0",
            "box_style": "",
            "layout": "IPY_MODEL_a536d590ee2249a0820a58b47c4c4702",
            "_model_module": "@jupyter-widgets/controls",
            "children": [
              "IPY_MODEL_5d9d1aa82b9a4dd98b804306b97e0549",
              "IPY_MODEL_d21690f5a0c443c9a6cb2fa73c6e0f58",
              "IPY_MODEL_3df3f9645ef04e278eb8609d686d2e88"
            ]
          }
        },
        "a536d590ee2249a0820a58b47c4c4702": {
          "model_module": "@jupyter-widgets/base",
          "model_name": "LayoutModel",
          "model_module_version": "1.2.0",
          "state": {
            "_view_name": "LayoutView",
            "grid_template_rows": null,
            "right": null,
            "justify_content": null,
            "_view_module": "@jupyter-widgets/base",
            "overflow": null,
            "_model_module_version": "1.2.0",
            "_view_count": null,
            "flex_flow": null,
            "width": null,
            "min_width": null,
            "border": null,
            "align_items": null,
            "bottom": null,
            "_model_module": "@jupyter-widgets/base",
            "top": null,
            "grid_column": null,
            "overflow_y": null,
            "overflow_x": null,
            "grid_auto_flow": null,
            "grid_area": null,
            "grid_template_columns": null,
            "flex": null,
            "_model_name": "LayoutModel",
            "justify_items": null,
            "grid_row": null,
            "max_height": null,
            "align_content": null,
            "visibility": null,
            "align_self": null,
            "height": null,
            "min_height": null,
            "padding": null,
            "grid_auto_rows": null,
            "grid_gap": null,
            "max_width": null,
            "order": null,
            "_view_module_version": "1.2.0",
            "grid_template_areas": null,
            "object_position": null,
            "object_fit": null,
            "grid_auto_columns": null,
            "margin": null,
            "display": null,
            "left": null
          }
        },
        "5d9d1aa82b9a4dd98b804306b97e0549": {
          "model_module": "@jupyter-widgets/controls",
          "model_name": "HTMLModel",
          "model_module_version": "1.5.0",
          "state": {
            "_view_name": "HTMLView",
            "style": "IPY_MODEL_1d965f382d7748e684e8161158ad2273",
            "_dom_classes": [],
            "description": "",
            "_model_name": "HTMLModel",
            "placeholder": "​",
            "_view_module": "@jupyter-widgets/controls",
            "_model_module_version": "1.5.0",
            "value": "Downloading: 100%",
            "_view_count": null,
            "_view_module_version": "1.5.0",
            "description_tooltip": null,
            "_model_module": "@jupyter-widgets/controls",
            "layout": "IPY_MODEL_aad3c6c2b18d4f04b03fe799973dd302"
          }
        },
        "d21690f5a0c443c9a6cb2fa73c6e0f58": {
          "model_module": "@jupyter-widgets/controls",
          "model_name": "FloatProgressModel",
          "model_module_version": "1.5.0",
          "state": {
            "_view_name": "ProgressView",
            "style": "IPY_MODEL_1323984b3120468c9fd9857eca8b3d96",
            "_dom_classes": [],
            "description": "",
            "_model_name": "FloatProgressModel",
            "bar_style": "success",
            "max": 570,
            "_view_module": "@jupyter-widgets/controls",
            "_model_module_version": "1.5.0",
            "value": 570,
            "_view_count": null,
            "_view_module_version": "1.5.0",
            "orientation": "horizontal",
            "min": 0,
            "description_tooltip": null,
            "_model_module": "@jupyter-widgets/controls",
            "layout": "IPY_MODEL_b6894c84d6c2438b9e370e844bb2e7d9"
          }
        },
        "3df3f9645ef04e278eb8609d686d2e88": {
          "model_module": "@jupyter-widgets/controls",
          "model_name": "HTMLModel",
          "model_module_version": "1.5.0",
          "state": {
            "_view_name": "HTMLView",
            "style": "IPY_MODEL_d498effe32f04dbaab0e889b72ef80bc",
            "_dom_classes": [],
            "description": "",
            "_model_name": "HTMLModel",
            "placeholder": "​",
            "_view_module": "@jupyter-widgets/controls",
            "_model_module_version": "1.5.0",
            "value": " 570/570 [00:00&lt;00:00, 12.3kB/s]",
            "_view_count": null,
            "_view_module_version": "1.5.0",
            "description_tooltip": null,
            "_model_module": "@jupyter-widgets/controls",
            "layout": "IPY_MODEL_f83de7949b064d089ae7a2a5363010dc"
          }
        },
        "1d965f382d7748e684e8161158ad2273": {
          "model_module": "@jupyter-widgets/controls",
          "model_name": "DescriptionStyleModel",
          "model_module_version": "1.5.0",
          "state": {
            "_view_name": "StyleView",
            "_model_name": "DescriptionStyleModel",
            "description_width": "",
            "_view_module": "@jupyter-widgets/base",
            "_model_module_version": "1.5.0",
            "_view_count": null,
            "_view_module_version": "1.2.0",
            "_model_module": "@jupyter-widgets/controls"
          }
        },
        "aad3c6c2b18d4f04b03fe799973dd302": {
          "model_module": "@jupyter-widgets/base",
          "model_name": "LayoutModel",
          "model_module_version": "1.2.0",
          "state": {
            "_view_name": "LayoutView",
            "grid_template_rows": null,
            "right": null,
            "justify_content": null,
            "_view_module": "@jupyter-widgets/base",
            "overflow": null,
            "_model_module_version": "1.2.0",
            "_view_count": null,
            "flex_flow": null,
            "width": null,
            "min_width": null,
            "border": null,
            "align_items": null,
            "bottom": null,
            "_model_module": "@jupyter-widgets/base",
            "top": null,
            "grid_column": null,
            "overflow_y": null,
            "overflow_x": null,
            "grid_auto_flow": null,
            "grid_area": null,
            "grid_template_columns": null,
            "flex": null,
            "_model_name": "LayoutModel",
            "justify_items": null,
            "grid_row": null,
            "max_height": null,
            "align_content": null,
            "visibility": null,
            "align_self": null,
            "height": null,
            "min_height": null,
            "padding": null,
            "grid_auto_rows": null,
            "grid_gap": null,
            "max_width": null,
            "order": null,
            "_view_module_version": "1.2.0",
            "grid_template_areas": null,
            "object_position": null,
            "object_fit": null,
            "grid_auto_columns": null,
            "margin": null,
            "display": null,
            "left": null
          }
        },
        "1323984b3120468c9fd9857eca8b3d96": {
          "model_module": "@jupyter-widgets/controls",
          "model_name": "ProgressStyleModel",
          "model_module_version": "1.5.0",
          "state": {
            "_view_name": "StyleView",
            "_model_name": "ProgressStyleModel",
            "description_width": "",
            "_view_module": "@jupyter-widgets/base",
            "_model_module_version": "1.5.0",
            "_view_count": null,
            "_view_module_version": "1.2.0",
            "bar_color": null,
            "_model_module": "@jupyter-widgets/controls"
          }
        },
        "b6894c84d6c2438b9e370e844bb2e7d9": {
          "model_module": "@jupyter-widgets/base",
          "model_name": "LayoutModel",
          "model_module_version": "1.2.0",
          "state": {
            "_view_name": "LayoutView",
            "grid_template_rows": null,
            "right": null,
            "justify_content": null,
            "_view_module": "@jupyter-widgets/base",
            "overflow": null,
            "_model_module_version": "1.2.0",
            "_view_count": null,
            "flex_flow": null,
            "width": null,
            "min_width": null,
            "border": null,
            "align_items": null,
            "bottom": null,
            "_model_module": "@jupyter-widgets/base",
            "top": null,
            "grid_column": null,
            "overflow_y": null,
            "overflow_x": null,
            "grid_auto_flow": null,
            "grid_area": null,
            "grid_template_columns": null,
            "flex": null,
            "_model_name": "LayoutModel",
            "justify_items": null,
            "grid_row": null,
            "max_height": null,
            "align_content": null,
            "visibility": null,
            "align_self": null,
            "height": null,
            "min_height": null,
            "padding": null,
            "grid_auto_rows": null,
            "grid_gap": null,
            "max_width": null,
            "order": null,
            "_view_module_version": "1.2.0",
            "grid_template_areas": null,
            "object_position": null,
            "object_fit": null,
            "grid_auto_columns": null,
            "margin": null,
            "display": null,
            "left": null
          }
        },
        "d498effe32f04dbaab0e889b72ef80bc": {
          "model_module": "@jupyter-widgets/controls",
          "model_name": "DescriptionStyleModel",
          "model_module_version": "1.5.0",
          "state": {
            "_view_name": "StyleView",
            "_model_name": "DescriptionStyleModel",
            "description_width": "",
            "_view_module": "@jupyter-widgets/base",
            "_model_module_version": "1.5.0",
            "_view_count": null,
            "_view_module_version": "1.2.0",
            "_model_module": "@jupyter-widgets/controls"
          }
        },
        "f83de7949b064d089ae7a2a5363010dc": {
          "model_module": "@jupyter-widgets/base",
          "model_name": "LayoutModel",
          "model_module_version": "1.2.0",
          "state": {
            "_view_name": "LayoutView",
            "grid_template_rows": null,
            "right": null,
            "justify_content": null,
            "_view_module": "@jupyter-widgets/base",
            "overflow": null,
            "_model_module_version": "1.2.0",
            "_view_count": null,
            "flex_flow": null,
            "width": null,
            "min_width": null,
            "border": null,
            "align_items": null,
            "bottom": null,
            "_model_module": "@jupyter-widgets/base",
            "top": null,
            "grid_column": null,
            "overflow_y": null,
            "overflow_x": null,
            "grid_auto_flow": null,
            "grid_area": null,
            "grid_template_columns": null,
            "flex": null,
            "_model_name": "LayoutModel",
            "justify_items": null,
            "grid_row": null,
            "max_height": null,
            "align_content": null,
            "visibility": null,
            "align_self": null,
            "height": null,
            "min_height": null,
            "padding": null,
            "grid_auto_rows": null,
            "grid_gap": null,
            "max_width": null,
            "order": null,
            "_view_module_version": "1.2.0",
            "grid_template_areas": null,
            "object_position": null,
            "object_fit": null,
            "grid_auto_columns": null,
            "margin": null,
            "display": null,
            "left": null
          }
        },
        "f23fb5fd59ff494fb7e110f72a6d0c06": {
          "model_module": "@jupyter-widgets/controls",
          "model_name": "HBoxModel",
          "model_module_version": "1.5.0",
          "state": {
            "_view_name": "HBoxView",
            "_dom_classes": [],
            "_model_name": "HBoxModel",
            "_view_module": "@jupyter-widgets/controls",
            "_model_module_version": "1.5.0",
            "_view_count": null,
            "_view_module_version": "1.5.0",
            "box_style": "",
            "layout": "IPY_MODEL_c29966cd6fe344b998a726041f2b753a",
            "_model_module": "@jupyter-widgets/controls",
            "children": [
              "IPY_MODEL_5423fb162c6644b8bb628f2993427dc1",
              "IPY_MODEL_16dde8d01d7c49e3b74f67fa576f4b7a",
              "IPY_MODEL_633d99b2fed442b787b3767feff11359"
            ]
          }
        },
        "c29966cd6fe344b998a726041f2b753a": {
          "model_module": "@jupyter-widgets/base",
          "model_name": "LayoutModel",
          "model_module_version": "1.2.0",
          "state": {
            "_view_name": "LayoutView",
            "grid_template_rows": null,
            "right": null,
            "justify_content": null,
            "_view_module": "@jupyter-widgets/base",
            "overflow": null,
            "_model_module_version": "1.2.0",
            "_view_count": null,
            "flex_flow": null,
            "width": null,
            "min_width": null,
            "border": null,
            "align_items": null,
            "bottom": null,
            "_model_module": "@jupyter-widgets/base",
            "top": null,
            "grid_column": null,
            "overflow_y": null,
            "overflow_x": null,
            "grid_auto_flow": null,
            "grid_area": null,
            "grid_template_columns": null,
            "flex": null,
            "_model_name": "LayoutModel",
            "justify_items": null,
            "grid_row": null,
            "max_height": null,
            "align_content": null,
            "visibility": null,
            "align_self": null,
            "height": null,
            "min_height": null,
            "padding": null,
            "grid_auto_rows": null,
            "grid_gap": null,
            "max_width": null,
            "order": null,
            "_view_module_version": "1.2.0",
            "grid_template_areas": null,
            "object_position": null,
            "object_fit": null,
            "grid_auto_columns": null,
            "margin": null,
            "display": null,
            "left": null
          }
        },
        "5423fb162c6644b8bb628f2993427dc1": {
          "model_module": "@jupyter-widgets/controls",
          "model_name": "HTMLModel",
          "model_module_version": "1.5.0",
          "state": {
            "_view_name": "HTMLView",
            "style": "IPY_MODEL_4f1b79966cdb44d5955e4e72a5dc7ed5",
            "_dom_classes": [],
            "description": "",
            "_model_name": "HTMLModel",
            "placeholder": "​",
            "_view_module": "@jupyter-widgets/controls",
            "_model_module_version": "1.5.0",
            "value": "Downloading: 100%",
            "_view_count": null,
            "_view_module_version": "1.5.0",
            "description_tooltip": null,
            "_model_module": "@jupyter-widgets/controls",
            "layout": "IPY_MODEL_625122a5065642ff961141a010d7494a"
          }
        },
        "16dde8d01d7c49e3b74f67fa576f4b7a": {
          "model_module": "@jupyter-widgets/controls",
          "model_name": "FloatProgressModel",
          "model_module_version": "1.5.0",
          "state": {
            "_view_name": "ProgressView",
            "style": "IPY_MODEL_90e4399373754915b3a6c1dbac4ff176",
            "_dom_classes": [],
            "description": "",
            "_model_name": "FloatProgressModel",
            "bar_style": "success",
            "max": 536063208,
            "_view_module": "@jupyter-widgets/controls",
            "_model_module_version": "1.5.0",
            "value": 536063208,
            "_view_count": null,
            "_view_module_version": "1.5.0",
            "orientation": "horizontal",
            "min": 0,
            "description_tooltip": null,
            "_model_module": "@jupyter-widgets/controls",
            "layout": "IPY_MODEL_dc7232c01f2d44bda850e95b26034e0b"
          }
        },
        "633d99b2fed442b787b3767feff11359": {
          "model_module": "@jupyter-widgets/controls",
          "model_name": "HTMLModel",
          "model_module_version": "1.5.0",
          "state": {
            "_view_name": "HTMLView",
            "style": "IPY_MODEL_0d7630b8cf3d47dca247d00039905d74",
            "_dom_classes": [],
            "description": "",
            "_model_name": "HTMLModel",
            "placeholder": "​",
            "_view_module": "@jupyter-widgets/controls",
            "_model_module_version": "1.5.0",
            "value": " 511M/511M [00:15&lt;00:00, 30.4MB/s]",
            "_view_count": null,
            "_view_module_version": "1.5.0",
            "description_tooltip": null,
            "_model_module": "@jupyter-widgets/controls",
            "layout": "IPY_MODEL_45e6572ac116412a8418a84679527ea8"
          }
        },
        "4f1b79966cdb44d5955e4e72a5dc7ed5": {
          "model_module": "@jupyter-widgets/controls",
          "model_name": "DescriptionStyleModel",
          "model_module_version": "1.5.0",
          "state": {
            "_view_name": "StyleView",
            "_model_name": "DescriptionStyleModel",
            "description_width": "",
            "_view_module": "@jupyter-widgets/base",
            "_model_module_version": "1.5.0",
            "_view_count": null,
            "_view_module_version": "1.2.0",
            "_model_module": "@jupyter-widgets/controls"
          }
        },
        "625122a5065642ff961141a010d7494a": {
          "model_module": "@jupyter-widgets/base",
          "model_name": "LayoutModel",
          "model_module_version": "1.2.0",
          "state": {
            "_view_name": "LayoutView",
            "grid_template_rows": null,
            "right": null,
            "justify_content": null,
            "_view_module": "@jupyter-widgets/base",
            "overflow": null,
            "_model_module_version": "1.2.0",
            "_view_count": null,
            "flex_flow": null,
            "width": null,
            "min_width": null,
            "border": null,
            "align_items": null,
            "bottom": null,
            "_model_module": "@jupyter-widgets/base",
            "top": null,
            "grid_column": null,
            "overflow_y": null,
            "overflow_x": null,
            "grid_auto_flow": null,
            "grid_area": null,
            "grid_template_columns": null,
            "flex": null,
            "_model_name": "LayoutModel",
            "justify_items": null,
            "grid_row": null,
            "max_height": null,
            "align_content": null,
            "visibility": null,
            "align_self": null,
            "height": null,
            "min_height": null,
            "padding": null,
            "grid_auto_rows": null,
            "grid_gap": null,
            "max_width": null,
            "order": null,
            "_view_module_version": "1.2.0",
            "grid_template_areas": null,
            "object_position": null,
            "object_fit": null,
            "grid_auto_columns": null,
            "margin": null,
            "display": null,
            "left": null
          }
        },
        "90e4399373754915b3a6c1dbac4ff176": {
          "model_module": "@jupyter-widgets/controls",
          "model_name": "ProgressStyleModel",
          "model_module_version": "1.5.0",
          "state": {
            "_view_name": "StyleView",
            "_model_name": "ProgressStyleModel",
            "description_width": "",
            "_view_module": "@jupyter-widgets/base",
            "_model_module_version": "1.5.0",
            "_view_count": null,
            "_view_module_version": "1.2.0",
            "bar_color": null,
            "_model_module": "@jupyter-widgets/controls"
          }
        },
        "dc7232c01f2d44bda850e95b26034e0b": {
          "model_module": "@jupyter-widgets/base",
          "model_name": "LayoutModel",
          "model_module_version": "1.2.0",
          "state": {
            "_view_name": "LayoutView",
            "grid_template_rows": null,
            "right": null,
            "justify_content": null,
            "_view_module": "@jupyter-widgets/base",
            "overflow": null,
            "_model_module_version": "1.2.0",
            "_view_count": null,
            "flex_flow": null,
            "width": null,
            "min_width": null,
            "border": null,
            "align_items": null,
            "bottom": null,
            "_model_module": "@jupyter-widgets/base",
            "top": null,
            "grid_column": null,
            "overflow_y": null,
            "overflow_x": null,
            "grid_auto_flow": null,
            "grid_area": null,
            "grid_template_columns": null,
            "flex": null,
            "_model_name": "LayoutModel",
            "justify_items": null,
            "grid_row": null,
            "max_height": null,
            "align_content": null,
            "visibility": null,
            "align_self": null,
            "height": null,
            "min_height": null,
            "padding": null,
            "grid_auto_rows": null,
            "grid_gap": null,
            "max_width": null,
            "order": null,
            "_view_module_version": "1.2.0",
            "grid_template_areas": null,
            "object_position": null,
            "object_fit": null,
            "grid_auto_columns": null,
            "margin": null,
            "display": null,
            "left": null
          }
        },
        "0d7630b8cf3d47dca247d00039905d74": {
          "model_module": "@jupyter-widgets/controls",
          "model_name": "DescriptionStyleModel",
          "model_module_version": "1.5.0",
          "state": {
            "_view_name": "StyleView",
            "_model_name": "DescriptionStyleModel",
            "description_width": "",
            "_view_module": "@jupyter-widgets/base",
            "_model_module_version": "1.5.0",
            "_view_count": null,
            "_view_module_version": "1.2.0",
            "_model_module": "@jupyter-widgets/controls"
          }
        },
        "45e6572ac116412a8418a84679527ea8": {
          "model_module": "@jupyter-widgets/base",
          "model_name": "LayoutModel",
          "model_module_version": "1.2.0",
          "state": {
            "_view_name": "LayoutView",
            "grid_template_rows": null,
            "right": null,
            "justify_content": null,
            "_view_module": "@jupyter-widgets/base",
            "overflow": null,
            "_model_module_version": "1.2.0",
            "_view_count": null,
            "flex_flow": null,
            "width": null,
            "min_width": null,
            "border": null,
            "align_items": null,
            "bottom": null,
            "_model_module": "@jupyter-widgets/base",
            "top": null,
            "grid_column": null,
            "overflow_y": null,
            "overflow_x": null,
            "grid_auto_flow": null,
            "grid_area": null,
            "grid_template_columns": null,
            "flex": null,
            "_model_name": "LayoutModel",
            "justify_items": null,
            "grid_row": null,
            "max_height": null,
            "align_content": null,
            "visibility": null,
            "align_self": null,
            "height": null,
            "min_height": null,
            "padding": null,
            "grid_auto_rows": null,
            "grid_gap": null,
            "max_width": null,
            "order": null,
            "_view_module_version": "1.2.0",
            "grid_template_areas": null,
            "object_position": null,
            "object_fit": null,
            "grid_auto_columns": null,
            "margin": null,
            "display": null,
            "left": null
          }
        }
      }
    }
  },
  "cells": [
    {
      "cell_type": "markdown",
      "metadata": {
        "id": "9MPAcXbaSsPa"
      },
      "source": [
           "![Screen Shot 2021-12-16 at 12.14.18 pm.png](data:image/png;base64,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)"]

    },
    {
      "cell_type": "markdown",
      "metadata": {
        "id": "BJwhzHSmUIEa"
      },
      "source": [
        "#*Project AIMS (AI against Modern Slavery)*\n",
        "---\n",
        "\n",
        "\n"
      ]
    },
    {
      "cell_type": "markdown",
      "metadata": {
        "id": "6l5CwRZ9ufYH"
      },
      "source": [
        "##💻 Note: You can run this notebook locally or on Google Colab following this [link](https://drive.google.com/file/d/1t0v8BxLQuCmUkebMrnn9mLlpMe9CLqzj/view?usp=sharing)."
      ]
    },
    {
      "cell_type": "markdown",
      "metadata": {
        "id": "GM2DCUhz7DAf"
      },
      "source": [
        " \n",
        "# Risk assessment\n",
        "## How does the company assess the risks of modern slavery and trafficking in their supply chain?\n",
        " \n",
        "After eliciting their supply chain risks, an organisation must then evaluate the risk of modern slavery to make decisions to take specific actions against modern slavery. This assessment can be executed as part of an organisation’s wider approach to risk but should give specific information about modern slavery risk and also data related to the company’s size, structure, location of supply chains, and nature of business. This metric refers to the tools or mechanisms that companies use to assess risk.\n",
        " \n",
        "This metric asks how a company assesses risks, not the identification of these risks. These risk assessment tools must be specific to modern slavery and go beyond general tools related to Corporate Social Responsibility (CSR).\n",
        "This can include:\n",
        "Requiring all new suppliers to complete risk-based questionnaires,\n",
        "The use of a specified risk management database or tool, such as Maplecroft, or Sedex, or Researching to assess risk. This can include using existing research such as the Global Slavery Index, the Corruption Perception Index; Human Rights Watch reports, Amnesty International Reports or reports produced by the UN.\n",
        " \n",
        "For more information about this metric, please refer to  [WikiRate’s Research on MSA risk assessment metric](https://wikirate.org/Walk_Free_Foundation+MSA_risk_assessment), or [ Home Office Guidance, pp. 34-35](https://www.gov.uk/government/uploads/system/uploads/attachment_data/file/471996/Transparency_in_Supply_Chains_etc__A_practical_guide__final_.pdf).\n",
        " \n",
        "## Labelled dataset\n",
        "When building the ground truth data for this metric, if a company outlines in the statement that it requires suppliers to complete questions, the annotators give the statement the label 'risk-based questionnaires'. If a company describes a tool, such as a risk matrix, or the use of software such as Maplecroft or Sedex, the label given is 'use of risk management tool or software. If a company describes conducting its research into its supply chain, the label was 'conducting research. If a statement had any of those labels given for this task, it was revealed with ‘Yes/1’. For each value, the annotations included a Comment that copies relevant information and page numbers from the statement.\n",
        "If the business indicates it is developing risk management tools specific to modern slavery or planning to implement one in the future, the label given by annotators was 'In Development'. Where there are no details of risk assessment strategies, the statement was labelled with 'No'. For this task, if a statement had any of those two labels, it was relabell\n",
        "ed ‘No/0’.\n",
        " \n",
        "\n"
      ]
    },
    {
      "cell_type": "code",
      "metadata": {
        "id": "HgDw0iBojido"
      },
      "source": [
        "#!pip install unidecode\n",
        "#!pip install -U -q PyDrive"
      ],
      "execution_count": null,
      "outputs": []
    },
    {
      "cell_type": "code",
      "metadata": {
        "id": "8lSkoRuA79f2"
      },
      "source": [
        "from pydrive.auth import GoogleAuth\n",
        "from pydrive.drive import GoogleDrive\n",
        "from google.colab import auth\n",
        "from oauth2client.client import GoogleCredentials\n",
        "import pandas as pd\n",
        "import warnings\n",
        "warnings.simplefilter('ignore')\n"
      ],
      "execution_count": null,
      "outputs": []
    },
    {
      "cell_type": "markdown",
      "metadata": {
        "id": "ZZqmpe5dunHW"
      },
      "source": [
        "### 🗄️ You can access the data used in this notebook [here](https://drive.google.com/file/d/1gr9PbPTaYLnhVKJ6eraJboPmvLZ_E14J/view?usp=sharing). We recommend you re-run this research with an updated version of this data which can be downloaded following these [instructions](https://github.com/the-future-society/Project-AIMS-AI-against-Modern-Slavery/tree/main/%F0%9F%97%84%EF%B8%8F%20Data%20and%20text%20extraction/WikiRate).\n",
        "\n"
      ]
    },
    {
      "cell_type": "code",
      "metadata": {
        "id": "gs3BjTHE8D3V"
      },
      "source": [
        "# Authenticate\n",
        "# Authenticate and create the PyDrive client.\n",
        "auth.authenticate_user()\n",
        "gauth = GoogleAuth()\n",
        "gauth.credentials = GoogleCredentials.get_application_default()\n",
        "drive = GoogleDrive(gauth)"
      ],
      "execution_count": null,
      "outputs": []
    },
    {
      "cell_type": "code",
      "metadata": {
        "colab": {
          "base_uri": "https://localhost:8080/"
        },
        "id": "nZFi2Ec18RLV",
        "outputId": "bed1a1d2-22f7-4cc3-c9fe-2f83cf75334d"
      },
      "source": [
        "# Extract document ID\n",
        "file_path = 'https://drive.google.com/open?id=1yh_dBs51I825YnT_H7WMs8cPLeIUdUpJ'\n",
        "fluff, id = file_path.split('=')\n",
        "print(id)\n",
        "\n",
        "downloaded = drive.CreateFile({'id':id}) \n",
        "downloaded.GetContentFile('labeled-dataset.csv')\n",
        "df3 = pd.read_csv('labeled-dataset.csv')"
      ],
      "execution_count": null,
      "outputs": [
        {
          "output_type": "stream",
          "name": "stdout",
          "text": [
            "1yh_dBs51I825YnT_H7WMs8cPLeIUdUpJ\n"
          ]
        }
      ]
    },
    {
      "cell_type": "markdown",
      "metadata": {
        "id": "o-BPqmZakm7l"
      },
      "source": [
        "## Text preprocessing\n",
        "Text preprocessing step includes:\n",
        "- stemming\n",
        "- lemmatisation\n",
        "- stop words removal\n",
        "- tokenization\n"
      ]
    },
    {
      "cell_type": "code",
      "metadata": {
        "colab": {
          "base_uri": "https://localhost:8080/"
        },
        "id": "R4LPMbOY6_K4",
        "outputId": "902cf910-df7d-422d-b043-e58cae0268f5"
      },
      "source": [
        "import os\n",
        "import numpy as np\n",
        "import re\n",
        "import unidecode\n",
        "from pathlib import Path\n",
        "import gensim\n",
        "import nltk\n",
        "nltk.download('wordnet')\n",
        "from nltk.stem import WordNetLemmatizer, SnowballStemmer\n",
        "from nltk.tokenize.punkt import PunktSentenceTokenizer\n",
        "\n",
        "sentence_split = PunktSentenceTokenizer().tokenize\n",
        "\n",
        "metrics = {\n",
        "           \"assessment\"     : \"Walk Free Foundation+MSA risk assessment\",\n",
        "           \"identification\" : \"Walk Free Foundation+MSA Identification of risks\",\n",
        "           \"management\"     : \"Walk Free Foundation+MSA risk management (revised)\",\n",
        "           }\n",
        "\n",
        "true_values = {\"assessment\" : [\"conducting research\", \n",
        "                               \"risk-based questionnaires\",\n",
        "                               \"use of risk management tool or software\"],\n",
        "               \"identification\" : [\"geographic\", \n",
        "                                   \"industry\", \n",
        "                                   \"resource\", \n",
        "                                   \"workforce\",\n",
        "                                   \"yes\"],\n",
        "               \"management\" : [\"audits of suppliers (independent)\",\n",
        "                               'audits of suppliers (self- reporting)',\n",
        "                               'on-site visits (independent)',\n",
        "                               'on-site visits (self- reporting)']\n",
        "               }\n",
        "\n",
        "class Preprocessing:\n",
        "    def __init__(self):\n",
        "        self.stem = SnowballStemmer('english').stem\n",
        "        lemmer = WordNetLemmatizer()\n",
        "        self.lem  = lambda text : lemmer.lemmatize(text, pos='v')\n",
        "        self.stop_words = gensim.parsing.preprocessing.STOPWORDS\n",
        "        self.prepreprocessing = gensim.utils.simple_preprocess\n",
        "    \n",
        "    def remove_accents(self, text):\n",
        "        return unidecode.unidecode(text)\n",
        "        \n",
        "    def lem_stem(self, word):\n",
        "        return self.stem(self.lem(word))\n",
        "\n",
        "    def __call__(self, text):\n",
        "        text = self.remove_accents(text)\n",
        "        result = []\n",
        "        for token in self.prepreprocessing(text):\n",
        "            if token not in self.stop_words and len(token) > 3:\n",
        "                result.append(self.lem_stem(token))\n",
        "        return result\n",
        "    \n",
        "def doc_to_sentences(doc):\n",
        "    doc = \" \".join(doc.splitlines())\n",
        "    return sentence_split(doc)\n",
        "\n",
        "def compute_columns(df, metric):\n",
        "    df = df.copy()\n",
        "    metric_col = metrics[metric]\n",
        "    df.dropna(subset=[metric_col], inplace=True)\n",
        "    df[metric_col] = df[metric_col].str.lower().str.split(',')\n",
        "    df[metric_col] = df[metric_col].apply(lambda x : [y.strip() for y in x])\n",
        "    possible_values = np.unique(np.concatenate(df[metric_col].values))\n",
        "    print('Possible values : {}'.format(possible_values))\n",
        "\n",
        "    for v in possible_values:\n",
        "        df['[{}] == {}'.format(metric, v)] = df[metric_col].apply(lambda x : v in x)\n",
        "\n",
        "    for v in ['nan', 'unknown']:\n",
        "        na_col_name = '[{}] == {}'.format(metric, v)\n",
        "        if na_col_name in df.columns:\n",
        "            df = df[~df[na_col_name]] #removing examples where it is unknown\n",
        "            df.pop(na_col_name)\n",
        "    df.pop(metric_col)\n",
        "    return df\n",
        "\n",
        "def binary_only(df, metric):\n",
        "    df['Metric'] = False\n",
        "    col_start = '[{}] == '.format(metric)\n",
        "    for c in df.columns:\n",
        "        if c.startswith(col_start):\n",
        "            if c[len(col_start):] in true_values[metric]:\n",
        "                df['Metric'] = df['Metric'] | df[c] #OR\n",
        "            df.pop(c)\n",
        "    \n",
        "    return df\n",
        "\n",
        "def load_dataset(metric='', data_folder='./drive/MyDrive/data/', binary=True):\n",
        "    useful_cols = ['Answer Link', 'TEXT','Company']\n",
        "    data_file    = os.path.join(data_folder,\n",
        "                                \"labeled-dataset.csv\")\n",
        "    df = pd.read_csv(data_file)\n",
        "    df.dropna(subset=['TEXT'], inplace=True)\n",
        "    \n",
        "    if metric:\n",
        "        df = df[useful_cols + [metrics[metric]]]\n",
        "        df = compute_columns(df, metric)\n",
        "        if binary:\n",
        "            df = binary_only(df, metric)\n",
        "    else:\n",
        "        df = df[useful_cols]\n",
        "        \n",
        "    subset = [x for x in df.columns if not x in ['Answer Link', 'Company']]\n",
        "    df = df.drop_duplicates(subset=subset)\n",
        "    \n",
        "    #now there should not be any duplicate on the text\n",
        "    #if this is the case, that means we have same text and different metric, so we remove it\n",
        "    counts = df['TEXT'].value_counts()\n",
        "    to_be_removed = counts[counts > 1].index\n",
        "    df = df[~df['TEXT'].isin(to_be_removed)]\n",
        "    \n",
        "    return df\n",
        "\n",
        "def load_dataset_from_gdrive(metric='', doc_id='1yh_dBs51I825YnT_H7WMs8cPLeIUdUpJ', binary=True):\n",
        "    useful_cols = ['Answer Link', 'TEXT','Company']\n",
        "\n",
        "    downloaded = drive.CreateFile({'id': doc_id}) \n",
        "    downloaded.GetContentFile('labeled-dataset.csv')\n",
        "    df = pd.read_csv('labeled-dataset.csv')\n",
        "\n",
        "    df.dropna(subset=['TEXT'], inplace=True)\n",
        "    \n",
        "    if metric:\n",
        "        df = df[useful_cols + [metrics[metric]]]\n",
        "        df = compute_columns(df, metric)\n",
        "        if binary:\n",
        "            df = binary_only(df, metric)\n",
        "    else:\n",
        "        df = df[useful_cols]\n",
        "        \n",
        "    subset = [x for x in df.columns if not x in ['Answer Link', 'Company']]\n",
        "    df = df.drop_duplicates(subset=subset)\n",
        "    \n",
        "    #now there should not be any duplicate on the text\n",
        "    #if this is the case, that means we have same text and different metric, so we remove it\n",
        "    counts = df['TEXT'].value_counts()\n",
        "    to_be_removed = counts[counts > 1].index\n",
        "    df = df[~df['TEXT'].isin(to_be_removed)]\n",
        "    \n",
        "    return df\n",
        "\n",
        "def clean_comment(text):\n",
        "    BAD_COMMENT_KEYWORDS = [\n",
        "                            'i did not', \n",
        "                            'there is no', \n",
        "                            'they do not', \n",
        "                            'i could not', \n",
        "                            'it does not', \n",
        "                            \"the company’s statement\",\n",
        "                            'wikirate',\n",
        "                            'does not state',\n",
        "                            'statement',\n",
        "                            'not mentioned',\n",
        "                            'no mention',\n",
        "                            'i do not',\n",
        "                            'not reported',\n",
        "                            'no specific',\n",
        "                            'the report'\n",
        "                            ]\n",
        "    \n",
        "    text = text.lower().strip()\n",
        "    \n",
        "    #fixing not ending quotes\n",
        "    for quote in ['\"',\"'\"]:\n",
        "        if text.count(quote) == 1 and text[0] == quote:\n",
        "            text += quote\n",
        "            break\n",
        "    \n",
        "    in_quotes = re.findall('\"([^\"]*)\"', text) + re.findall(\"'([^']*)'\", text)\n",
        "    in_quotes = [x for x in in_quotes if len(x.strip()) > 0]\n",
        "    \n",
        "    if any(['wikirate' in x for x in in_quotes]):\n",
        "        quote_indexes = np.array([text.find('\"'), text.find(\"'\")])\n",
        "        quote_indexes = np.where(quote_indexes == -1 , len(text), quote_indexes)\n",
        "        first_quote_i = np.argmin(quote_indexes)\n",
        "        first_quote_type = ['\"', \"'\"][first_quote_i]\n",
        "        return clean_comment(text[quote_indexes[first_quote_i] + 1:] + first_quote_type)\n",
        "    \n",
        "    if len(in_quotes) > 0:\n",
        "        split = in_quotes\n",
        "    else:\n",
        "        split = re.split('\\[https://wikirate.org/[a-z0-9_]+\\][0-9\\-\\. :]+utc', text)\n",
        "        \n",
        "    split = [x for x in split if len(x) > 0]\n",
        "    split = [x for x in split if not any([kw in x for kw in BAD_COMMENT_KEYWORDS])]\n",
        "    \n",
        "    new_split = []\n",
        "    for t in split:\n",
        "        #removing bad endings when they are in the format '. [NAME]'\n",
        "        dot_split = t.split('.')\n",
        "        if len(dot_split) > 1 and len(dot_split[-1].strip().split()) < 4:\n",
        "            t = '.'.join(dot_split[:-1]) + '.'\n",
        "            \n",
        "        new_split.append(t)\n",
        "    return new_split\n",
        "\n",
        "def alphanum(text):\n",
        "    return re.sub('[^a-z0-9]', '', text.lower())\n",
        "    \n",
        "def _comment_is_in_text(row):\n",
        "    row['COMMENTS'] = [x for x in row['COMMENTS'] if alphanum(x) in alphanum(row['TEXT'])]\n",
        "    #removing stupid comments\n",
        "    row['COMMENTS'] = [x for x in row['COMMENTS'] if len(alphanum(x)) > 0 and len(x.split()) > 2]\n",
        "    \n",
        "    return row\n",
        "\n",
        "def load_comments(metric, data_folder='./drive/MyDrive/data/', to_dic=True):\n",
        "    data_file = os.path.join(data_folder,\n",
        "                             \"modern-slavery-dataset-metrics.csv\")\n",
        "\n",
        "    df = pd.read_csv(data_file)[['TEXT', 'METRIC NAME', 'COMMENTS']]\n",
        "    df.dropna(inplace=True)\n",
        "    \n",
        "    df = df[df['METRIC NAME'] == metrics[metric]]\n",
        "    df['COMMENTS'] = df['COMMENTS'].apply(clean_comment)\n",
        "    df = df.apply(_comment_is_in_text, axis=1) #adding only comments that we found in the text\n",
        "    df.pop('METRIC NAME')\n",
        "    \n",
        "    if to_dic:\n",
        "        #merging duplicate texts, removing lines where there is no comments\n",
        "        comments = {}\n",
        "        for i, row in df.iterrows():\n",
        "            text = row['TEXT']\n",
        "            if len(row['COMMENTS']) > 0:\n",
        "                if not text in comments:\n",
        "                    comments[text] = []\n",
        "                comments[text] += row['COMMENTS']\n",
        "                \n",
        "        #using labelliser to find the comments inside the text\n",
        "        found_comments = {}\n",
        "        for text, coms in comments.items():\n",
        "            l = Labelliser(text, coms)\n",
        "            found_comments[text] = l.find_all()\n",
        "        return found_comments\n",
        "    else:\n",
        "        return df\n",
        "    \n",
        "def load_comments_from_gdrive(metric, doc_id='1uPrM6T84syPM08aOYtE7xw5E62wHp0WE', to_dic=True):\n",
        "    downloaded = drive.CreateFile({'id': doc_id}) \n",
        "    downloaded.GetContentFile('modern-slavery-dataset-metrics.csv')\n",
        "    df = pd.read_csv('modern-slavery-dataset-metrics.csv')[['TEXT', 'METRIC NAME', 'COMMENTS']]\n",
        "\n",
        "    df.dropna(inplace=True)\n",
        "    \n",
        "    df = df[df['METRIC NAME'] == metrics[metric]]\n",
        "    df['COMMENTS'] = df['COMMENTS'].apply(clean_comment)\n",
        "    df = df.apply(_comment_is_in_text, axis=1) #adding only comments that we found in the text\n",
        "    df.pop('METRIC NAME')\n",
        "    \n",
        "    if to_dic:\n",
        "        #merging duplicate texts, removing lines where there is no comments\n",
        "        comments = {}\n",
        "        for i, row in df.iterrows():\n",
        "            text = row['TEXT']\n",
        "            if len(row['COMMENTS']) > 0:\n",
        "                if not text in comments:\n",
        "                    comments[text] = []\n",
        "                comments[text] += row['COMMENTS']\n",
        "                \n",
        "        #using labelliser to find the comments inside the text\n",
        "        found_comments = {}\n",
        "        for text, coms in comments.items():\n",
        "            l = Labelliser(text, coms)\n",
        "            found_comments[text] = l.find_all()\n",
        "        return found_comments\n",
        "    else:\n",
        "        return df\n",
        "\n",
        "class Labelliser:\n",
        "    def __init__(self, text, comments):\n",
        "        self.text = text\n",
        "        self.comments = comments\n",
        "        \n",
        "        self.text_processed = ''\n",
        "        self.positions = []\n",
        "        self.sub_regex = re.compile('[^a-z0-9]')\n",
        "        for i, char in enumerate(self.text.lower()):\n",
        "            if len(self.sub_regex.sub('', char)) > 0:\n",
        "                #we keep this char\n",
        "                self.text_processed += char\n",
        "                self.positions.append(i)\n",
        "        \n",
        "        assert len(self.positions) == len(self.text_processed)\n",
        "        \n",
        "    def find_text(self, string):\n",
        "        string = self.sub_regex.sub('', string.lower())\n",
        "        if len(string) == 0:\n",
        "            print(string)\n",
        "            raise Exception('string contains no alphanumerical characters')\n",
        "        pos = self.text_processed.find(string)\n",
        "        \n",
        "        if pos == -1:\n",
        "            return False, None, None\n",
        "        else:\n",
        "            start = self.positions[pos]            \n",
        "            end   = self.positions[pos + len(string) - 1] + 1\n",
        "            \n",
        "            return True, start, end\n",
        "        \n",
        "    def find_all(self):\n",
        "        results = []\n",
        "        for c in self.comments:\n",
        "            success, start, end = self.find_text(c)\n",
        "            if success:\n",
        "                results.append({\n",
        "                                'text'  : self.text[start : end],\n",
        "                                'start' : start,\n",
        "                                'end'   : end,\n",
        "                                })\n",
        "            else:\n",
        "                raise Exception('Not found')\n",
        "                \n",
        "        return results"
      ],
      "execution_count": null,
      "outputs": [
        {
          "output_type": "stream",
          "name": "stdout",
          "text": [
            "[nltk_data] Downloading package wordnet to /root/nltk_data...\n",
            "[nltk_data]   Package wordnet is already up-to-date!\n"
          ]
        }
      ]
    },
    {
      "cell_type": "markdown",
      "metadata": {
        "id": "0o-rFXgK7a7O"
      },
      "source": [
        "# Keywords and Random Forest\n",
        " \n",
        "We want to leverage experts knowledge and feedback to build an easily interpretable pipeline. Using the list of keywords provided by the modern slavery experts team, we extract sentences that might be of interest. Then all statements that contain at least n such sentences are classified as the company is taking steps to assess the risk of slavery or forced labour in its operations and/or supply chain. The list of keywords are 'assess risk', 'risk-based questionnaires', 'risk management database', 'risk management tool','Maplecroft', 'Sedex','risk matrix','conducting research', 'risk assessment', 'assessing', 'external', 'third party, 'Experts', 'stakeholders', 'Global Slavery Index', 'NGO', 'NGO reports', 'media', 'mapping', 'desk-based research', 'methodology', 'risk register','mapping'.\n",
        "\n",
        " \n",
        "\n"
      ]
    },
    {
      "cell_type": "code",
      "metadata": {
        "id": "5zIL943_7gC7"
      },
      "source": [
        "# parameters\n",
        "METRIC = \"assessment\"\n",
        "PATH_DATA = \"./\""
      ],
      "execution_count": null,
      "outputs": []
    },
    {
      "cell_type": "code",
      "metadata": {
        "colab": {
          "base_uri": "https://localhost:8080/"
        },
        "id": "4hC5yNcB7iPK",
        "outputId": "be262a83-f361-48af-b37b-1cfceeef083a"
      },
      "source": [
        "# Load statements and comments\n",
        "df = load_dataset_from_gdrive(METRIC)\n",
        "shuffled_df = df.sample(frac=1, random_state=40)\n",
        "data_train, data_test = shuffled_df[:int(0.8*len(shuffled_df))], shuffled_df[int(0.8*len(shuffled_df)):]"
      ],
      "execution_count": null,
      "outputs": [
        {
          "output_type": "stream",
          "name": "stdout",
          "text": [
            "Possible values : ['conducting research' 'in development' 'no' 'risk-based questionnaires'\n",
            " 'unknown' 'use of risk management tool or software']\n"
          ]
        }
      ]
    },
    {
      "cell_type": "markdown",
      "metadata": {
        "id": "tRyR4q3p-M2Q"
      },
      "source": [
        "Delete observations with metric but without any comment"
      ]
    },
    {
      "cell_type": "code",
      "metadata": {
        "id": "qDZvSW4x-O14"
      },
      "source": [
        "### set of keywords provided for the assessment metric\n",
        "\n",
        "suggested_keywords = [\n",
        "\"assess risk\",\n",
        "\"risk-based questionnaires\",\n",
        "\"risk management database\",\n",
        "\"risk management tool\",\n",
        "\"Maplecroft\",\n",
        "\"Sedex\",\n",
        "\"risk matrix\",\n",
        "\"risk assessment\",\n",
        "\"assessing\",\n",
        "\"third party\",\n",
        "\"Experts\",\n",
        "\"Global Slavery Index\",\n",
        "\"NGO\",\n",
        "\"NGO reports\",\n",
        "\"mapping\",\n",
        "\"deskbased research\",\n",
        "\"methodology\",\n",
        "\"risk register\",\n",
        "\"mapping\",\n",
        "\"assessment\",\n",
        "\"existing\"\n",
        "]\n",
        "\n",
        "\n",
        "synon_asses = [\"evaluation\", \"estimate\", \"jugdgement\", \"rating\", \"estimation\", \"appraisal\", \"opinion\", \"analysis\", \"valuation\", \"calculation\", \"computation\", \"costing\", \"pricing\", \"existing\"]\n",
        "\n",
        "additional_keywords = [\n",
        "    \"factory\", \"efs\", \"regulations\", \"finished\", \"comprehensive\", \"clinical\", \"factories\", \"jewellery\", \"stores\", \"fee\", \"study\", \"holiday\"\n",
        "]"
      ],
      "execution_count": null,
      "outputs": []
    },
    {
      "cell_type": "code",
      "metadata": {
        "id": "qsEsqlj_-UH7"
      },
      "source": [
        "def extract_info_using_keywords(text, add=False):\n",
        "    \"\"\"\n",
        "    Simple function that extract all the sentences that contains the trigger keywords\n",
        "    \"\"\"\n",
        "    interesting_keyword = []\n",
        "    interesting_paragraphs = []\n",
        "    par = text.split(\"\\n\")\n",
        "    for p in par:\n",
        "        list_key = suggested_keywords+synon_asses \n",
        "        if add:\n",
        "            list_key += additional_keywords\n",
        "        for v in list_key:\n",
        "            if v.lower() in p.lower():\n",
        "                for sent in p.split(\".\"):\n",
        "                    if v.lower() in p:\n",
        "                        interesting_keyword.append(v)\n",
        "                        interesting_paragraphs.append(sent)\n",
        "                        break\n",
        "    return interesting_keyword, interesting_paragraphs"
      ],
      "execution_count": null,
      "outputs": []
    },
    {
      "cell_type": "code",
      "metadata": {
        "id": "U0xrawCF-aF4"
      },
      "source": [
        "data_test[\"KeywordFocusText\"] = data_test.TEXT.apply(lambda x: extract_info_using_keywords(x, add=True)[1])\n",
        "data_train[\"KeywordFocusText\"] = data_train.TEXT.apply(lambda x: extract_info_using_keywords(x, add=True)[1])\n",
        "data_train[\"Nb_sentence_with_keyword\"] = data_train[\"KeywordFocusText\"].apply(lambda x: len(x))\n",
        "data_test[\"Nb_sentence_with_keyword\"] = data_test[\"KeywordFocusText\"].apply(lambda x: len(x))"
      ],
      "execution_count": null,
      "outputs": []
    },
    {
      "cell_type": "code",
      "metadata": {
        "id": "MfIjeKah-eb2"
      },
      "source": [
        "## Pred using the keywords first\n",
        "data_train[\"PRED\"] = data_train[\"Nb_sentence_with_keyword\"].apply(lambda x: x>=6)\n",
        "data_test[\"PRED\"] = data_test[\"Nb_sentence_with_keyword\"].apply(lambda x: x>=6)"
      ],
      "execution_count": null,
      "outputs": []
    },
    {
      "cell_type": "markdown",
      "metadata": {
        "id": "CxEXoS-N-mGZ"
      },
      "source": [
        "### Train the random forest on the remaining part of data"
      ]
    },
    {
      "cell_type": "code",
      "metadata": {
        "id": "Hr7NR3h9-qLS"
      },
      "source": [
        "data_train['text_classifier'] = data_train[\"KeywordFocusText\"].apply(lambda x: \" \".join(x))\n",
        "data_test['text_classifier'] = data_test[\"KeywordFocusText\"].apply(lambda x: \" \".join(x))"
      ],
      "execution_count": null,
      "outputs": []
    },
    {
      "cell_type": "code",
      "metadata": {
        "id": "amDicWRA-tuY"
      },
      "source": [
        "data_test_false = data_test[data_test.PRED==False]\n",
        "data_train_false = data_train[data_train.PRED==False]"
      ],
      "execution_count": null,
      "outputs": []
    },
    {
      "cell_type": "code",
      "metadata": {
        "id": "7QG1xNOS-wHr"
      },
      "source": [
        "test_text_list = list(data_test_false['text_classifier'])\n",
        "test_label =  list(data_test_false['Metric'].astype(str))\n",
        "train_text_list = list(data_train_false['text_classifier'])\n",
        "train_label =  list(data_train_false['Metric'].astype(str))"
      ],
      "execution_count": null,
      "outputs": []
    },
    {
      "cell_type": "code",
      "metadata": {
        "id": "qBI2c0eJ-xwy"
      },
      "source": [
        "from sklearn.feature_extraction.text import CountVectorizer, TfidfVectorizer\n",
        "from sklearn.ensemble import RandomForestClassifier\n",
        "\n",
        "vectorizer = TfidfVectorizer(ngram_range=(1,3), stop_words='english') \n",
        "X_train = vectorizer.fit_transform(train_text_list)\n",
        "X_test = vectorizer.transform(test_text_list)\n",
        "\n",
        "clf = RandomForestClassifier(n_estimators=160, max_depth=7)\n",
        "clf.fit(X_train, train_label)\n",
        "\n",
        "pred_test = clf.predict(X_test)"
      ],
      "execution_count": null,
      "outputs": []
    },
    {
      "cell_type": "code",
      "metadata": {
        "colab": {
          "base_uri": "https://localhost:8080/"
        },
        "id": "HnECeFIY-0wN",
        "outputId": "3f9b1575-d8c6-4cc8-8f75-ac3eaf1ab9d9"
      },
      "source": [
        "from sklearn.metrics import classification_report\n",
        "\n",
        "data_true= data_test[data_test.PRED==True]\n",
        "label_true = list(data_true['Metric'].astype(str))\n",
        "pred_true = [\"True\" for _ in label_true] \n",
        "\n",
        "print(classification_report(label_true+test_label, pred_true+pred_test.tolist()))"
      ],
      "execution_count": null,
      "outputs": [
        {
          "output_type": "stream",
          "name": "stdout",
          "text": [
            "              precision    recall  f1-score   support\n",
            "\n",
            "       False       0.65      0.58      0.61        95\n",
            "        True       0.77      0.82      0.79       160\n",
            "\n",
            "    accuracy                           0.73       255\n",
            "   macro avg       0.71      0.70      0.70       255\n",
            "weighted avg       0.72      0.73      0.73       255\n",
            "\n"
          ]
        }
      ]
    },
    {
      "cell_type": "markdown",
      "metadata": {
        "id": "qq28bT4hfy1O"
      },
      "source": [
        "### Results"
      ]
    },
    {
      "cell_type": "markdown",
      "metadata": {
        "id": "5einq0uO-5PG"
      },
      "source": [
        "Depending on the test set and random forest convergence test set the global accuracy can go from 0.66 to 0.75 (large variance)\n",
        "\n",
        "Since many sentences predicted seem to indicate a positive metric, even if labelled negative, future work is needed to verify and clean the ground truth data. Additionally, as this is also a complex metric, the method needs to incorporate the context in which the keywords were found. Therefore alternative methods are going to be applied to improve the classification performance."
      ]
    },
    {
      "cell_type": "markdown",
      "metadata": {
        "id": "q9bLQ3Yn-96O"
      },
      "source": [
        "# Hierarchical Attention Network (HAN)\n",
        "A hierarchical structure of statements is used to classify the statements, and also an attention mechanism to incorporate context is applied.\n",
        " \n",
        "The methodology combines stacked recurrent neural networks, hierarchical structure of statements, and attention mechanism to extract words that are important to the context of the sentence to classify the text as a document that covers risk assessment.\n",
        "\n"
      ]
    },
    {
      "cell_type": "code",
      "metadata": {
        "id": "tuzr-mU6_H7q"
      },
      "source": [
        "import sys, os\n",
        "os.environ['CUDA_LAUNCH_BLOCKING'] = '1'"
      ],
      "execution_count": null,
      "outputs": []
    },
    {
      "cell_type": "markdown",
      "metadata": {
        "id": "BsUJ6UQk_N0j"
      },
      "source": [
        "### Install Requirements"
      ]
    },
    {
      "cell_type": "code",
      "metadata": {
        "id": "BKn1R8W0_PuM"
      },
      "source": [
        "#!pip install torch\n",
        "#!pip install unidecode\n",
        "#!pip install weasyprint\n",
        "#!apt-get install poppler-utils\n",
        "#!pip install gensim"
      ],
      "execution_count": null,
      "outputs": []
    },
    {
      "cell_type": "code",
      "metadata": {
        "colab": {
          "base_uri": "https://localhost:8080/"
        },
        "id": "CtaYtwqU_UhT",
        "outputId": "0aa9130a-55a0-4f2d-f8c9-3502c43d51ad"
      },
      "source": [
        "import os\n",
        "import re\n",
        "import itertools\n",
        "\n",
        "import pandas as pd\n",
        "import numpy as np\n",
        "import gensim.downloader as api\n",
        "import torch\n",
        "import torchtext\n",
        "import matplotlib\n",
        "import matplotlib.pyplot as plt\n",
        "import weasyprint\n",
        "\n",
        "from IPython.core.display import display, HTML\n",
        "from tqdm.notebook import tqdm, trange\n",
        "from gensim.models import Word2Vec, KeyedVectors\n",
        "from sklearn.preprocessing import LabelEncoder\n",
        "from sklearn.model_selection import train_test_split\n",
        "from sklearn.metrics import f1_score, roc_auc_score, roc_curve, balanced_accuracy_score, precision_score, recall_score, precision_recall_curve, classification_report\n",
        "from sklearn.preprocessing import normalize\n",
        "from torch.utils.data import DataLoader, Dataset\n",
        "from torch import nn\n",
        "from torch.nn import functional as F\n",
        "from torch import optim\n",
        "from torchtext.vocab import Vectors\n",
        "\n",
        "RANDOM_SEED = 7\n",
        "torch.manual_seed(RANDOM_SEED)\n",
        "DEVICE = \"cuda\" if torch.cuda.is_available() else \"cpu\"\n",
        "print(DEVICE)"
      ],
      "execution_count": null,
      "outputs": [
        {
          "output_type": "stream",
          "name": "stdout",
          "text": [
            "cpu\n"
          ]
        }
      ]
    },
    {
      "cell_type": "markdown",
      "metadata": {
        "id": "ye5X99pulkhm"
      },
      "source": [
        "### Write to Google Drive"
      ]
    },
    {
      "cell_type": "code",
      "metadata": {
        "id": "ANX8xymyljFd"
      },
      "source": [
        "# Authenticate\n",
        "# Authenticate and create the PyDrive client.\n",
        "auth.authenticate_user()\n",
        "gauth = GoogleAuth()\n",
        "gauth.credentials = GoogleCredentials.get_application_default()\n",
        "drive = GoogleDrive(gauth)"
      ],
      "execution_count": null,
      "outputs": []
    },
    {
      "cell_type": "code",
      "metadata": {
        "colab": {
          "base_uri": "https://localhost:8080/"
        },
        "id": "-KYsre0oljFe",
        "outputId": "5a4dbb70-eaca-4cee-a661-ff89830ff13e"
      },
      "source": [
        "# Extract document ID\n",
        "file_path = 'https://drive.google.com/open?id=1yh_dBs51I825YnT_H7WMs8cPLeIUdUpJ'\n",
        "fluff, id = file_path.split('=')\n",
        "print(id)\n",
        "\n",
        "downloaded = drive.CreateFile({'id':id}) \n",
        "downloaded.GetContentFile('labeled-dataset.csv')\n",
        "df3 = pd.read_csv('labeled-dataset.csv')\n",
        "\n",
        "folder_id = '1Bd0pi6y6cKkjsfFShQFJ2CxpAzyz5Gre?usp=sharing'\n"
      ],
      "execution_count": null,
      "outputs": [
        {
          "output_type": "stream",
          "name": "stdout",
          "text": [
            "1yh_dBs51I825YnT_H7WMs8cPLeIUdUpJ\n"
          ]
        }
      ]
    },
    {
      "cell_type": "code",
      "metadata": {
        "id": "rZ4tfEB-_emQ"
      },
      "source": [
        "METRIC = \"assessment\"\n",
        "MODELPATH = './' # Folder where the model is saved\n",
        "\n",
        "SENTENCE_SPLITERS = r\"[!.;?\\n]\""
      ],
      "execution_count": null,
      "outputs": []
    },
    {
      "cell_type": "code",
      "metadata": {
        "id": "RSUaz_vT_hE_"
      },
      "source": [
        "def clean_str(string):\n",
        "    string = re.sub(r\"[^A-Za-z0-9(),!?\\'\\`]\", \" \", string)     \n",
        "    string = re.sub(r\"\\'s\", \" 's\", string) \n",
        "    string = re.sub(r\"\\'ve\", \" 've\", string) \n",
        "    string = re.sub(r\"n\\'t\", \" n't\", string) \n",
        "    string = re.sub(r\"\\'re\", \" 're\", string) \n",
        "    string = re.sub(r\"\\'d\", \" 'd\", string) \n",
        "    string = re.sub(r\"\\'ll\", \" 'll\", string) \n",
        "    string = re.sub(r\",\", \" , \", string)\n",
        "    string = re.sub(r\"!\", \" ! \", string) \n",
        "    string = re.sub(r\"\\(\", \" ( \", string) \n",
        "    string = re.sub(r\"\\)\", \" ) \", string) \n",
        "    string = re.sub(r\"\\?\", \" ? \", string) \n",
        "    string = re.sub(r\"\\s{2,}\", \" \", string)\n",
        "    return string.strip().lower().split()[:200]"
      ],
      "execution_count": null,
      "outputs": []
    },
    {
      "cell_type": "markdown",
      "metadata": {
        "id": "w12YchYN_jn8"
      },
      "source": [
        "### Load dataset"
      ]
    },
    {
      "cell_type": "code",
      "metadata": {
        "colab": {
          "base_uri": "https://localhost:8080/"
        },
        "id": "O_yywjjE_lB-",
        "outputId": "70287c1f-2a94-4464-c91e-519681810247"
      },
      "source": [
        "df = load_dataset_from_gdrive(METRIC)\n",
        "\n",
        "shuffled_df = df.sample(frac=1, random_state=60)\n",
        "train_val_df, test_df = shuffled_df[:int(0.8*len(shuffled_df))], shuffled_df[int(0.8*len(shuffled_df)):]"
      ],
      "execution_count": null,
      "outputs": [
        {
          "output_type": "stream",
          "name": "stdout",
          "text": [
            "Possible values : ['conducting research' 'in development' 'no' 'risk-based questionnaires'\n",
            " 'unknown' 'use of risk management tool or software']\n"
          ]
        }
      ]
    },
    {
      "cell_type": "markdown",
      "metadata": {
        "id": "SDrz0l7A_zQ3"
      },
      "source": [
        "#### Text analysis"
      ]
    },
    {
      "cell_type": "code",
      "metadata": {
        "colab": {
          "base_uri": "https://localhost:8080/",
          "height": 315
        },
        "id": "ITPLXf7N_06n",
        "outputId": "22377472-38a5-47ff-d0aa-f8331136e2bf"
      },
      "source": [
        "num_seq = [len([s for s in re.split(SENTENCE_SPLITERS, d) if s != '']) for d in train_val_df['TEXT']]\n",
        "seq_len = [len(s.split(\" \")) for d in train_val_df['TEXT'] for s in re.split(SENTENCE_SPLITERS, d) if s != '']\n",
        "num_char = [len(s.replace(\" \", \"\")) for d in train_val_df['TEXT'] for s in re.split(SENTENCE_SPLITERS, d) if s != '']\n",
        "\n",
        "pd.DataFrame(seq_len).hist()"
      ],
      "execution_count": null,
      "outputs": [
        {
          "output_type": "execute_result",
          "data": {
            "text/plain": [
              "array([[<matplotlib.axes._subplots.AxesSubplot object at 0x7f32870c9450>]],\n",
              "      dtype=object)"
            ]
          },
          "metadata": {},
          "execution_count": 33
        },
        {
          "output_type": "display_data",
          "data": {
            "image/png": "[encoded data removed]",
            "text/plain": [
              "<Figure size 432x288 with 1 Axes>"
            ]
          },
          "metadata": {
            "needs_background": "light"
          }
        }
      ]
    },
    {
      "cell_type": "code",
      "metadata": {
        "id": "pHBM4GtM_7XE"
      },
      "source": [
        "train_val_df['text_size'] = train_val_df['TEXT'].apply(lambda x: len([s for s in re.split(SENTENCE_SPLITERS, x) if s != '']))\n",
        "train_val_df = train_val_df[train_val_df['text_size'] < 250]"
      ],
      "execution_count": null,
      "outputs": []
    },
    {
      "cell_type": "markdown",
      "metadata": {
        "id": "32l5HP5NAAyE"
      },
      "source": [
        "### Model and Training functions/classes"
      ]
    },
    {
      "cell_type": "code",
      "metadata": {
        "id": "Uqa0WoQkAH3x"
      },
      "source": [
        "def process_data(data_df):\n",
        "  documents, word_count, labels = [], {}, []\n",
        "  label_encoder = LabelEncoder()\n",
        "  label_encoder.fit(data_df['Metric'].tolist())\n",
        "\n",
        "  for _, row in data_df.iterrows():\n",
        "    document = []\n",
        "\n",
        "    for s in re.split(SENTENCE_SPLITERS, row['TEXT']):\n",
        "      if s != '':\n",
        "        text = clean_str(s)\n",
        "        if text:\n",
        "          document.append(text)\n",
        "          \n",
        "        for word in text:\n",
        "          if word not in word_count:\n",
        "            word_count[word] = 0\n",
        "          \n",
        "          word_count[word] += 1\n",
        "    documents.append(document)\n",
        "    labels.append(row['Metric'])\n",
        "\n",
        "  return {'documents': documents, 'word_counts': word_count}, {'labels': labels, 'label_encoder': label_encoder}"
      ],
      "execution_count": null,
      "outputs": []
    },
    {
      "cell_type": "code",
      "metadata": {
        "id": "pT2NEleoAKED"
      },
      "source": [
        "class DocumentClassif(nn.Module):\n",
        "  def __init__(self, embeddings, hidden_dim, dropout=0.2):\n",
        "    super(DocumentClassif, self).__init__()\n",
        "    self.hidden_dim = hidden_dim\n",
        "    self.TEXT = embeddings\n",
        "    self.text_embedding = nn.Embedding(self.TEXT.vocab.vectors.shape[0], self.TEXT.vocab.vectors.shape[1]).from_pretrained(TEXT.vocab.vectors)\n",
        "\n",
        "    self.dropout = nn.Dropout(p=dropout)\n",
        "    self.word_rnn = nn.GRU(self.TEXT.vocab.vectors.shape[1], hidden_dim // 2, batch_first=True, bidirectional=True, num_layers=2, dropout=dropout)\n",
        "    self.word_linear = nn.Linear(hidden_dim, hidden_dim)\n",
        "    self.word_context = nn.Parameter(torch.rand(hidden_dim, 1, requires_grad=True))\n",
        "\n",
        "    self.sentence_rnn = nn.GRU(hidden_dim, hidden_dim // 2, batch_first=True, bidirectional=True)\n",
        "    self.sentence_linear = nn.Linear(hidden_dim, hidden_dim)\n",
        "    self.sentence_context = nn.Parameter(torch.rand(hidden_dim, 1, requires_grad=True))\n",
        "    self.linear_class = nn.Linear(hidden_dim, 2)\n",
        "\n",
        "  def forward(self, input):\n",
        "    text_tokens = self._embed_text(input)\n",
        "    input = self.text_embedding(text_tokens)\n",
        "    B, NS, SL, H = input.shape # B x NS x SL x H\n",
        "    input = torch.reshape(input, (-1, SL, H))# (B * NS) x SL x H\n",
        "    input = self.dropout(input) \n",
        "    embed_word, _ = self.word_rnn(input) # (B  * NS) x SL x H\n",
        "    embed_word = torch.reshape(embed_word, (B, NS, SL, -1)) # B x NS x SL x H\n",
        "    context_embed = torch.tanh(self.word_linear(embed_word)) # B x NS x SL x H\n",
        "\n",
        "    context_embed = F.softmax(torch.matmul(context_embed, self.word_context) / self.hidden_dim ** 0.5, dim=2)  # B x NS x SL x 1\n",
        "    context_embed = context_embed.expand_as(embed_word) # B x NS x SL x H\n",
        "    embed_sentence = (context_embed * embed_word).sum(axis=2) # B x NS x H\n",
        "\n",
        "    embed_sentence = self.dropout(embed_sentence) # B x NS x H\n",
        "    embed_sentence, _ = self.sentence_rnn(embed_sentence) # B x NS x H\n",
        "    context_embed = torch.tanh(self.sentence_linear(embed_sentence)) # B x NS x H\n",
        "    \n",
        "    context_embed = F.softmax(torch.matmul(context_embed, self.sentence_context) / self.hidden_dim ** 0.5, dim=1)  # B x NS x 1\n",
        "    context_embed = context_embed.expand_as(embed_sentence) # B x NS x H\n",
        "    doc_embed = (context_embed * embed_sentence).sum(axis=1) # B x H\n",
        "    final = self.linear_class(doc_embed)\n",
        "    return final # B x 2\n",
        "\n",
        "  def predict(self, input):\n",
        "    text_tokens = self._embed_text(input)\n",
        "    input = self.text_embedding(text_tokens)\n",
        "    B, NS, SL, H = input.shape # B x NS x SL x H\n",
        "    input = torch.reshape(input, (-1, SL, H))# (B * NS) x SL x H\n",
        "    input = self.dropout(input) \n",
        "    embed_word, _ = self.word_rnn(input) # (B  * NS) x SL x H\n",
        "    embed_word = torch.reshape(embed_word, (B, NS, SL, -1)) # B x NS x SL x H\n",
        "    context_embed = torch.tanh(self.word_linear(embed_word)) # B x NS x SL x H\n",
        "\n",
        "    word_attention = F.softmax(torch.matmul(context_embed, self.word_context) / self.hidden_dim ** 0.5, dim=2)  # B x NS x SL x 1\n",
        "    context_embed = word_attention.expand_as(embed_word) # B x NS x SL x H\n",
        "    embed_sentence = (context_embed * embed_word).sum(axis=2) # B x NS x H\n",
        "\n",
        "    embed_sentence = self.dropout(embed_sentence) # B x NS x H\n",
        "    embed_sentence, _ = self.sentence_rnn(embed_sentence) # B x NS x H\n",
        "    context_embed = torch.tanh(self.sentence_linear(embed_sentence)) # B x NS x H\n",
        "    \n",
        "    sentence_attention = F.softmax(torch.matmul(context_embed, self.sentence_context) / self.hidden_dim ** 0.5, dim=1)  # B x NS x 1\n",
        "    context_embed = sentence_attention.expand_as(embed_sentence) # B x NS x H\n",
        "    doc_embed = (context_embed * embed_sentence).sum(axis=1) # B x H\n",
        "    final = self.linear_class(doc_embed)\n",
        "    return F.softmax(final, dim=1), word_attention,  sentence_attention \n",
        "\n",
        "  def _embed_text(self, X):\n",
        "    device = self.word_context.device\n",
        "    ndocuments = len(X)\n",
        "    nseq = max(len(s) for s in X)\n",
        "    nword = max(len(w) for s in X for w in s)\n",
        "\n",
        "    sentences, positions = self._flat_text(X)\n",
        "    processed_sentences = TEXT.process(sentences, device=device)\n",
        "\n",
        "    embed = torch.ones(ndocuments, nseq, nword, dtype=torch.long, device=device)\n",
        "    for emd, pos in zip(processed_sentences, positions):\n",
        "      embed[pos[0], pos[1], : ] =  emd\n",
        "    \n",
        "    return embed\n",
        "\n",
        "  def _flat_text(self, documents):\n",
        "    sentences, positions = [], []\n",
        "    for d, doc in enumerate(documents):\n",
        "      for s, sent in enumerate(doc):\n",
        "        sentences.append(sent)\n",
        "        positions.append((d, s))\n",
        "\n",
        "    return sentences, positions"
      ],
      "execution_count": null,
      "outputs": []
    },
    {
      "cell_type": "code",
      "metadata": {
        "id": "SWcqGudBAUtE"
      },
      "source": [
        "class FutureSocietyDataset(Dataset):\n",
        "  def __init__(self, documents, labels):\n",
        "    self.text = documents\n",
        "    self.label = labels\n",
        "\n",
        "  def collate(self, samples):\n",
        "    data, labels = map(list, zip(*samples))\n",
        "    return data, torch.tensor(labels, dtype=torch.long)\n",
        "\n",
        "  def __len__(self):\n",
        "    return len(self.text)\n",
        "  \n",
        "  def __getitem__(self, idx):\n",
        "    return self.text[idx], self.label[idx]"
      ],
      "execution_count": null,
      "outputs": []
    },
    {
      "cell_type": "code",
      "metadata": {
        "id": "bOlmiMaNAVrz"
      },
      "source": [
        "def embedd_text(text, device):\n",
        "  return torch.tensor([WORD_VECTORS[word] if word in VOCAB else WORD_VECTORS['unk'] for word in text], device=DEVICE)\n",
        "\n",
        "def train_epoch(model, opt, dataloader, loss_fn, device):\n",
        "  losses, preds, grounds = [], [], []\n",
        "  model = model.train()\n",
        "  for X, Y in dataloader:\n",
        "    Y = Y.to(device)\n",
        "    opt.zero_grad()\n",
        "    output = model(X)\n",
        "\n",
        "    loss = loss_fn(output, Y)\n",
        "    loss.backward()\n",
        "    #nn.utils.clip_grad_norm_(model.parameters(), max_norm=1.0)\n",
        "    opt.step()\n",
        "    losses.append(loss.item())\n",
        "  \n",
        "    preds.extend(np.argmax(F.softmax(output, dim=-1).detach().cpu(), 1).tolist())\n",
        "    grounds.extend(Y.detach().cpu().tolist())\n",
        "\n",
        "  return {'f1':  f1_score(grounds, preds),\n",
        "          'loss': np.mean(losses),\n",
        "          'acc': balanced_accuracy_score(grounds, preds),\n",
        "          'precision': precision_score(grounds, preds),\n",
        "          'recall': recall_score(grounds, preds)}\n",
        "\n",
        "def eval_epoch(model, dataloader, loss_fn, device):\n",
        "  losses, preds, preds_prob, grounds = [], [], [], []\n",
        "  model = model.eval()\n",
        "  with torch.no_grad():\n",
        "    for X, Y in dataloader:\n",
        "      Y = Y.to(device)\n",
        "\n",
        "      output = model(X)\n",
        "\n",
        "      loss = loss_fn(output, Y)\n",
        "      losses.append(loss.item())\n",
        "\n",
        "      preds_prob.extend(F.softmax(output, dim=-1).detach().cpu()[:,1].tolist())\n",
        "      preds.extend(np.argmax(F.softmax(output, dim=-1).detach().cpu(), 1).tolist())\n",
        "      grounds.extend(Y.detach().cpu().tolist())\n",
        "\n",
        "  return {'f1':  f1_score(grounds, preds),\n",
        "          'auc': roc_auc_score(grounds, preds_prob),\n",
        "          'loss': np.mean(losses),\n",
        "          'acc': balanced_accuracy_score(grounds, preds),\n",
        "          'precision': precision_score(grounds, preds),\n",
        "          'recall': recall_score(grounds, preds)}\n",
        "\n",
        "def compute_threshold(model, dataloader, device):\n",
        "  precision_recall_curve\n",
        "  preds_prob, grounds = [], []\n",
        "  model = model.eval()\n",
        "  with torch.no_grad():\n",
        "    for X, Y in dataloader:\n",
        "      Y = Y.to(device)\n",
        "\n",
        "      output = model(X)\n",
        "\n",
        "      preds_prob.extend(F.softmax(output, dim=-1).detach().cpu()[:,1].tolist())\n",
        "      grounds.extend(Y.detach().cpu().tolist())\n",
        "\n",
        "  precision, recall, thresholds = precision_recall_curve(grounds, preds_prob)\n",
        "  return precision, recall, thresholds"
      ],
      "execution_count": null,
      "outputs": []
    },
    {
      "cell_type": "markdown",
      "metadata": {
        "id": "mluUVH-nAY35"
      },
      "source": [
        "Training parameters"
      ]
    },
    {
      "cell_type": "code",
      "metadata": {
        "id": "GsFIWUjjAalZ"
      },
      "source": [
        "training_params = {\n",
        "    'test_split': 0.2,\n",
        "    'val_split': 0.3,\n",
        "    'batch_size': 4,\n",
        "    'input_dim': 64,\n",
        "    'hidden_dim': 64,\n",
        "    'dropout': 0.5,\n",
        "    'learning_rate': 1e-4,\n",
        "    'momentum': 0.9,\n",
        "    'weight_decay': 1e-2,\n",
        "    'epochs': 200\n",
        "}\n",
        "train_df, val_df = train_test_split(train_val_df, test_size=training_params['val_split'], random_state=RANDOM_SEED)"
      ],
      "execution_count": null,
      "outputs": []
    },
    {
      "cell_type": "markdown",
      "metadata": {
        "id": "d3vu1zGNAfHb"
      },
      "source": [
        "### Train the model"
      ]
    },
    {
      "cell_type": "code",
      "metadata": {
        "colab": {
          "base_uri": "https://localhost:8080/"
        },
        "id": "UT_sE7xHAh2B",
        "outputId": "3c0cddb1-4e71-4feb-dac5-6092909a435b"
      },
      "source": [
        "train_documents, train_labels = process_data(train_df)\n",
        "val_documents, val_labels = process_data(val_df)\n",
        "test_documents, test_labels = process_data(test_df)\n",
        "\n",
        "\n",
        "train_text = train_documents['documents']\n",
        "val_text = val_documents['documents']\n",
        "test_text = test_documents['documents']\n",
        "\n",
        "train_sentences = [s for d in train_text for s in d]\n",
        "\n",
        "train_label = train_labels['label_encoder'].transform(train_labels['labels'])\n",
        "val_label = train_labels['label_encoder'].transform(val_labels['labels'])\n",
        "test_label = train_labels['label_encoder'].transform(test_labels['labels'])\n",
        "\n",
        "train_dataset = FutureSocietyDataset(train_text, train_label)\n",
        "val_dataset = FutureSocietyDataset(val_text, val_label)\n",
        "test_dataset = FutureSocietyDataset(test_text, test_label)\n",
        "\n",
        "train_dataloader = DataLoader(train_dataset, batch_size=training_params['batch_size'], shuffle=True, collate_fn=train_dataset.collate)\n",
        "val_dataloader = DataLoader(val_dataset, batch_size=training_params['batch_size'], shuffle=True, collate_fn=val_dataset.collate)\n",
        "test_dataloader = DataLoader(test_dataset, batch_size=training_params['batch_size'], shuffle=False, collate_fn=test_dataset.collate)\n",
        "print(\"Train size {}, Val size {}, Test size {}\".format(len(train_df), len(val_df), len(test_df)))\n",
        "print(\"Train % true {}, Val % true {}, Test % true {}\".format(train_label.sum() / len(train_label), val_label.sum() / len(val_label), test_label.sum() / len(test_label)))"
      ],
      "execution_count": null,
      "outputs": [
        {
          "output_type": "stream",
          "name": "stdout",
          "text": [
            "Train size 693, Val size 298, Test size 255\n",
            "Train % true 0.6320346320346321, Val % true 0.5536912751677853, Test % true 0.6313725490196078\n"
          ]
        }
      ]
    },
    {
      "cell_type": "markdown",
      "metadata": {
        "id": "7yKV_HO0A20p"
      },
      "source": [
        "#### Load/create embedding model"
      ]
    },
    {
      "cell_type": "code",
      "metadata": {
        "id": "WruucsumA3zx"
      },
      "source": [
        "word2vec_model = Word2Vec(sentences=train_sentences, size=training_params['input_dim'], window=5, min_count=5, workers=4, seed=RANDOM_SEED)\n",
        "word2vec_model.train(train_sentences, total_examples=2, epochs=100) # I think the constructor also trains the model\n",
        "word2vec_model.wv.save_word2vec_format(os.path.join(MODELPATH, f'word2vectors_{METRIC}.k2v'))"
      ],
      "execution_count": null,
      "outputs": []
    },
    {
      "cell_type": "code",
      "metadata": {
        "id": "li8PS2XSA73b"
      },
      "source": [
        "# word2vec_vector = torchtext.vocab.GloVe(name=\"6B\",dim=200)\n",
        "word2vec_vector = Vectors(name=f'word2vectors_{METRIC}.k2v', cache=MODELPATH)\n",
        "\n",
        "TEXT = torchtext.legacy.data.Field(batch_first=True) \n",
        "TEXT.build_vocab(train_sentences, min_freq=5)\n",
        "TEXT.vocab.set_vectors(word2vec_vector.stoi, word2vec_vector.vectors, word2vec_vector.dim)"
      ],
      "execution_count": null,
      "outputs": []
    },
    {
      "cell_type": "markdown",
      "metadata": {
        "id": "PfzIS5c5A9F-"
      },
      "source": [
        "#### Initiate model and train"
      ]
    },
    {
      "cell_type": "code",
      "metadata": {
        "id": "41kydbjnBBri"
      },
      "source": [
        "model = DocumentClassif(TEXT, training_params['hidden_dim'], training_params['dropout'])\n",
        "model = model.to(device=DEVICE)\n",
        "optimizer = optim.Adam(model.parameters(), training_params['learning_rate'])#, momentum=training_params['momentum'], weight_decay=training_params['weight_decay'])\n",
        "scheduler = optim.lr_scheduler.StepLR(optimizer, 20, gamma=0.5)\n",
        "loss_fn = nn.CrossEntropyLoss().to(device=DEVICE)"
      ],
      "execution_count": null,
      "outputs": []
    },
    {
      "cell_type": "code",
      "metadata": {
        "id": "8JN-IIurBGoH",
        "colab": {
          "base_uri": "https://localhost:8080/",
          "height": 49,
          "referenced_widgets": [
            "64b1f825e4b64c799d8f4db369a1ea52",
            "ab27c9f65cfb4b12a1ce9375a5771f3d",
            "d8c20718c3b2476d91954e7ddc4941d7",
            "5d0989890b9a4848ae7637604a9d1d1b",
            "051afa87ce8c4e248f4883ea14e57b3d",
            "468a9356727f420da4553ec449177703",
            "77febfa40a214016956611016ba1567d",
            "86b3023af29f4e40b8624931c6bf292c",
            "016dd8fb38434e8b93d5d2a442022978",
            "cd5048a2f2dc42008412bd11cc8dc9fa",
            "1934793f3f634d1c9061ebf5ff54186d"
          ]
        },
        "outputId": "e3622f4b-422a-4ce1-f5d1-aea890f0e4e0"
      },
      "source": [
        "train_losses, val_losses = [], []\n",
        "train_scores, val_scores, test_scores = [], [], []\n",
        "\n",
        "best_score = None\n",
        "early_stop = False\n",
        "delta = 1e-3\n",
        "patience = 20\n",
        "counter = 0\n",
        "finetune_embed = 1000\n",
        "\n",
        "pbar = trange(training_params['epochs'])\n",
        "for i in pbar:\n",
        "  train_result = train_epoch(model, optimizer, train_dataloader, loss_fn, DEVICE)\n",
        "  train_losses.append(train_result['loss'])\n",
        "  train_scores.append(train_result['f1'])\n",
        "\n",
        "\n",
        "  val_result = eval_epoch(model, val_dataloader, loss_fn, DEVICE)\n",
        "  val_losses.append(val_result['loss'])\n",
        "  val_scores.append(val_result['f1'])\n",
        "\n",
        "  test_result = eval_epoch(model, test_dataloader, loss_fn, DEVICE)\n",
        "  test_scores.append(test_result['f1'])\n",
        "\n",
        "  scheduler.step()\n",
        "\n",
        "  if i == finetune_embed:\n",
        "    model.text_embedding.weight.requires_grad = True\n",
        "\n",
        "  if best_score is None:\n",
        "      best_score = val_result['loss']\n",
        "  elif val_result['loss'] > best_score - delta:\n",
        "      counter += 1\n",
        "      if counter >= patience:\n",
        "          early_stop = True\n",
        "  else:\n",
        "      best_score = val_result['loss']\n",
        "      data = {\n",
        "          'model_state_dict': model.state_dict(),\n",
        "          'optimizer_state_dict': optimizer.state_dict(),\n",
        "          'scheduler_state_dict': scheduler.state_dict(),\n",
        "          'loss': loss_fn,\n",
        "          'training_params': training_params,\n",
        "          'train_loss': train_losses,\n",
        "          'val_loss': val_losses,\n",
        "          'train_f1': train_scores,\n",
        "          'val_f1': val_scores,\n",
        "          'test_f1': test_scores,\n",
        "      }\n",
        "      torch.save(data, os.path.join(MODELPATH, f'han_model_{METRIC}.pkl'))\n",
        "      counter = 0\n",
        "\n",
        "  if early_stop:\n",
        "    break\n",
        "\n",
        "\n",
        "  pbar.set_postfix(train_loss=train_result['loss'], train_f1=train_result['f1'], val_f1=val_result['f1'], counter=counter)"
      ],
      "execution_count": null,
      "outputs": [
        {
          "data": {
            "application/vnd.jupyter.widget-view+json": {
              "model_id": "64b1f825e4b64c799d8f4db369a1ea52",
              "version_major": 2,
              "version_minor": 0
            },
            "text/plain": [
              "  0%|          | 0/200 [00:00<?, ?it/s]"
            ]
          },
          "metadata": {},
          "output_type": "display_data"
        }
      ]
    },
    {
      "cell_type": "code",
      "metadata": {
        "id": "omJMWCuZBKxn"
      },
      "source": [
        "pd.DataFrame({'Train Loss': train_losses, 'Val Loss': val_losses}).plot()"
      ],
      "execution_count": null,
      "outputs": []
    },
    {
      "cell_type": "code",
      "metadata": {
        "id": "oZVBPoMYBNMF"
      },
      "source": [
        "print(f\"Train f1: {data['train_f1'][-1]}, Val f1: {data['val_f1'][-1]},Test f1 {data['test_f1'][-1]}\")"
      ],
      "execution_count": null,
      "outputs": []
    },
    {
      "cell_type": "markdown",
      "metadata": {
        "id": "nDHLNoNOBdmB"
      },
      "source": [
        "### Evaluate results"
      ]
    },
    {
      "cell_type": "markdown",
      "metadata": {
        "id": "3wmZLasWtpwb"
      },
      "source": [
        "#### Load word embeddings and model weights"
      ]
    },
    {
      "cell_type": "code",
      "metadata": {
        "id": "59riBAlFtoBT"
      },
      "source": [
        "# word2vec_vector = torchtext.vocab.GloVe(name=\"6B\",dim=200)\n",
        "word2vec_vector = Vectors(name=f'word2vectors_{METRIC}.k2v', cache=MODELPATH)\n",
        "data= torch.load(os.path.join(MODELPATH, f'han_model_{METRIC}.pkl'))"
      ],
      "execution_count": null,
      "outputs": []
    },
    {
      "cell_type": "markdown",
      "metadata": {
        "id": "VHlq0QA7t1ps"
      },
      "source": [
        "#### Load dataset"
      ]
    },
    {
      "cell_type": "code",
      "metadata": {
        "id": "4lVxze0Qt3Xh"
      },
      "source": [
        "train_documents, train_labels = process_data(train_df)\n",
        "val_documents, val_labels = process_data(val_df)\n",
        "test_documents, test_labels = process_data(test_df)\n",
        "\n",
        "train_text = train_documents['documents']\n",
        "val_text = val_documents['documents']\n",
        "test_text = test_documents['documents']\n",
        "\n",
        "train_sentences = [s for d in train_text for s in d]\n",
        "\n",
        "train_label = train_labels['label_encoder'].transform(train_labels['labels'])\n",
        "val_label = train_labels['label_encoder'].transform(val_labels['labels'])\n",
        "test_label = train_labels['label_encoder'].transform(test_labels['labels'])\n",
        "\n",
        "train_dataset = FutureSocietyDataset(train_text, train_label)\n",
        "val_dataset = FutureSocietyDataset(val_text, val_label)\n",
        "test_dataset = FutureSocietyDataset(test_text, test_label)\n",
        "\n",
        "train_dataloader = DataLoader(train_dataset, batch_size=1, shuffle=False, collate_fn=train_dataset.collate)\n",
        "val_dataloader = DataLoader(val_dataset, batch_size=1, shuffle=False, collate_fn=val_dataset.collate)\n",
        "test_dataloader = DataLoader(test_dataset, batch_size=1, shuffle=False, collate_fn=test_dataset.collate)\n",
        "\n",
        "print(\"Train size {}, Val size {}, Test size {}\".format(len(train_df), len(val_df), len(test_df)))\n",
        "print(\"Train % true {}, Val % true {}, Test % true {}\".format(train_label.sum() / len(train_label), val_label.sum() / len(val_label), test_label.sum() / len(test_label)))"
      ],
      "execution_count": null,
      "outputs": []
    },
    {
      "cell_type": "markdown",
      "metadata": {
        "id": "zjq3sSo-2D2r"
      },
      "source": [
        "#### Load dataset"
      ]
    },
    {
      "cell_type": "code",
      "metadata": {
        "id": "Obd785mu2FOb"
      },
      "source": [
        "train_documents, train_labels = process_data(train_df)\n",
        "val_documents, val_labels = process_data(val_df)\n",
        "test_documents, test_labels = process_data(test_df)\n",
        "\n",
        "train_text = train_documents['documents']\n",
        "val_text = val_documents['documents']\n",
        "test_text = test_documents['documents']\n",
        "\n",
        "train_sentences = [s for d in train_text for s in d]\n",
        "\n",
        "train_label = train_labels['label_encoder'].transform(train_labels['labels'])\n",
        "val_label = train_labels['label_encoder'].transform(val_labels['labels'])\n",
        "test_label = train_labels['label_encoder'].transform(test_labels['labels'])\n",
        "\n",
        "train_dataset = FutureSocietyDataset(train_text, train_label)\n",
        "val_dataset = FutureSocietyDataset(val_text, val_label)\n",
        "test_dataset = FutureSocietyDataset(test_text, test_label)\n",
        "\n",
        "train_dataloader = DataLoader(train_dataset, batch_size=1, shuffle=False, collate_fn=train_dataset.collate)\n",
        "val_dataloader = DataLoader(val_dataset, batch_size=1, shuffle=False, collate_fn=val_dataset.collate)\n",
        "test_dataloader = DataLoader(test_dataset, batch_size=1, shuffle=False, collate_fn=test_dataset.collate)\n",
        "\n",
        "print(\"Train size {}, Val size {}, Test size {}\".format(len(train_df), len(val_df), len(test_df)))\n",
        "print(\"Train % true {}, Val % true {}, Test % true {}\".format(train_label.sum() / len(train_label), val_label.sum() / len(val_label), test_label.sum() / len(test_label)))"
      ],
      "execution_count": null,
      "outputs": []
    },
    {
      "cell_type": "markdown",
      "metadata": {
        "id": "MHsbvohY2Idh"
      },
      "source": [
        "#### Build model"
      ]
    },
    {
      "cell_type": "code",
      "metadata": {
        "id": "cUpONWNL2JlK"
      },
      "source": [
        "TEXT = torchtext.data.Field(batch_first=True) \n",
        "TEXT.build_vocab(train_sentences, min_freq=5)\n",
        "TEXT.vocab.set_vectors(word2vec_vector.stoi, word2vec_vector.vectors, word2vec_vector.dim)"
      ],
      "execution_count": null,
      "outputs": []
    },
    {
      "cell_type": "code",
      "metadata": {
        "id": "CnSsflf82LJG"
      },
      "source": [
        "loss_fn = data['loss']\n",
        "model = DocumentClassif(TEXT, data['training_params']['hidden_dim'], data['training_params']['dropout'])\n",
        "model.load_state_dict(data['model_state_dict'])\n",
        "model = model.to(DEVICE)"
      ],
      "execution_count": null,
      "outputs": []
    },
    {
      "cell_type": "markdown",
      "metadata": {
        "id": "DVo49a6X2NLr"
      },
      "source": [
        "#### Evaluate Model"
      ]
    },
    {
      "cell_type": "code",
      "metadata": {
        "id": "cbHOQV4S2OYP"
      },
      "source": [
        "precision, recall, thresholds = compute_threshold(model, train_dataloader, DEVICE)\n",
        "plt.plot(recall, precision)"
      ],
      "execution_count": null,
      "outputs": []
    },
    {
      "cell_type": "code",
      "metadata": {
        "id": "wiT4aELg2Q20"
      },
      "source": [
        "train_result = eval_epoch(model, train_dataloader, loss_fn, DEVICE)\n",
        "val_result = eval_epoch(model, val_dataloader, loss_fn, DEVICE)\n",
        "test_result = eval_epoch(model, test_dataloader, loss_fn, DEVICE)\n",
        "\n",
        "print(f\"Accuracy  -> Train: {train_result['acc']:.{3}}, Val: {val_result['acc']:.{3}}, Test: {test_result['acc']:.{3}}\")\n",
        "print(f\"F1        -> Train: {train_result['f1']:.{3}}, Val: {val_result['f1']:.{3}}, Test: {test_result['f1']:.{3}}\")\n",
        "print(f\"Precision -> Train: {train_result['precision']:.{3}}, Val: {val_result['precision']:.{3}}, Test: {test_result['precision']:.{3}}\")\n",
        "print(f\"Recall    -> Train: {train_result['recall']:.{3}}, Val: {val_result['recall']:.{3}}, Test: {test_result['recall']:.{3}}\")\n",
        "print(f\"AUC       -> Train: {train_result['auc']:.{3}}, Val: {val_result['auc']:.{3}}, Test: {test_result['auc']:.{3}}\")"
      ],
      "execution_count": null,
      "outputs": []
    },
    {
      "cell_type": "code",
      "metadata": {
        "id": "Ivi30wnx2Unz"
      },
      "source": [
        "preds, words, sentences, texts = [], [], [], []\n",
        "results = []\n",
        "model = model.eval()\n",
        "with torch.no_grad():\n",
        "  for i, (X, Y) in enumerate(tqdm(test_dataloader)):\n",
        "    pred, word_attention, sentence_attention = model.predict(X)\n",
        "\n",
        "    results.append({\n",
        "        'pred': np.argmax(pred.detach().cpu().numpy(), 1)[0],\n",
        "        'pred_prob': pred.detach().cpu().numpy()[0,1],\n",
        "        'true': Y.detach().cpu().numpy()[0],\n",
        "        'word_att': word_attention.detach().cpu().numpy(),\n",
        "        'sent_att': sentence_attention.detach().cpu().numpy(),\n",
        "        'text': X[0],\n",
        "        'link': test_df.iloc[i]['Answer Link']\n",
        "    })"
      ],
      "execution_count": null,
      "outputs": []
    },
    {
      "cell_type": "code",
      "metadata": {
        "id": "fgbQDWap2VXb"
      },
      "source": [
        "pred = [r['pred'] for r in results]\n",
        "true = [r['true'] for r in results]\n",
        "prob = [r['pred_prob'] for r in results]\n",
        "print(f\"Dataset {METRIC}:\")\n",
        "print(classification_report(true, pred))"
      ],
      "execution_count": null,
      "outputs": []
    },
    {
      "cell_type": "code",
      "metadata": {
        "id": "vF6LOsxq2ZzR"
      },
      "source": [
        "final_df = pd.DataFrame({'True': true, 'Pred': pred, 'Pred_prob':prob})\n",
        "final_df.to_csv(os.path.join(\"./\", f\"{METRIC}_test_preds.csv\"))\n",
        "\n",
        "final_df = test_df.copy()\n",
        "final_df['Prob'] = prob\n",
        "final_df.to_csv(os.path.join(\"./\", f\"{METRIC}_test_preditions.csv\"))"
      ],
      "execution_count": null,
      "outputs": []
    },
    {
      "cell_type": "markdown",
      "metadata": {
        "id": "QE35h8_M2fnk"
      },
      "source": [
        "#### Print Results"
      ]
    },
    {
      "cell_type": "code",
      "metadata": {
        "id": "iY7gKLAd2gvr"
      },
      "source": [
        "def create_html(result):\n",
        "  template = '<span class=\"barcode\"; style=\"font-size:14px; color: black; background-color: {}\">{}</span>'\n",
        "  blue_cmap=matplotlib.cm.Blues\n",
        "  red_cmap=matplotlib.cm.Reds\n",
        "  final = \"\"\n",
        "\n",
        "  pred_label = bool(result['pred'])\n",
        "  true_label = bool(result['true'])\n",
        "  pred_color = 'green' if pred_label == true_label else 'red'\n",
        "\n",
        "  final += '<p style=\"font-size:16px\"> <span>Pred label: </span><span style=\"color:{};\">{}</span></p>'.format(pred_color, pred_label)\n",
        "  final += '<p style=\"font-size:16px\"> <span>Answer Link: </span><a href=\"{}\">{}</a></p>'.format(result['link'], result['link'])\n",
        "\n",
        "  sentence_attention = normalize(np.reshape(result['sent_att'], (1, -1)))\n",
        "  for sent, sent_att, word_attention in zip(result['text'], sentence_attention.squeeze(), result['word_att'].squeeze()):\n",
        "    color = matplotlib.colors.rgb2hex(red_cmap(sent_att)[:3])\n",
        "    word_attention = normalize(np.reshape(word_attention, (1, -1)))\n",
        "    final += \"<p>\"\n",
        "    final += template.format(color, '&nbsp' + \" \" + '&nbsp')\n",
        "    for word, word_att in zip(sent, word_attention.squeeze()):\n",
        "      color = matplotlib.colors.rgb2hex(blue_cmap(word_att * 0.8)[:3])\n",
        "      final += template.format(color, ' ' + word + ' ')\n",
        "    final += \"</p>\"\n",
        "  \n",
        "  return final\n",
        "\n",
        "def print_result(result):\n",
        "  display(HTML(create_html(result)))\n",
        "\n",
        "def result2pdf(result, pdf):\n",
        "  weasyprint.HTML(string=create_html(result)).write_pdf(pdf)"
      ],
      "execution_count": null,
      "outputs": []
    },
    {
      "cell_type": "code",
      "metadata": {
        "id": "HdfoDrvq2jN_"
      },
      "source": [
        "wrong_examples = [i for i, r in enumerate(results) if r['pred'] != r['true']]"
      ],
      "execution_count": null,
      "outputs": []
    },
    {
      "cell_type": "code",
      "metadata": {
        "id": "NNh5fvin2lqg"
      },
      "source": [
        "!rm  ./*.pdf"
      ],
      "execution_count": null,
      "outputs": []
    },
    {
      "cell_type": "code",
      "metadata": {
        "id": "3EPQdoBn2o3O"
      },
      "source": [
        "result_test_folder = \"./\"\n",
        "for i, idx in tqdm(enumerate(wrong_examples), total=len(wrong_examples)):\n",
        "  file_path = os.path.join(result_test_folder, f\"wrong_example_{i}.pdf\")\n",
        "  result2pdf(results[idx], file_path)"
      ],
      "execution_count": null,
      "outputs": []
    },
    {
      "cell_type": "code",
      "metadata": {
        "id": "fwKv94EA2tCp"
      },
      "source": [
        "final_path = os.path.join(\"./\", f\"{METRIC}_test_wrong_examples.pdf\")\n",
        "!pdfunite `ls -v $result_test_folder/*.pdf` $final_path"
      ],
      "execution_count": null,
      "outputs": []
    },
    {
      "cell_type": "code",
      "metadata": {
        "id": "W82XjMGC2woH"
      },
      "source": [
        "print_result(results[7])"
      ],
      "execution_count": null,
      "outputs": []
    },
    {
      "cell_type": "code",
      "metadata": {
        "id": "fLDIG7-e2yRA"
      },
      "source": [
        "wrong_examples[0]"
      ],
      "execution_count": null,
      "outputs": []
    },
    {
      "cell_type": "markdown",
      "metadata": {
        "id": "RkSeDTygPgso"
      },
      "source": [
        ""
      ]
    },
    {
      "cell_type": "markdown",
      "metadata": {
        "id": "q31XI6HJfoLB"
      },
      "source": [
        "## Results"
      ]
    },
    {
      "cell_type": "markdown",
      "metadata": {
        "id": "TyF8Vu6-fjan"
      },
      "source": [
        "Using six sentences as a threshold and having almost 75% of statements to classify, Hierarchical Attention Network showed worse performance than the Rule-Based and Random Forest approach. Hierarchical Attention Network yields around 69% accuracy, while the Rule-Based and Random Forest approach accounted for 73% accuracy.\n",
        " \n",
        "\n"
      ]
    },
    {
      "cell_type": "markdown",
      "metadata": {
        "id": "2u8m7Lo6B3PU"
      },
      "source": [
        "#Transformer\n",
        " \n",
        "### Introduction\n",
        " \n",
        "We want to leverage the comment section of the data to train a classification model.\n",
        " \n",
        "Reminder: On the original data, the labelisation has been made as follows:\n",
        " \n",
        "People label each statement saying if the metric is present or not in the current statement\n",
        "Sometimes, they justify their finding by copy-pasting part of the statement justifying their choice\n",
        "We transform this original training data in order to build a custom training set using the information contained in the comment section. More precisely, we define as:\n",
        " \n",
        "Positive labels - justification for the metric being present in the current statement: extract sentences of the statements present in the comment section as a citation.\n",
        "negative labels: randomly sample sentences present in the statements and not present in the comment section\n",
        "Then, we train a BERT Transformer model to classify sentences that can justify the metric being present (positive label) or not (negative label).\n",
        " \n",
        "To predict the presence or not of the metric within a global statement, we simply use this model to predict if each sentence of the statement is a justification or not. If we find at least one sentence being predicted as a justification, then we say that the overall statement contains the metric.\n",
        "\n"
      ]
    },
    {
      "cell_type": "markdown",
      "metadata": {
        "id": "jADmZAWxB9-V"
      },
      "source": [
        "### Install Requirements"
      ]
    },
    {
      "cell_type": "code",
      "metadata": {
        "id": "-OMWep6xCANz"
      },
      "source": [
        "#!pip install tensorflow\n",
        "#!pip install transformers"
      ],
      "execution_count": null,
      "outputs": []
    },
    {
      "cell_type": "code",
      "metadata": {
        "id": "Li-FmRz8B5Ib"
      },
      "source": [
        "# import core libraries \n",
        "import pandas as pd\n",
        "import numpy as np\n",
        "from pathlib import Path\n",
        "\n",
        "# import deeplearning libraries\n",
        "import transformers\n",
        "import tensorflow as tf\n",
        "\n"
      ],
      "execution_count": null,
      "outputs": []
    },
    {
      "cell_type": "markdown",
      "metadata": {
        "id": "FViq6lv4CLRI"
      },
      "source": [
        "### Data Cleaning"
      ]
    },
    {
      "cell_type": "code",
      "metadata": {
        "id": "EgJEhjeXCORR"
      },
      "source": [
        "# parameters\n",
        "METRIC = \"assessment\""
      ],
      "execution_count": null,
      "outputs": []
    },
    {
      "cell_type": "code",
      "metadata": {
        "colab": {
          "base_uri": "https://localhost:8080/"
        },
        "id": "HccAjTUGCTXL",
        "outputId": "2cdcfe68-ea24-4fbc-8563-026c8d1d14ad"
      },
      "source": [
        "# Load statements and comments\n",
        "# The load_comments function clean up comments, by selecting only sentences in statements used as justification in comments\n",
        "df = load_dataset_from_gdrive(METRIC)\n",
        "comments = load_comments_from_gdrive(METRIC)\n",
        "df[\"comments\"] = df.TEXT.apply(lambda x: comments[x] if x in comments else [])\n",
        "# Shuffle data and split in train_test\n",
        "shuffled_df = df.sample(frac=1, random_state=60)\n",
        "train, test = shuffled_df[:int(0.8*len(shuffled_df))], shuffled_df[int(0.8*len(shuffled_df)):]"
      ],
      "execution_count": null,
      "outputs": [
        {
          "output_type": "stream",
          "name": "stdout",
          "text": [
            "Possible values : ['conducting research' 'in development' 'no' 'risk-based questionnaires'\n",
            " 'unknown' 'use of risk management tool or software']\n"
          ]
        }
      ]
    },
    {
      "cell_type": "markdown",
      "metadata": {
        "id": "Gfd7o1KJCUmf"
      },
      "source": [
        "Delete observations with metric but without any comment"
      ]
    },
    {
      "cell_type": "code",
      "metadata": {
        "id": "WYePdT8HCXfv"
      },
      "source": [
        "def filtre(x):    \n",
        "    return not (x[\"Metric\"]==True and len(x[\"comments\"])==0)\n",
        "\n",
        "train_not_filtered = train.copy()\n",
        "train = train[train.apply(lambda x: filtre(x), axis=1)]"
      ],
      "execution_count": null,
      "outputs": []
    },
    {
      "cell_type": "markdown",
      "metadata": {
        "id": "-ejqkMm0CZWO"
      },
      "source": [
        "Since the final model will use full sentences as input data, we enlarge text extracted from comment section, by finding the whole sentence associated. These sentences are the positive labels. For the negative labels, we use all the other sentences."
      ]
    },
    {
      "cell_type": "code",
      "metadata": {
        "id": "l1gmYdyfCa4e"
      },
      "source": [
        "def get_full_sentence(text, sub_text, start, end):\n",
        "    pre = True\n",
        "    while pre:\n",
        "        start -= 1\n",
        "        new_char = text[start]\n",
        "        if new_char not in [\".\", \"\\n\"]:\n",
        "            sub_text = new_char + sub_text\n",
        "        else:\n",
        "            pre = False\n",
        "            \n",
        "    post = True\n",
        "    while post:\n",
        "        end += 1\n",
        "        new_char = text[end]\n",
        "        if new_char not in [\".\", \"\\n\"]:\n",
        "            sub_text += new_char\n",
        "        else:\n",
        "            post = False\n",
        "            \n",
        "    return sub_text + \".\", start, end"
      ],
      "execution_count": null,
      "outputs": []
    },
    {
      "cell_type": "code",
      "metadata": {
        "id": "tVgHU8-7CcvT"
      },
      "source": [
        "train_positive_samples = []\n",
        "train_negative_samples = []\n",
        "for idx, row in train.iterrows():\n",
        "    full_comment = []\n",
        "    old_end = 0\n",
        "    sub_negative_samples = []\n",
        "    for comment in row.comments:\n",
        "        text, start, end = get_full_sentence(row.TEXT, comment[\"text\"], comment[\"start\"], comment[\"end\"])\n",
        "        full_comment.append(text)\n",
        "        sub_negative_samples.append(row.TEXT[old_end: start])\n",
        "        old_end = end\n",
        "        \n",
        "    train_negative_samples.append(sub_negative_samples)\n",
        "    train_positive_samples.append(full_comment)"
      ],
      "execution_count": null,
      "outputs": []
    },
    {
      "cell_type": "markdown",
      "metadata": {
        "id": "PofK-OF5Ci2c"
      },
      "source": [
        "Cut string as sentences using \"\\n\" and \".\" as separators. Eliminate sentences with less than 40 characters."
      ]
    },
    {
      "cell_type": "code",
      "metadata": {
        "id": "p8N6tmMbCjTp"
      },
      "source": [
        "train_negative_samples = \"\".join([sub.replace(\"\\n\", \".\") for l in train_negative_samples for sub in l]).split(\".\")\n",
        "train_negative_samples = [i for i in train_negative_samples if len(i) > 40]\n",
        "\n",
        "train_positive_samples = \"\".join([sub.replace(\"\\n\", \".\") for l in train_positive_samples for sub in l]).split(\".\")\n",
        "train_positive_samples = [i for i in train_positive_samples if len(i) > 40]"
      ],
      "execution_count": null,
      "outputs": []
    },
    {
      "cell_type": "markdown",
      "metadata": {
        "id": "-pcvm19RCmNx"
      },
      "source": [
        "Create list of sentences with corresponding labels (justification or not)."
      ]
    },
    {
      "cell_type": "code",
      "metadata": {
        "id": "Iw38ZL2BCmxd"
      },
      "source": [
        "train_targets = list(np.ones(len(train_positive_samples)).astype(int)) + list(np.zeros(len(train_negative_samples)).astype(int))\n",
        "train_comments = train_positive_samples + train_negative_samples"
      ],
      "execution_count": null,
      "outputs": []
    },
    {
      "cell_type": "markdown",
      "metadata": {
        "id": "OP9lmvlCCqtA"
      },
      "source": [
        "### Training"
      ]
    },
    {
      "cell_type": "code",
      "metadata": {
        "colab": {
          "base_uri": "https://localhost:8080/",
          "height": 145,
          "referenced_widgets": [
            "06218806d7e247b88740f4814785ef5f",
            "367bad6b9fd940c2bd3c8ce8fb069950",
            "60957f49a59e45d9b2ae2c7a67ebabf1",
            "cd79d286ebac483a85ea311b9c18df20",
            "1c1158270a5d4ffabb8de0924a767b21",
            "50c2119938804617b2010f8b8a55d16e",
            "237462ae1b944c98913574fcccf2a020",
            "6bb1038e276443dbb0ca29c11e22a691",
            "2733ddb87385457b99505f51f7b82625",
            "b32881a55ab64c4d9ccb9eece2e50c0d",
            "d521182ebcf244e4aaaffaf4b301d927",
            "4249d35f17e84f23a7cf6af4b63b4653",
            "481bb32b47ea4be2be1b5d08461958ba",
            "9c8cb7b3f69b4584ad28522339508014",
            "85178cfa2dbd4d569b9d30e9b3d472b7",
            "f7938afbaae64179a34afa2410fc7dce",
            "a552141bcf1547219a3dfb399ad725f0",
            "bf17f0fc8d594d9999499606545c11d9",
            "7639b3685f7244609e4ba210198d4037",
            "94cf8059f430469885330c529a79a6d4",
            "607d90cdb8d642d78b909457da2231c9",
            "7c994908b17b47ccac20af629ef04b2b",
            "2c640f5faa184560a1dfd51ed03c0005",
            "a683cfda54c64d23993cea696b0e868f",
            "9b113802d2ed4a71a54cb41f2e07774c",
            "c8ab86792fcb464da9f116be68b5b0f9",
            "f0a785a7060e4c30a97afb53f639c8ee",
            "2843111d3705481a97deb7d7b0047d65",
            "9671573efac94fb387a9bfc306c8e6a5",
            "8adb3a21a3e44743b371109bc79e5753",
            "4f485d896a7247f2be79f3a4df6bf449",
            "01554d80fd2d471c8002786e53b60fd9",
            "db5bb0735c974e0e9151bd0c8a80afcd",
            "7c5ae9da4755429d849743846cbc2f97",
            "a536d590ee2249a0820a58b47c4c4702",
            "5d9d1aa82b9a4dd98b804306b97e0549",
            "d21690f5a0c443c9a6cb2fa73c6e0f58",
            "3df3f9645ef04e278eb8609d686d2e88",
            "1d965f382d7748e684e8161158ad2273",
            "aad3c6c2b18d4f04b03fe799973dd302",
            "1323984b3120468c9fd9857eca8b3d96",
            "b6894c84d6c2438b9e370e844bb2e7d9",
            "d498effe32f04dbaab0e889b72ef80bc",
            "f83de7949b064d089ae7a2a5363010dc"
          ]
        },
        "id": "oFxvXAT4XL16",
        "outputId": "ed3e3f5c-2574-4ace-f262-2c34cacdda0c"
      },
      "source": [
        "import tensorflow as tf\n",
        "from transformers import BertTokenizer\n",
        "\n",
        "tokenizer = BertTokenizer.from_pretrained(\"bert-base-uncased\")"
      ],
      "execution_count": null,
      "outputs": [
        {
          "output_type": "display_data",
          "data": {
            "application/vnd.jupyter.widget-view+json": {
              "model_id": "06218806d7e247b88740f4814785ef5f",
              "version_minor": 0,
              "version_major": 2
            },
            "text/plain": [
              "Downloading:   0%|          | 0.00/226k [00:00<?, ?B/s]"
            ]
          },
          "metadata": {}
        },
        {
          "output_type": "display_data",
          "data": {
            "application/vnd.jupyter.widget-view+json": {
              "model_id": "4249d35f17e84f23a7cf6af4b63b4653",
              "version_minor": 0,
              "version_major": 2
            },
            "text/plain": [
              "Downloading:   0%|          | 0.00/28.0 [00:00<?, ?B/s]"
            ]
          },
          "metadata": {}
        },
        {
          "output_type": "display_data",
          "data": {
            "application/vnd.jupyter.widget-view+json": {
              "model_id": "2c640f5faa184560a1dfd51ed03c0005",
              "version_minor": 0,
              "version_major": 2
            },
            "text/plain": [
              "Downloading:   0%|          | 0.00/455k [00:00<?, ?B/s]"
            ]
          },
          "metadata": {}
        },
        {
          "output_type": "display_data",
          "data": {
            "application/vnd.jupyter.widget-view+json": {
              "model_id": "7c5ae9da4755429d849743846cbc2f97",
              "version_minor": 0,
              "version_major": 2
            },
            "text/plain": [
              "Downloading:   0%|          | 0.00/570 [00:00<?, ?B/s]"
            ]
          },
          "metadata": {}
        }
      ]
    },
    {
      "cell_type": "markdown",
      "metadata": {
        "id": "H-y8hubzXNRj"
      },
      "source": [
        "Encode sentences with numerical values."
      ]
    },
    {
      "cell_type": "code",
      "metadata": {
        "id": "rbIxZj3TXP8z"
      },
      "source": [
        "def process_comments(tokenizer, comments, max_length):\n",
        "    input_ids, attention_mask = [], []\n",
        "    for comment in comments:\n",
        "        proccessed_comment = tokenizer.encode_plus(comment, max_length=max_length, pad_to_max_length=True)\n",
        "        input_ids.append(proccessed_comment[\"input_ids\"])\n",
        "        attention_mask.append(proccessed_comment[\"attention_mask\"])\n",
        "    return input_ids, attention_mask"
      ],
      "execution_count": null,
      "outputs": []
    },
    {
      "cell_type": "code",
      "metadata": {
        "colab": {
          "base_uri": "https://localhost:8080/"
        },
        "id": "BID3C7IJXSfG",
        "outputId": "7c911437-eb87-4210-e890-527d5c2bf74b"
      },
      "source": [
        "MAX_LENGTH = 128\n",
        "\n",
        "train_input_ids, train_mask = process_comments(tokenizer, train_comments, MAX_LENGTH)"
      ],
      "execution_count": null,
      "outputs": [
        {
          "output_type": "stream",
          "name": "stderr",
          "text": [
            "Truncation was not explicitly activated but `max_length` is provided a specific value, please use `truncation=True` to explicitly truncate examples to max length. Defaulting to 'longest_first' truncation strategy. If you encode pairs of sequences (GLUE-style) with the tokenizer you can select this strategy more precisely by providing a specific strategy to `truncation`.\n",
            "/usr/local/lib/python3.7/dist-packages/transformers/tokenization_utils_base.py:2217: FutureWarning: The `pad_to_max_length` argument is deprecated and will be removed in a future version, use `padding=True` or `padding='longest'` to pad to the longest sequence in the batch, or use `padding='max_length'` to pad to a max length. In this case, you can give a specific length with `max_length` (e.g. `max_length=45`) or leave max_length to None to pad to the maximal input size of the model (e.g. 512 for Bert).\n",
            "  FutureWarning,\n"
          ]
        }
      ]
    },
    {
      "cell_type": "code",
      "metadata": {
        "id": "Gg8SJZHFXVf9"
      },
      "source": [
        "train_dataset = tf.data.Dataset.from_tensor_slices(({\"input_ids\": train_input_ids, \"attention_mask\": train_mask}, train_targets))"
      ],
      "execution_count": null,
      "outputs": []
    },
    {
      "cell_type": "code",
      "metadata": {
        "id": "pw5-2YNiXZAm"
      },
      "source": [
        "BATCH_SIZE = 32\n",
        "SHUFFLE_BUFFER_SIZE = len(train_input_ids)\n",
        "\n",
        "# Shuffle data during training and use batch size of 32\n",
        "train_dataset = train_dataset.shuffle(SHUFFLE_BUFFER_SIZE).batch(BATCH_SIZE)"
      ],
      "execution_count": null,
      "outputs": []
    },
    {
      "cell_type": "code",
      "metadata": {
        "colab": {
          "base_uri": "https://localhost:8080/",
          "height": 137,
          "referenced_widgets": [
            "f23fb5fd59ff494fb7e110f72a6d0c06",
            "c29966cd6fe344b998a726041f2b753a",
            "5423fb162c6644b8bb628f2993427dc1",
            "16dde8d01d7c49e3b74f67fa576f4b7a",
            "633d99b2fed442b787b3767feff11359",
            "4f1b79966cdb44d5955e4e72a5dc7ed5",
            "625122a5065642ff961141a010d7494a",
            "90e4399373754915b3a6c1dbac4ff176",
            "dc7232c01f2d44bda850e95b26034e0b",
            "0d7630b8cf3d47dca247d00039905d74",
            "45e6572ac116412a8418a84679527ea8"
          ]
        },
        "id": "gClZJanBXdHm",
        "outputId": "bcfcf7e2-aca2-43d1-c9a2-e3337c6880e1"
      },
      "source": [
        "from transformers import TFBertForSequenceClassification\n",
        "\n",
        "model = TFBertForSequenceClassification.from_pretrained(\"bert-base-uncased\")"
      ],
      "execution_count": null,
      "outputs": [
        {
          "output_type": "display_data",
          "data": {
            "application/vnd.jupyter.widget-view+json": {
              "model_id": "f23fb5fd59ff494fb7e110f72a6d0c06",
              "version_minor": 0,
              "version_major": 2
            },
            "text/plain": [
              "Downloading:   0%|          | 0.00/511M [00:00<?, ?B/s]"
            ]
          },
          "metadata": {}
        },
        {
          "output_type": "stream",
          "name": "stderr",
          "text": [
            "All model checkpoint layers were used when initializing TFBertForSequenceClassification.\n",
            "\n",
            "Some layers of TFBertForSequenceClassification were not initialized from the model checkpoint at bert-base-uncased and are newly initialized: ['classifier']\n",
            "You should probably TRAIN this model on a down-stream task to be able to use it for predictions and inference.\n"
          ]
        }
      ]
    },
    {
      "cell_type": "markdown",
      "metadata": {
        "id": "DybnUhI5Xefw"
      },
      "source": [
        "Compile model."
      ]
    },
    {
      "cell_type": "code",
      "metadata": {
        "id": "QcHh4mEtXf24"
      },
      "source": [
        "optimizer = tf.keras.optimizers.Adam(learning_rate=3e-5, epsilon=1e-08, clipnorm=1.0)\n",
        "loss = tf.keras.losses.SparseCategoricalCrossentropy(from_logits=True)\n",
        "metric = tf.keras.metrics.SparseCategoricalAccuracy('accuracy')\n",
        "model.compile(optimizer=optimizer, loss=loss, metrics=[metric])"
      ],
      "execution_count": null,
      "outputs": []
    },
    {
      "cell_type": "markdown",
      "metadata": {
        "id": "0coXD1g8Xh6I"
      },
      "source": [
        "Train model."
      ]
    },
    {
      "cell_type": "code",
      "metadata": {
        "colab": {
          "base_uri": "https://localhost:8080/",
          "height": 358
        },
        "id": "TOzMwHOgXixJ",
        "outputId": "53633acf-3045-49dc-f5b6-f447817d95c0"
      },
      "source": [
        "model.fit(train_dataset, epochs=2, validation_steps=10)"
      ],
      "execution_count": null,
      "outputs": [
        {
          "output_type": "stream",
          "name": "stdout",
          "text": [
            "Epoch 1/2\n",
            " 89/251 [=========>....................] - ETA: 1:58:45 - loss: 0.2558 - accuracy: 0.9133"
          ]
        },
        {
          "output_type": "error",
          "ename": "KeyboardInterrupt",
          "evalue": "ignored",
          "traceback": [
            "\u001b[0;31m---------------------------------------------------------------------------\u001b[0m",
            "\u001b[0;31mKeyboardInterrupt\u001b[0m                         Traceback (most recent call last)",
            "\u001b[0;32m<ipython-input-25-8e305f9f816e>\u001b[0m in \u001b[0;36m<module>\u001b[0;34m()\u001b[0m\n\u001b[0;32m----> 1\u001b[0;31m \u001b[0mmodel\u001b[0m\u001b[0;34m.\u001b[0m\u001b[0mfit\u001b[0m\u001b[0;34m(\u001b[0m\u001b[0mtrain_dataset\u001b[0m\u001b[0;34m,\u001b[0m \u001b[0mepochs\u001b[0m\u001b[0;34m=\u001b[0m\u001b[0;36m2\u001b[0m\u001b[0;34m,\u001b[0m \u001b[0mvalidation_steps\u001b[0m\u001b[0;34m=\u001b[0m\u001b[0;36m10\u001b[0m\u001b[0;34m)\u001b[0m\u001b[0;34m\u001b[0m\u001b[0;34m\u001b[0m\u001b[0m\n\u001b[0m",
            "\u001b[0;32m/usr/local/lib/python3.7/dist-packages/keras/engine/training.py\u001b[0m in \u001b[0;36mfit\u001b[0;34m(self, x, y, batch_size, epochs, verbose, callbacks, validation_split, validation_data, shuffle, class_weight, sample_weight, initial_epoch, steps_per_epoch, validation_steps, validation_batch_size, validation_freq, max_queue_size, workers, use_multiprocessing)\u001b[0m\n\u001b[1;32m   1182\u001b[0m                 _r=1):\n\u001b[1;32m   1183\u001b[0m               \u001b[0mcallbacks\u001b[0m\u001b[0;34m.\u001b[0m\u001b[0mon_train_batch_begin\u001b[0m\u001b[0;34m(\u001b[0m\u001b[0mstep\u001b[0m\u001b[0;34m)\u001b[0m\u001b[0;34m\u001b[0m\u001b[0;34m\u001b[0m\u001b[0m\n\u001b[0;32m-> 1184\u001b[0;31m               \u001b[0mtmp_logs\u001b[0m \u001b[0;34m=\u001b[0m \u001b[0mself\u001b[0m\u001b[0;34m.\u001b[0m\u001b[0mtrain_function\u001b[0m\u001b[0;34m(\u001b[0m\u001b[0miterator\u001b[0m\u001b[0;34m)\u001b[0m\u001b[0;34m\u001b[0m\u001b[0;34m\u001b[0m\u001b[0m\n\u001b[0m\u001b[1;32m   1185\u001b[0m               \u001b[0;32mif\u001b[0m \u001b[0mdata_handler\u001b[0m\u001b[0;34m.\u001b[0m\u001b[0mshould_sync\u001b[0m\u001b[0;34m:\u001b[0m\u001b[0;34m\u001b[0m\u001b[0;34m\u001b[0m\u001b[0m\n\u001b[1;32m   1186\u001b[0m                 \u001b[0mcontext\u001b[0m\u001b[0;34m.\u001b[0m\u001b[0masync_wait\u001b[0m\u001b[0;34m(\u001b[0m\u001b[0;34m)\u001b[0m\u001b[0;34m\u001b[0m\u001b[0;34m\u001b[0m\u001b[0m\n",
            "\u001b[0;32m/usr/local/lib/python3.7/dist-packages/tensorflow/python/eager/def_function.py\u001b[0m in \u001b[0;36m__call__\u001b[0;34m(self, *args, **kwds)\u001b[0m\n\u001b[1;32m    883\u001b[0m \u001b[0;34m\u001b[0m\u001b[0m\n\u001b[1;32m    884\u001b[0m       \u001b[0;32mwith\u001b[0m \u001b[0mOptionalXlaContext\u001b[0m\u001b[0;34m(\u001b[0m\u001b[0mself\u001b[0m\u001b[0;34m.\u001b[0m\u001b[0m_jit_compile\u001b[0m\u001b[0;34m)\u001b[0m\u001b[0;34m:\u001b[0m\u001b[0;34m\u001b[0m\u001b[0;34m\u001b[0m\u001b[0m\n\u001b[0;32m--> 885\u001b[0;31m         \u001b[0mresult\u001b[0m \u001b[0;34m=\u001b[0m \u001b[0mself\u001b[0m\u001b[0;34m.\u001b[0m\u001b[0m_call\u001b[0m\u001b[0;34m(\u001b[0m\u001b[0;34m*\u001b[0m\u001b[0margs\u001b[0m\u001b[0;34m,\u001b[0m \u001b[0;34m**\u001b[0m\u001b[0mkwds\u001b[0m\u001b[0;34m)\u001b[0m\u001b[0;34m\u001b[0m\u001b[0;34m\u001b[0m\u001b[0m\n\u001b[0m\u001b[1;32m    886\u001b[0m \u001b[0;34m\u001b[0m\u001b[0m\n\u001b[1;32m    887\u001b[0m       \u001b[0mnew_tracing_count\u001b[0m \u001b[0;34m=\u001b[0m \u001b[0mself\u001b[0m\u001b[0;34m.\u001b[0m\u001b[0mexperimental_get_tracing_count\u001b[0m\u001b[0;34m(\u001b[0m\u001b[0;34m)\u001b[0m\u001b[0;34m\u001b[0m\u001b[0;34m\u001b[0m\u001b[0m\n",
            "\u001b[0;32m/usr/local/lib/python3.7/dist-packages/tensorflow/python/eager/def_function.py\u001b[0m in \u001b[0;36m_call\u001b[0;34m(self, *args, **kwds)\u001b[0m\n\u001b[1;32m    915\u001b[0m       \u001b[0;31m# In this case we have created variables on the first call, so we run the\u001b[0m\u001b[0;34m\u001b[0m\u001b[0;34m\u001b[0m\u001b[0;34m\u001b[0m\u001b[0m\n\u001b[1;32m    916\u001b[0m       \u001b[0;31m# defunned version which is guaranteed to never create variables.\u001b[0m\u001b[0;34m\u001b[0m\u001b[0;34m\u001b[0m\u001b[0;34m\u001b[0m\u001b[0m\n\u001b[0;32m--> 917\u001b[0;31m       \u001b[0;32mreturn\u001b[0m \u001b[0mself\u001b[0m\u001b[0;34m.\u001b[0m\u001b[0m_stateless_fn\u001b[0m\u001b[0;34m(\u001b[0m\u001b[0;34m*\u001b[0m\u001b[0margs\u001b[0m\u001b[0;34m,\u001b[0m \u001b[0;34m**\u001b[0m\u001b[0mkwds\u001b[0m\u001b[0;34m)\u001b[0m  \u001b[0;31m# pylint: disable=not-callable\u001b[0m\u001b[0;34m\u001b[0m\u001b[0;34m\u001b[0m\u001b[0m\n\u001b[0m\u001b[1;32m    918\u001b[0m     \u001b[0;32melif\u001b[0m \u001b[0mself\u001b[0m\u001b[0;34m.\u001b[0m\u001b[0m_stateful_fn\u001b[0m \u001b[0;32mis\u001b[0m \u001b[0;32mnot\u001b[0m \u001b[0;32mNone\u001b[0m\u001b[0;34m:\u001b[0m\u001b[0;34m\u001b[0m\u001b[0;34m\u001b[0m\u001b[0m\n\u001b[1;32m    919\u001b[0m       \u001b[0;31m# Release the lock early so that multiple threads can perform the call\u001b[0m\u001b[0;34m\u001b[0m\u001b[0;34m\u001b[0m\u001b[0;34m\u001b[0m\u001b[0m\n",
            "\u001b[0;32m/usr/local/lib/python3.7/dist-packages/tensorflow/python/eager/function.py\u001b[0m in \u001b[0;36m__call__\u001b[0;34m(self, *args, **kwargs)\u001b[0m\n\u001b[1;32m   3038\u001b[0m        filtered_flat_args) = self._maybe_define_function(args, kwargs)\n\u001b[1;32m   3039\u001b[0m     return graph_function._call_flat(\n\u001b[0;32m-> 3040\u001b[0;31m         filtered_flat_args, captured_inputs=graph_function.captured_inputs)  # pylint: disable=protected-access\n\u001b[0m\u001b[1;32m   3041\u001b[0m \u001b[0;34m\u001b[0m\u001b[0m\n\u001b[1;32m   3042\u001b[0m   \u001b[0;34m@\u001b[0m\u001b[0mproperty\u001b[0m\u001b[0;34m\u001b[0m\u001b[0;34m\u001b[0m\u001b[0m\n",
            "\u001b[0;32m/usr/local/lib/python3.7/dist-packages/tensorflow/python/eager/function.py\u001b[0m in \u001b[0;36m_call_flat\u001b[0;34m(self, args, captured_inputs, cancellation_manager)\u001b[0m\n\u001b[1;32m   1962\u001b[0m       \u001b[0;31m# No tape is watching; skip to running the function.\u001b[0m\u001b[0;34m\u001b[0m\u001b[0;34m\u001b[0m\u001b[0;34m\u001b[0m\u001b[0m\n\u001b[1;32m   1963\u001b[0m       return self._build_call_outputs(self._inference_function.call(\n\u001b[0;32m-> 1964\u001b[0;31m           ctx, args, cancellation_manager=cancellation_manager))\n\u001b[0m\u001b[1;32m   1965\u001b[0m     forward_backward = self._select_forward_and_backward_functions(\n\u001b[1;32m   1966\u001b[0m         \u001b[0margs\u001b[0m\u001b[0;34m,\u001b[0m\u001b[0;34m\u001b[0m\u001b[0;34m\u001b[0m\u001b[0m\n",
            "\u001b[0;32m/usr/local/lib/python3.7/dist-packages/tensorflow/python/eager/function.py\u001b[0m in \u001b[0;36mcall\u001b[0;34m(self, ctx, args, cancellation_manager)\u001b[0m\n\u001b[1;32m    594\u001b[0m               \u001b[0minputs\u001b[0m\u001b[0;34m=\u001b[0m\u001b[0margs\u001b[0m\u001b[0;34m,\u001b[0m\u001b[0;34m\u001b[0m\u001b[0;34m\u001b[0m\u001b[0m\n\u001b[1;32m    595\u001b[0m               \u001b[0mattrs\u001b[0m\u001b[0;34m=\u001b[0m\u001b[0mattrs\u001b[0m\u001b[0;34m,\u001b[0m\u001b[0;34m\u001b[0m\u001b[0;34m\u001b[0m\u001b[0m\n\u001b[0;32m--> 596\u001b[0;31m               ctx=ctx)\n\u001b[0m\u001b[1;32m    597\u001b[0m         \u001b[0;32melse\u001b[0m\u001b[0;34m:\u001b[0m\u001b[0;34m\u001b[0m\u001b[0;34m\u001b[0m\u001b[0m\n\u001b[1;32m    598\u001b[0m           outputs = execute.execute_with_cancellation(\n",
            "\u001b[0;32m/usr/local/lib/python3.7/dist-packages/tensorflow/python/eager/execute.py\u001b[0m in \u001b[0;36mquick_execute\u001b[0;34m(op_name, num_outputs, inputs, attrs, ctx, name)\u001b[0m\n\u001b[1;32m     58\u001b[0m     \u001b[0mctx\u001b[0m\u001b[0;34m.\u001b[0m\u001b[0mensure_initialized\u001b[0m\u001b[0;34m(\u001b[0m\u001b[0;34m)\u001b[0m\u001b[0;34m\u001b[0m\u001b[0;34m\u001b[0m\u001b[0m\n\u001b[1;32m     59\u001b[0m     tensors = pywrap_tfe.TFE_Py_Execute(ctx._handle, device_name, op_name,\n\u001b[0;32m---> 60\u001b[0;31m                                         inputs, attrs, num_outputs)\n\u001b[0m\u001b[1;32m     61\u001b[0m   \u001b[0;32mexcept\u001b[0m \u001b[0mcore\u001b[0m\u001b[0;34m.\u001b[0m\u001b[0m_NotOkStatusException\u001b[0m \u001b[0;32mas\u001b[0m \u001b[0me\u001b[0m\u001b[0;34m:\u001b[0m\u001b[0;34m\u001b[0m\u001b[0;34m\u001b[0m\u001b[0m\n\u001b[1;32m     62\u001b[0m     \u001b[0;32mif\u001b[0m \u001b[0mname\u001b[0m \u001b[0;32mis\u001b[0m \u001b[0;32mnot\u001b[0m \u001b[0;32mNone\u001b[0m\u001b[0;34m:\u001b[0m\u001b[0;34m\u001b[0m\u001b[0;34m\u001b[0m\u001b[0m\n",
            "\u001b[0;31mKeyboardInterrupt\u001b[0m: "
          ]
        }
      ]
    },
    {
      "cell_type": "markdown",
      "metadata": {
        "id": "tPlK3jh9Xl0z"
      },
      "source": [
        "### Prediction"
      ]
    },
    {
      "cell_type": "code",
      "metadata": {
        "id": "XVcLJ7wlXomg"
      },
      "source": [
        "# Prediction\n",
        "def predict_doc(text, model, threshold=.5):\n",
        "    '''\n",
        "    Function used to predict if a statement contains the metric\n",
        "    Parameters:\n",
        "        text: string, Statement to predict\n",
        "        model: transformers.models, Transformer classification model\n",
        "        theshold: float, Probability above which we consider a sentence being a justification for the metric\n",
        "    Return:\n",
        "        bool, prediction, if the metric is present or not within the statement\n",
        "        list, list of sentences justifying the prediction (presence of the metric within the statement)\n",
        "    '''\n",
        "    list_sentences = [i for i in text.replace(\"\\n\", \".\").split(\".\") if len(i) > 40]\n",
        "    input_ids, mask = process_comments(tokenizer, list_sentences, MAX_LENGTH)\n",
        "    predictions = model.predict({\"input_ids\": np.array(input_ids), \"attention_mask\": np.array(mask)})\n",
        "    probas = softmax(predictions[0], axis=1)\n",
        "    idx = np.where(probas[:,1] > threshold)[0]\n",
        "    return sum(probas[:,1] > threshold) / len(probas) > 0, [list_sentences[i] for i in idx]"
      ],
      "execution_count": null,
      "outputs": []
    },
    {
      "cell_type": "code",
      "metadata": {
        "id": "2Q7ViYE6Xtnu"
      },
      "source": [
        "prediction, justifications = predict_doc(statement, model)"
      ],
      "execution_count": null,
      "outputs": []
    },
    {
      "cell_type": "markdown",
      "metadata": {
        "id": "NgW78GP_iEll"
      },
      "source": [
        "## Results\n",
        "Even though the transformers-based approach enhances the model explainability by giving the sentence which may explain the prediction, overall, this system fell behind compared to the rules-based and random forest approach and the HAN  approach. This method has 66% of accuracy. Nevertheless, Transformers has been applied as an unsupervised learning method (i.e. it is not using labels), so there is still room for improvements to lift the classifier’s performance as a supervised or semi-supervised problem.\n",
        "\n"
      ]
    }
  ]
}
