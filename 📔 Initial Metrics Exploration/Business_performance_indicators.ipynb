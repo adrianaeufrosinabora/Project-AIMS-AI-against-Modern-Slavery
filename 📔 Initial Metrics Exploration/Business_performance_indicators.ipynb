{
  "nbformat": 4,
  "nbformat_minor": 0,
  "metadata": {
    "colab": {
      "name": "Business_performance_indicators.ipynb",
      "provenance": [],
      "collapsed_sections": []
    },
    "kernelspec": {
      "display_name": "conda_python3",
      "language": "python",
      "name": "conda_python3"
    },
    "language_info": {
      "codemirror_mode": {
        "name": "ipython",
        "version": 3
      },
      "file_extension": ".py",
      "mimetype": "text/x-python",
      "name": "python",
      "nbconvert_exporter": "python",
      "pygments_lexer": "ipython3",
      "version": "3.6.13"
    }
  },
  "cells": [
    {
      "cell_type": "markdown",
      "metadata": {
        "id": "9MPAcXbaSsPa"
      },
      "source": [
      ]
    },
    {
      "cell_type": "markdown",
      "metadata": {
        "id": "BJwhzHSmUIEa"
      },
      "source": [
        "#*Project AIMS (AI against Modern Slavery)*\n",
        "\n",
        "---\n",
        "\n",
        "\n"
      ]
    },
    {
      "cell_type": "markdown",
      "metadata": {
        "id": "nLZ3waYfrX4F"
      },
      "source": [
        "##💻 Note: You can run this notebook locally or on Google Colab following this [link](https://drive.google.com/file/d/1I_SjEEVedonAxo8ZprKZ0FHTyPulsTQS/view?usp=sharing)."
      ]
    },
    {
      "cell_type": "markdown",
      "metadata": {
        "id": "OWcZ7S2rjE69"
      },
      "source": [
        "\n",
        "\n",
        "# Business Performance Indicators\n",
        "## Has the company reviewed the business key performance indicators (KPIs) to ensure they are not increasing the risk of modern slavery?\n",
        " \n",
        "This task aims to use weak supervision by using the Snorkel package to label statements that indicate that the company is reviewing its Business KPIs to ensure that they are not increasing the risk of modern slavery. Business Key Performance Indicators (KPIs) can affect the level of risk and expose the company to the risk of modern slavery incidents. \n",
        " \n",
        "For example, the expansion of a production company in a country with many migrant workers can likely increase the chance of happening modern slavery incidents. Companies can provide information in their MSA report statement regarding their current business KPIs. They can explain if they have considered whether these KPIs make their businesses and supply chains more or less vulnerable to modern slavery. Some of these KPIs are :\n",
        "\n",
        "\n",
        "*   Expansion of companies that have a lot of migrant workers\n",
        "* Turn-around time of a business operation\n",
        "*The cost of materials\n",
        "*Efficiency in production\n",
        "*Sourcing the goods in the shortest amount of time\n",
        "\n",
        "\n",
        "\n",
        " \n",
        " \n",
        "For more information, please review[ WikiRate’s research on MSA Business Performance Indicators](https://wikirate.org/Walk_Free_Foundation+MSA_Business_Performance_Indicators) or  [Home Office Guidance, pp. 36.](https://www.gov.uk/government/uploads/system/uploads/attachment_data/file/471996/Transparency_in_Supply_Chains_etc__A_practical_guide__final_.pdf)\n",
        " \n",
        " \n",
        " \n",
        " \n",
        " \n",
        "### Labelled dataset\n",
        "When creating the labelled dataset, if the company discloses any of the above or related KPIs in relation to their negative impact on modern slavery, the annotators labelled the statements with 'Yes' value and provided details in Comments. If the company indicates it is planning to identify these KPIs in the future, the annotators labelled the statements with 'In Development'' and included any relevant details in the Comments. If no such KPIs exist or are described in the statement, they selected 'No'.\n",
        " \n",
        " \n",
        "\n"
      ]
    },
    {
      "cell_type": "code",
      "metadata": {
        "id": "Wxoen7B_CQ7M"
      },
      "source": [
        "#!pip install snorkel\n",
        "#!pip install unidecode\n",
        "#!pip install contractions\n",
        "#!pip install eli5"
      ],
      "execution_count": null,
      "outputs": []
    },
    {
      "cell_type": "code",
      "metadata": {
        "colab": {
          "base_uri": "https://localhost:8080/"
        },
        "id": "Jsi_BSyTj8nk",
        "outputId": "665f5558-accd-4d87-8bd5-9532274a0783"
      },
      "source": [
        "from google.colab import drive\n",
        "drive.mount('/content/drive')"
      ],
      "execution_count": null,
      "outputs": [
        {
          "output_type": "stream",
          "name": "stdout",
          "text": [
            "Drive already mounted at /content/drive; to attempt to forcibly remount, call drive.mount(\"/content/drive\", force_remount=True).\n"
          ]
        }
      ]
    },
    {
      "cell_type": "code",
      "metadata": {
        "colab": {
          "base_uri": "https://localhost:8080/"
        },
        "id": "zbtPRj_dkBa6",
        "outputId": "0f5c175b-bf26-44bb-e7fc-225b342ea3e8"
      },
      "source": [
        "cd /content/drive/MyDrive/ProjectAIMS"
      ],
      "execution_count": null,
      "outputs": [
        {
          "output_type": "stream",
          "name": "stdout",
          "text": [
            "/content/drive/.shortcut-targets-by-id/11tRyVLvElSSvedZDsiP76NndaI3wNyFb/Project AIMS\n"
          ]
        }
      ]
    },
    {
      "cell_type": "markdown",
      "metadata": {
        "id": "Rx6gOAC1kOYE"
      },
      "source": [
        "## Setup"
      ]
    },
    {
      "cell_type": "markdown",
      "metadata": {
        "id": "oVJdjVhwKEI7"
      },
      "source": [
        "Data preprocessing is performed before applying the labelling function based on the keywords, including removing empty text values, empty metric values, duplicate data rows, lemmatisation, etc.\n",
        "\n",
        "After the pre-processing, it is clear that the data is highly imbalanced. Out of the total 1285 labelled statements, there are 1083 which have a ‘No’ label associated with them which means that either the companies do not disclose anything about the reviewing of the existing KPIs or no such KPIs exist. Only 120 statements have a ‘Yes’ label associated with them, indicating that only 120 companies are reviewing the existing KPIs to ensure they are safe from exposure to modern slavery. Also, 82 statements have an ‘In Development’, meaning that the company is planning to identify such KPIs in the near future.\n",
        "\n",
        "To make this auto-labelling task easier, binary encoding of the label takes place where the statements with label values as ‘No’, ‘In development’ and ‘In development, No’ are encoded as 0, and the statements which have a ‘Yes’ label associated are encoded as 1.\n",
        "\n",
        "The keywords considered for the labelling function (e.g. ‘Business KPI’, ‘cheapest goods’, ‘sourcing the cheapest goods in the shortest amount of time’) need some preprocessing before being used in the creation of a labelling function. This pre-processing includes tasks such as lemmatisation, tense checking etc.\n",
        "\n",
        "After all the pre-processing, the final set of the keywords which are considered in the labeling functions’ creation are: 'business kpi', 'business kpis', 'cheap good', 'cost material', 'efficiency production', 'key performance indicator', 'kpi', 'performance indicator', 'source cheap good short time', 'turn time'.\n",
        " \n",
        "The next step is to check how many of the above keywords are present in the statements’ sentences and extract them into a single list for each sentence. The new feature named ‘Extract’ is maintained, which has a subset of the keywords present in the sentence from the above-mentioned ones. This is done by parsing and searching the sentences using the Spacy package for the keywords and then extracting them into a special list. \n",
        " \n",
        "Once the labelling function is created, if the extract list is empty, then that sentence is labelled as 0; otherwise, it is labelled as 1. This is done by using Snorkel weak supervision labelling task. This task uses many functions present In the Snorkel package, such as  LFAnalysis, MajorityLabelVoter, etc. LFAnalysis function is used to understand the different metrics like coverage, polarity and check for the conflicts in the result. MajorityLabelVoter is used to perform the classification task to predict the label.\n",
        "\n",
        "The output of the system is a prediction about whether a sentence could be classified as containing relevant information about the Business Key Performance Indicators or not. \n"
      ]
    },
    {
      "cell_type": "code",
      "metadata": {
        "id": "qtYGFIxcDpOJ",
        "colab": {
          "base_uri": "https://localhost:8080/"
        },
        "outputId": "da07b352-6b67-456d-844e-d55ddf2a444d"
      },
      "source": [
        "from snorkel.labeling import labeling_function\n",
        "from snorkel.labeling.model import LabelModel\n",
        "from snorkel.labeling import LabelingFunction\n",
        "from snorkel.labeling import PandasLFApplier\n",
        "from snorkel.labeling import LFAnalysis\n",
        "from snorkel.labeling.model import MajorityLabelVoter\n",
        "import spacy\n",
        "import en_core_web_sm\n",
        "import pandas as pd\n",
        "import re\n",
        "import tqdm\n",
        "import snorkel\n",
        "import nltk \n",
        "from nltk import word_tokenize, pos_tag\n",
        "from utils import sentencizer, evaluation_rb\n",
        "nltk.download('averaged_perceptron_tagger')\n",
        "nltk.download('punkt')\n",
        "\n",
        "nlp = en_core_web_sm.load()\n",
        "\n",
        "#from modern_slavery_dataset.sentencizer import custom_sentencizer\n",
        "#nlp.add_pipe(custom_sentencizer, before=\"parser\")\n",
        "#from modern_slavery_dataset.modern_slavery_evaluation_methods import evaluation_rb"
      ],
      "execution_count": null,
      "outputs": [
        {
          "output_type": "stream",
          "name": "stdout",
          "text": [
            "[nltk_data] Downloading package averaged_perceptron_tagger to\n",
            "[nltk_data]     /root/nltk_data...\n",
            "[nltk_data]   Package averaged_perceptron_tagger is already up-to-\n",
            "[nltk_data]       date!\n",
            "[nltk_data] Downloading package punkt to /root/nltk_data...\n",
            "[nltk_data]   Package punkt is already up-to-date!\n"
          ]
        }
      ]
    },
    {
      "cell_type": "markdown",
      "metadata": {
        "id": "Iys5jO67rh8r"
      },
      "source": [
        "### 🗄️ You can access the data used in this notebook [here](https://drive.google.com/file/d/1gr9PbPTaYLnhVKJ6eraJboPmvLZ_E14J/view?usp=sharing). We recommend you re-run this research with an updated version of this data which can be downloaded following these [instructions](https://github.com/the-future-society/Project-AIMS-AI-against-Modern-Slavery/tree/main/%F0%9F%97%84%EF%B8%8F%20Data%20and%20text%20extraction/WikiRate).\n",
        "\n"
      ]
    },
    {
      "cell_type": "code",
      "metadata": {
        "colab": {
          "base_uri": "https://localhost:8080/"
        },
        "id": "7hj9Sd9a8cPQ",
        "outputId": "52983c67-2175-4ab6-9d3e-e2dbcbaa6698"
      },
      "source": [
        "labeled_dataset = pd.read_csv(\"labeled-dataset.csv\", dtype=object,  index_col=0)\n",
        "print('Number of available statements -> {:,}\\n'.format(labeled_dataset.shape[0]))"
      ],
      "execution_count": null,
      "outputs": [
        {
          "output_type": "stream",
          "name": "stdout",
          "text": [
            "Number of available statements -> 2,749\n",
            "\n"
          ]
        }
      ]
    },
    {
      "cell_type": "code",
      "metadata": {
        "id": "FpHC4Jdp9BUL"
      },
      "source": [
        "metric ='Walk Free Foundation+MSA Business Performance Indicators'\n",
        "metric_binary = metric +' binary'"
      ],
      "execution_count": null,
      "outputs": []
    },
    {
      "cell_type": "code",
      "metadata": {
        "colab": {
          "base_uri": "https://localhost:8080/"
        },
        "id": "mQu5IBTz98NU",
        "outputId": "cadadff0-35f5-42d8-d052-1bd2614cb263"
      },
      "source": [
        "# select relevant columns\n",
        "columns = ['Answer ID', 'Answer Link', 'Metric', 'Company', 'Year', 'Value', 'Source', 'TEXT', metric]\n",
        "data = labeled_dataset[columns]\n",
        "\n",
        "# Remove unknown values from metric column\n",
        "data = data.loc[(data[metric] != \"Unknown\") & (data[metric] != \"unknown\") & (data[metric] != \" \") ,:]\n",
        "\n",
        "# Remove empty values from metric column\n",
        "data = data[data[metric].notna()]\n",
        "\n",
        "# Remove rows with empty text cells\n",
        "data = data[data['TEXT'].notna()]\n",
        "\n",
        "#remove rows with duplicated text \n",
        "data = data.drop_duplicates(subset = 'TEXT')\n",
        "print(\"After removing duplicates and empty values the shape is\",data.shape)"
      ],
      "execution_count": null,
      "outputs": [
        {
          "output_type": "stream",
          "name": "stdout",
          "text": [
            "After removing duplicates and empty values the shape is (1285, 9)\n"
          ]
        }
      ]
    },
    {
      "cell_type": "code",
      "metadata": {
        "colab": {
          "base_uri": "https://localhost:8080/"
        },
        "id": "I6OAV6Yi-HDK",
        "outputId": "6182554f-6953-427e-b0c5-c1873e003029"
      },
      "source": [
        "data[metric].value_counts()"
      ],
      "execution_count": null,
      "outputs": [
        {
          "output_type": "execute_result",
          "data": {
            "text/plain": [
              "No                1083\n",
              "Yes                120\n",
              "In Development      82\n",
              "Name: Walk Free Foundation+MSA Business Performance Indicators, dtype: int64"
            ]
          },
          "metadata": {},
          "execution_count": 10
        }
      ]
    },
    {
      "cell_type": "code",
      "metadata": {
        "id": "xw1HgijkCqkX"
      },
      "source": [
        "# define a binary metric\n",
        "no_values = ['No',\n",
        "            'In Development',\n",
        "            'In Development, No']"
      ],
      "execution_count": null,
      "outputs": []
    },
    {
      "cell_type": "code",
      "metadata": {
        "id": "y00EN2ZZszPL"
      },
      "source": [
        "data[metric_binary] = [1 if value not in no_values else 0 for value in data[metric]]"
      ],
      "execution_count": null,
      "outputs": []
    },
    {
      "cell_type": "code",
      "metadata": {
        "id": "sZgShZbpb2gf"
      },
      "source": [
        "few_keywords = [\"Business Kpi\", \"Performance Indicator\", \"Performance Indicators\", \"key performance indicators\",\\\n",
        "                \"turn-around time\", \"cost of materials\", \"efficiency in production\", \"cheapest goods\",\\\n",
        "                \"sourcing the cheapest goods in the shortest amount of time\"]\n"
      ],
      "execution_count": null,
      "outputs": []
    },
    {
      "cell_type": "code",
      "metadata": {
        "id": "SSM-VvHLb3X1"
      },
      "source": [
        "def get_keyword_lemmas(keywords_list):\n",
        "    \"\"\"\n",
        "    Given a list of keyword combinations, extract lemmas from them.\n",
        "    :param keywords_list: provided list of keywords describing a particular metric.\n",
        "    \"\"\"\n",
        "    keywords_lemmas = list()\n",
        "    for doc in nlp.pipe(keywords_list):\n",
        "        keyword_lemma = [t.lemma_.lower() for t in doc if (not t.is_punct) and (not t.is_stop) and (not t.is_space) ]\n",
        "        keyword_lemma = ' '.join(keyword_lemma)\n",
        "        keywords_lemmas.append( keyword_lemma)\n",
        "\n",
        "    keywords_lemmas = set(keywords_lemmas)\n",
        "\n",
        "    return keywords_lemmas\n"
      ],
      "execution_count": null,
      "outputs": []
    },
    {
      "cell_type": "code",
      "metadata": {
        "id": "O-JdleOenCVJ"
      },
      "source": [
        "few_keywords_lemmas = get_keyword_lemmas(few_keywords)"
      ],
      "execution_count": null,
      "outputs": []
    },
    {
      "cell_type": "code",
      "metadata": {
        "colab": {
          "base_uri": "https://localhost:8080/"
        },
        "id": "bWLK-_78oqz9",
        "outputId": "7743211d-23cb-4c3c-a8b1-b1ff31e6e62d"
      },
      "source": [
        "few_keywords_lemmas"
      ],
      "execution_count": null,
      "outputs": [
        {
          "output_type": "execute_result",
          "data": {
            "text/plain": [
              "{'business kpi',\n",
              " 'cheap good',\n",
              " 'cost material',\n",
              " 'efficiency production',\n",
              " 'key performance indicator',\n",
              " 'performance indicator',\n",
              " 'source cheap good short time',\n",
              " 'turn time'}"
            ]
          },
          "metadata": {},
          "execution_count": 16
        }
      ]
    },
    {
      "cell_type": "code",
      "metadata": {
        "id": "_AiTmwjlP9ah"
      },
      "source": [
        "def tense(sentence):\n",
        "    text = word_tokenize(sentence)\n",
        "    tagged = pos_tag(text)\n",
        "\n",
        "    tense = {}\n",
        "    tense[\"future\"] = len([word for word in tagged if word[1] == \"MD\"])\n",
        "    tense[\"present\"] = len([word for word in tagged if word[1] in [\"VBP\", \"VBZ\",\"VBG\"]])\n",
        "    tense[\"past\"] = len([word for word in tagged if word[1] in [\"VBD\", \"VBN\"]]) \n",
        "\n",
        "    if max(tense, key=tense.get) == 0:\n",
        "        return 'present'\n",
        "    else:\n",
        "        return max(tense, key=tense.get)"
      ],
      "execution_count": null,
      "outputs": []
    },
    {
      "cell_type": "code",
      "metadata": {
        "id": "yNmdQho8KR77"
      },
      "source": [
        "def get_sentences_w_keywords(doc, few_keywords_lemmas, tokens_at_a_time=10, steps=3):\n",
        "    \"\"\"\n",
        "    Extract sentences where keyword lemmas can be found.\n",
        "    :param doc: tokenized text using a spacy parser model\n",
        "    :param few_keywords_lemmas: a set of lemmatised keywords to use for searching sentences.\n",
        "    :param tokens_at_a_time: Window size in tokens in which keywords are searched at ta time, the default is 10\n",
        "    :param steps: how many tokens to move the window forward, the default is 3\n",
        "\n",
        "    \"\"\"\n",
        "    \n",
        "    elements_set = list()\n",
        "    \n",
        "    doc_len = len(doc)\n",
        "    \n",
        "    for kw in few_keywords_lemmas:\n",
        "        dict_elements = dict()\n",
        "\n",
        "        for idx in range(0, doc_len, steps):\n",
        "            # print(idx)\n",
        "            span = doc[idx:idx+tokens_at_a_time]\n",
        "            span_lemmas = ' '.join([t.lemma_.lower() for t in span if (not t.is_punct) and (not t.is_stop) and (not t.is_space)])\n",
        "            if kw in span_lemmas:\n",
        "\n",
        "                dict_elements = dict()\n",
        "\n",
        "                start_index = doc.text.index(span.sent.text)\n",
        "                end_index = start_index + len(span.sent.text)-1\n",
        "                dict_elements['element'] = kw\n",
        "                dict_elements['sentence'] = span.sent.text.replace('\\n', '') # remove new line tokens from sentences.\n",
        "                dict_elements['span'] = ':'.join([str(start_index), str(end_index)])\n",
        "                dict_elements['tense'] = tense_is = tense(span.sent.text)\n",
        "\n",
        "                elements_set.append(dict_elements)\n",
        "\n",
        "                \n",
        "    return elements_set\n",
        "\n",
        "def get_unique_sentences(dictionaries_list):\n",
        "    unique_dicts = list({v['sentence']:v for v in dictionaries_list}.values())\n",
        "    return unique_dicts\n",
        "        "
      ],
      "execution_count": null,
      "outputs": []
    },
    {
      "cell_type": "code",
      "metadata": {
        "colab": {
          "base_uri": "https://localhost:8080/"
        },
        "id": "B2aOs6KzwpCZ",
        "outputId": "140d6af0-1b53-40ce-9a2a-c57de8220078"
      },
      "source": [
        "%%time\n",
        "extractions = [get_sentences_w_keywords(doc, few_keywords_lemmas) for doc in tqdm.tqdm(nlp.pipe(data['TEXT'], disable=[\"tagger\", \"ner\", \"textcat\"]))]\n",
        "extractions = [get_unique_sentences(dictionaries_list) for dictionaries_list in extractions]\n",
        "data['extractions'] = extractions"
      ],
      "execution_count": null,
      "outputs": [
        {
          "output_type": "stream",
          "name": "stderr",
          "text": [
            "\r0it [00:00, ?it/s]"
          ]
        }
      ]
    },
    {
      "cell_type": "code",
      "metadata": {
        "id": "kvxUBLIXvcqo"
      },
      "source": [
        "# For clarity, we define constants to represent the class labels for yes, no, and abstaining.\n",
        "ABSTAIN = -1\n",
        "NO = 0\n",
        "YES = 1"
      ],
      "execution_count": null,
      "outputs": []
    },
    {
      "cell_type": "code",
      "metadata": {
        "id": "3-duYF9BuUXz"
      },
      "source": [
        "@labeling_function()\n",
        "def find_keyword_elements(x):\n",
        "    \"\"\"\n",
        "    If no elements were found using the keywords then return NO, otherwise YES.\n",
        "    \"\"\"\n",
        "    if x['extractions'] == []:\n",
        "        return NO\n",
        "    else:\n",
        "        return YES\n"
      ],
      "execution_count": null,
      "outputs": []
    },
    {
      "cell_type": "code",
      "metadata": {
        "id": "QJpcZ-Hsvt4b",
        "outputId": "651d97a4-34e6-4fb6-e04b-9b162d442c21"
      },
      "source": [
        "lfs = [find_keyword_elements]\n",
        "\n",
        "applier = PandasLFApplier(lfs=lfs)\n",
        "L_test = applier.apply(df=data)\n",
        "\n",
        "coverage_approval_metric = (L_test == YES).mean(axis=0)\n",
        "print(coverage_approval_metric)\n",
        "print(LFAnalysis(L=L_test, lfs=lfs).lf_summary())\n"
      ],
      "execution_count": null,
      "outputs": [
        {
          "name": "stderr",
          "output_type": "stream",
          "text": [
            "100%|██████████| 1285/1285 [00:00<00:00, 32820.28it/s]"
          ]
        },
        {
          "name": "stdout",
          "output_type": "stream",
          "text": [
            "[0.15019455]\n",
            "                       j Polarity  Coverage  Overlaps  Conflicts\n",
            "find_keyword_elements  0   [0, 1]       1.0       0.0        0.0\n"
          ]
        },
        {
          "name": "stderr",
          "output_type": "stream",
          "text": [
            "\n"
          ]
        }
      ]
    },
    {
      "cell_type": "code",
      "metadata": {
        "id": "E3D4FvfPwTqf"
      },
      "source": [
        "label_model = LabelModel()\n",
        "majority_model = MajorityLabelVoter()\n",
        "final_labels = majority_model.predict(L=L_test)"
      ],
      "execution_count": null,
      "outputs": []
    },
    {
      "cell_type": "markdown",
      "metadata": {
        "id": "fqySOUWZJgVZ"
      },
      "source": [
        "##Results"
      ]
    },
    {
      "cell_type": "code",
      "metadata": {
        "id": "Bi12QDUqvej6",
        "outputId": "aa01b742-2369-412e-a3a0-44f7bdace5a3"
      },
      "source": [
        "y_true_str = data[metric_binary].tolist()\n",
        "y_hat = final_labels\n",
        "y_true =  list(map(int, y_true_str))\n",
        "\n",
        "\n",
        "\n",
        "evaluation_rb.main(y_true,y_hat)"
      ],
      "execution_count": null,
      "outputs": [
        {
          "name": "stdout",
          "output_type": "stream",
          "text": [
            "Evaluation of the rule-based model\n"
          ]
        },
        {
          "data": {
            "image/png": "[encoded data removed]",
            "text/plain": [
              "<Figure size 432x288 with 2 Axes>"
            ]
          },
          "metadata": {
            "needs_background": "light"
          },
          "output_type": "display_data"
        },
        {
          "name": "stdout",
          "output_type": "stream",
          "text": [
            "Confusion Matrix:\n",
            " [[1004  161]\n",
            " [  88   32]]\n",
            "Accuracy Score: 0.8062256809338522\n",
            "Precision Score: 0.8490378125869346\n",
            "Recall Score: 0.8062256809338522\n",
            "F1 Score: 0.8256886659299912\n"
          ]
        }
      ]
    },
    {
      "cell_type": "markdown",
      "metadata": {
        "id": "Kli5SROFLRRT"
      },
      "source": [
        "The confusion matrix clearly indicates that, number of statements with the label ‘No/0’ are greater than the number of statements with label ‘Yes/1’. The further evaluation includes \n",
        "different evaluation measurements like Accuracy, Precision, Recall and F1-score, to check the classification prediction task. Below are the results of this evaluation:\n",
        "\n"
      ]
    },
    {
      "cell_type": "code",
      "metadata": {
        "id": "EWrsE5-XwF7c",
        "outputId": "6918115d-5810-4f32-c9ac-5000c208d521"
      },
      "source": [
        "from sklearn.metrics import classification_report\n",
        "print(classification_report(y_true=y_true, y_pred=y_hat))"
      ],
      "execution_count": null,
      "outputs": [
        {
          "name": "stdout",
          "output_type": "stream",
          "text": [
            "              precision    recall  f1-score   support\n",
            "\n",
            "           0       0.92      0.86      0.89      1165\n",
            "           1       0.17      0.27      0.20       120\n",
            "\n",
            "    accuracy                           0.81      1285\n",
            "   macro avg       0.54      0.56      0.55      1285\n",
            "weighted avg       0.85      0.81      0.83      1285\n",
            "\n"
          ]
        }
      ]
    },
    {
      "cell_type": "code",
      "metadata": {
        "id": "NbG8N7jZwF7f"
      },
      "source": [
        "data[metric+' predicted'] = final_labels"
      ],
      "execution_count": null,
      "outputs": []
    },
    {
      "cell_type": "code",
      "metadata": {
        "id": "j_Qck9ixuUNm"
      },
      "source": [
        "data.to_csv('data/business-performance-predicted.csv')"
      ],
      "execution_count": null,
      "outputs": []
    },
    {
      "cell_type": "markdown",
      "metadata": {
        "id": "DnnZf_z4LZgu"
      },
      "source": [
        "The above results show that this method achieved an 81% overall accuracy, 85% overall precision, and 81% overall Recall. Although this result looks convincing, there is a high imbalance in the class values of the label. There are only 120 statements with the label ‘Yes/1’ while 1083 statements are there with the label ‘No/0’. Therefore, it results in the low classification result in label ‘Yes/1’ while that is higher in label ‘No/0’ data."
      ]
    },
    {
      "cell_type": "markdown",
      "metadata": {
        "id": "GaFLFtiIuVJ6"
      },
      "source": [
        "# Testing with a sample\n"
      ]
    },
    {
      "cell_type": "code",
      "metadata": {
        "id": "dWEEI5kzfq8a"
      },
      "source": [
        "data_sample = data.sample(10).reset_index(drop=True)"
      ],
      "execution_count": null,
      "outputs": []
    },
    {
      "cell_type": "code",
      "metadata": {
        "id": "ImJm1lrFRmoM",
        "outputId": "c1d909d8-583e-46d2-9413-c41892b80a80"
      },
      "source": [
        "\n",
        "extractions = [get_sentences_w_keywords(doc, few_keywords_lemmas) for doc in tqdm.tqdm(nlp.pipe(data_sample['TEXT']))]\n",
        "extractions = [get_unique_sentences(dictionaries_list) for dictionaries_list in extractions]\n",
        "data_sample['extractions'] = extractions"
      ],
      "execution_count": null,
      "outputs": [
        {
          "name": "stderr",
          "output_type": "stream",
          "text": [
            "10it [00:01,  6.04it/s]\n"
          ]
        }
      ]
    },
    {
      "cell_type": "code",
      "metadata": {
        "id": "9qVAIN3Zg63j",
        "outputId": "8050f11a-5948-4665-a385-cab9e201156c"
      },
      "source": [
        "data_sample['extractions']"
      ],
      "execution_count": null,
      "outputs": [
        {
          "data": {
            "text/plain": [
              "0                                                   []\n",
              "1    [{'element': 'performance indicator', 'sentenc...\n",
              "2                                                   []\n",
              "3                                                   []\n",
              "4                                                   []\n",
              "5                                                   []\n",
              "6                                                   []\n",
              "7                                                   []\n",
              "8                                                   []\n",
              "9                                                   []\n",
              "Name: extractions, dtype: object"
            ]
          },
          "execution_count": 29,
          "metadata": {},
          "output_type": "execute_result"
        }
      ]
    },
    {
      "cell_type": "code",
      "metadata": {
        "id": "qDrmrntDsZB3",
        "outputId": "c36081c8-431a-406e-f82e-52116f4aac70"
      },
      "source": [
        "data_sample['extractions'][1]"
      ],
      "execution_count": null,
      "outputs": [
        {
          "data": {
            "text/plain": [
              "[{'element': 'performance indicator',\n",
              "  'sentence': 'For instance, to hotels located near to high profile events such as the Super Bowl and the Olympics, where authorities report an increased risk of sex trafficking.Our Effectiveness and Performance Indicators',\n",
              "  'span': '7602:7810',\n",
              "  'tense': 'past'},\n",
              " {'element': 'performance indicator',\n",
              "  'sentence': 'For instance, to hotels located near to high profile events such as the Super Bowl and the Olympics, where authorities report an increased risk of sex trafficking.Our Effectiveness and Performance Indicators“27,000+ colleagues completed our human rights training.”',\n",
              "  'span': '7602:7868',\n",
              "  'tense': 'past'},\n",
              " {'element': 'performance indicator',\n",
              "  'sentence': 'Our Effectiveness and Performance Indicators“27,000+ colleagues completed our human rights training.”',\n",
              "  'span': '7766:7868',\n",
              "  'tense': 'past'}]"
            ]
          },
          "execution_count": 31,
          "metadata": {},
          "output_type": "execute_result"
        }
      ]
    }
  ]
}
