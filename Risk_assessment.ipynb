{
  "nbformat": 4,
  "nbformat_minor": 0,
  "metadata": {
    "colab": {
      "name": " Risk_assessment.ipynb",
      "provenance": [],
      "collapsed_sections": []
    },
    "kernelspec": {
      "name": "python3",
      "display_name": "Python 3"
    },
    "language_info": {
      "name": "python"
    },
    "widgets": {
      "application/vnd.jupyter.widget-state+json": {
        "64b1f825e4b64c799d8f4db369a1ea52": {
          "model_module": "@jupyter-widgets/controls",
          "model_name": "HBoxModel",
          "model_module_version": "1.5.0",
          "state": {
            "_view_name": "HBoxView",
            "_dom_classes": [],
            "_model_name": "HBoxModel",
            "_view_module": "@jupyter-widgets/controls",
            "_model_module_version": "1.5.0",
            "_view_count": null,
            "_view_module_version": "1.5.0",
            "box_style": "",
            "layout": "IPY_MODEL_ab27c9f65cfb4b12a1ce9375a5771f3d",
            "_model_module": "@jupyter-widgets/controls",
            "children": [
              "IPY_MODEL_d8c20718c3b2476d91954e7ddc4941d7",
              "IPY_MODEL_5d0989890b9a4848ae7637604a9d1d1b",
              "IPY_MODEL_051afa87ce8c4e248f4883ea14e57b3d"
            ]
          }
        },
        "ab27c9f65cfb4b12a1ce9375a5771f3d": {
          "model_module": "@jupyter-widgets/base",
          "model_name": "LayoutModel",
          "model_module_version": "1.2.0",
          "state": {
            "_view_name": "LayoutView",
            "grid_template_rows": null,
            "right": null,
            "justify_content": null,
            "_view_module": "@jupyter-widgets/base",
            "overflow": null,
            "_model_module_version": "1.2.0",
            "_view_count": null,
            "flex_flow": null,
            "width": null,
            "min_width": null,
            "border": null,
            "align_items": null,
            "bottom": null,
            "_model_module": "@jupyter-widgets/base",
            "top": null,
            "grid_column": null,
            "overflow_y": null,
            "overflow_x": null,
            "grid_auto_flow": null,
            "grid_area": null,
            "grid_template_columns": null,
            "flex": null,
            "_model_name": "LayoutModel",
            "justify_items": null,
            "grid_row": null,
            "max_height": null,
            "align_content": null,
            "visibility": null,
            "align_self": null,
            "height": null,
            "min_height": null,
            "padding": null,
            "grid_auto_rows": null,
            "grid_gap": null,
            "max_width": null,
            "order": null,
            "_view_module_version": "1.2.0",
            "grid_template_areas": null,
            "object_position": null,
            "object_fit": null,
            "grid_auto_columns": null,
            "margin": null,
            "display": null,
            "left": null
          }
        },
        "d8c20718c3b2476d91954e7ddc4941d7": {
          "model_module": "@jupyter-widgets/controls",
          "model_name": "HTMLModel",
          "model_module_version": "1.5.0",
          "state": {
            "_view_name": "HTMLView",
            "style": "IPY_MODEL_468a9356727f420da4553ec449177703",
            "_dom_classes": [],
            "description": "",
            "_model_name": "HTMLModel",
            "placeholder": "​",
            "_view_module": "@jupyter-widgets/controls",
            "_model_module_version": "1.5.0",
            "value": " 26%",
            "_view_count": null,
            "_view_module_version": "1.5.0",
            "description_tooltip": null,
            "_model_module": "@jupyter-widgets/controls",
            "layout": "IPY_MODEL_77febfa40a214016956611016ba1567d"
          }
        },
        "5d0989890b9a4848ae7637604a9d1d1b": {
          "model_module": "@jupyter-widgets/controls",
          "model_name": "FloatProgressModel",
          "model_module_version": "1.5.0",
          "state": {
            "_view_name": "ProgressView",
            "style": "IPY_MODEL_86b3023af29f4e40b8624931c6bf292c",
            "_dom_classes": [],
            "description": "",
            "_model_name": "FloatProgressModel",
            "bar_style": "danger",
            "max": 200,
            "_view_module": "@jupyter-widgets/controls",
            "_model_module_version": "1.5.0",
            "value": 64,
            "_view_count": null,
            "_view_module_version": "1.5.0",
            "orientation": "horizontal",
            "min": 0,
            "description_tooltip": null,
            "_model_module": "@jupyter-widgets/controls",
            "layout": "IPY_MODEL_016dd8fb38434e8b93d5d2a442022978"
          }
        },
        "051afa87ce8c4e248f4883ea14e57b3d": {
          "model_module": "@jupyter-widgets/controls",
          "model_name": "HTMLModel",
          "model_module_version": "1.5.0",
          "state": {
            "_view_name": "HTMLView",
            "style": "IPY_MODEL_cd5048a2f2dc42008412bd11cc8dc9fa",
            "_dom_classes": [],
            "description": "",
            "_model_name": "HTMLModel",
            "placeholder": "​",
            "_view_module": "@jupyter-widgets/controls",
            "_model_module_version": "1.5.0",
            "value": " 64/200 [2:24:55&lt;4:55:48, 130.50s/it, counter=19, train_f1=0.796, train_loss=0.521, val_f1=0.769]",
            "_view_count": null,
            "_view_module_version": "1.5.0",
            "description_tooltip": null,
            "_model_module": "@jupyter-widgets/controls",
            "layout": "IPY_MODEL_1934793f3f634d1c9061ebf5ff54186d"
          }
        },
        "468a9356727f420da4553ec449177703": {
          "model_module": "@jupyter-widgets/controls",
          "model_name": "DescriptionStyleModel",
          "model_module_version": "1.5.0",
          "state": {
            "_view_name": "StyleView",
            "_model_name": "DescriptionStyleModel",
            "description_width": "",
            "_view_module": "@jupyter-widgets/base",
            "_model_module_version": "1.5.0",
            "_view_count": null,
            "_view_module_version": "1.2.0",
            "_model_module": "@jupyter-widgets/controls"
          }
        },
        "77febfa40a214016956611016ba1567d": {
          "model_module": "@jupyter-widgets/base",
          "model_name": "LayoutModel",
          "model_module_version": "1.2.0",
          "state": {
            "_view_name": "LayoutView",
            "grid_template_rows": null,
            "right": null,
            "justify_content": null,
            "_view_module": "@jupyter-widgets/base",
            "overflow": null,
            "_model_module_version": "1.2.0",
            "_view_count": null,
            "flex_flow": null,
            "width": null,
            "min_width": null,
            "border": null,
            "align_items": null,
            "bottom": null,
            "_model_module": "@jupyter-widgets/base",
            "top": null,
            "grid_column": null,
            "overflow_y": null,
            "overflow_x": null,
            "grid_auto_flow": null,
            "grid_area": null,
            "grid_template_columns": null,
            "flex": null,
            "_model_name": "LayoutModel",
            "justify_items": null,
            "grid_row": null,
            "max_height": null,
            "align_content": null,
            "visibility": null,
            "align_self": null,
            "height": null,
            "min_height": null,
            "padding": null,
            "grid_auto_rows": null,
            "grid_gap": null,
            "max_width": null,
            "order": null,
            "_view_module_version": "1.2.0",
            "grid_template_areas": null,
            "object_position": null,
            "object_fit": null,
            "grid_auto_columns": null,
            "margin": null,
            "display": null,
            "left": null
          }
        },
        "86b3023af29f4e40b8624931c6bf292c": {
          "model_module": "@jupyter-widgets/controls",
          "model_name": "ProgressStyleModel",
          "model_module_version": "1.5.0",
          "state": {
            "_view_name": "StyleView",
            "_model_name": "ProgressStyleModel",
            "description_width": "",
            "_view_module": "@jupyter-widgets/base",
            "_model_module_version": "1.5.0",
            "_view_count": null,
            "_view_module_version": "1.2.0",
            "bar_color": null,
            "_model_module": "@jupyter-widgets/controls"
          }
        },
        "016dd8fb38434e8b93d5d2a442022978": {
          "model_module": "@jupyter-widgets/base",
          "model_name": "LayoutModel",
          "model_module_version": "1.2.0",
          "state": {
            "_view_name": "LayoutView",
            "grid_template_rows": null,
            "right": null,
            "justify_content": null,
            "_view_module": "@jupyter-widgets/base",
            "overflow": null,
            "_model_module_version": "1.2.0",
            "_view_count": null,
            "flex_flow": null,
            "width": null,
            "min_width": null,
            "border": null,
            "align_items": null,
            "bottom": null,
            "_model_module": "@jupyter-widgets/base",
            "top": null,
            "grid_column": null,
            "overflow_y": null,
            "overflow_x": null,
            "grid_auto_flow": null,
            "grid_area": null,
            "grid_template_columns": null,
            "flex": null,
            "_model_name": "LayoutModel",
            "justify_items": null,
            "grid_row": null,
            "max_height": null,
            "align_content": null,
            "visibility": null,
            "align_self": null,
            "height": null,
            "min_height": null,
            "padding": null,
            "grid_auto_rows": null,
            "grid_gap": null,
            "max_width": null,
            "order": null,
            "_view_module_version": "1.2.0",
            "grid_template_areas": null,
            "object_position": null,
            "object_fit": null,
            "grid_auto_columns": null,
            "margin": null,
            "display": null,
            "left": null
          }
        },
        "cd5048a2f2dc42008412bd11cc8dc9fa": {
          "model_module": "@jupyter-widgets/controls",
          "model_name": "DescriptionStyleModel",
          "model_module_version": "1.5.0",
          "state": {
            "_view_name": "StyleView",
            "_model_name": "DescriptionStyleModel",
            "description_width": "",
            "_view_module": "@jupyter-widgets/base",
            "_model_module_version": "1.5.0",
            "_view_count": null,
            "_view_module_version": "1.2.0",
            "_model_module": "@jupyter-widgets/controls"
          }
        },
        "1934793f3f634d1c9061ebf5ff54186d": {
          "model_module": "@jupyter-widgets/base",
          "model_name": "LayoutModel",
          "model_module_version": "1.2.0",
          "state": {
            "_view_name": "LayoutView",
            "grid_template_rows": null,
            "right": null,
            "justify_content": null,
            "_view_module": "@jupyter-widgets/base",
            "overflow": null,
            "_model_module_version": "1.2.0",
            "_view_count": null,
            "flex_flow": null,
            "width": null,
            "min_width": null,
            "border": null,
            "align_items": null,
            "bottom": null,
            "_model_module": "@jupyter-widgets/base",
            "top": null,
            "grid_column": null,
            "overflow_y": null,
            "overflow_x": null,
            "grid_auto_flow": null,
            "grid_area": null,
            "grid_template_columns": null,
            "flex": null,
            "_model_name": "LayoutModel",
            "justify_items": null,
            "grid_row": null,
            "max_height": null,
            "align_content": null,
            "visibility": null,
            "align_self": null,
            "height": null,
            "min_height": null,
            "padding": null,
            "grid_auto_rows": null,
            "grid_gap": null,
            "max_width": null,
            "order": null,
            "_view_module_version": "1.2.0",
            "grid_template_areas": null,
            "object_position": null,
            "object_fit": null,
            "grid_auto_columns": null,
            "margin": null,
            "display": null,
            "left": null
          }
        },
        "06218806d7e247b88740f4814785ef5f": {
          "model_module": "@jupyter-widgets/controls",
          "model_name": "HBoxModel",
          "model_module_version": "1.5.0",
          "state": {
            "_view_name": "HBoxView",
            "_dom_classes": [],
            "_model_name": "HBoxModel",
            "_view_module": "@jupyter-widgets/controls",
            "_model_module_version": "1.5.0",
            "_view_count": null,
            "_view_module_version": "1.5.0",
            "box_style": "",
            "layout": "IPY_MODEL_367bad6b9fd940c2bd3c8ce8fb069950",
            "_model_module": "@jupyter-widgets/controls",
            "children": [
              "IPY_MODEL_60957f49a59e45d9b2ae2c7a67ebabf1",
              "IPY_MODEL_cd79d286ebac483a85ea311b9c18df20",
              "IPY_MODEL_1c1158270a5d4ffabb8de0924a767b21"
            ]
          }
        },
        "367bad6b9fd940c2bd3c8ce8fb069950": {
          "model_module": "@jupyter-widgets/base",
          "model_name": "LayoutModel",
          "model_module_version": "1.2.0",
          "state": {
            "_view_name": "LayoutView",
            "grid_template_rows": null,
            "right": null,
            "justify_content": null,
            "_view_module": "@jupyter-widgets/base",
            "overflow": null,
            "_model_module_version": "1.2.0",
            "_view_count": null,
            "flex_flow": null,
            "width": null,
            "min_width": null,
            "border": null,
            "align_items": null,
            "bottom": null,
            "_model_module": "@jupyter-widgets/base",
            "top": null,
            "grid_column": null,
            "overflow_y": null,
            "overflow_x": null,
            "grid_auto_flow": null,
            "grid_area": null,
            "grid_template_columns": null,
            "flex": null,
            "_model_name": "LayoutModel",
            "justify_items": null,
            "grid_row": null,
            "max_height": null,
            "align_content": null,
            "visibility": null,
            "align_self": null,
            "height": null,
            "min_height": null,
            "padding": null,
            "grid_auto_rows": null,
            "grid_gap": null,
            "max_width": null,
            "order": null,
            "_view_module_version": "1.2.0",
            "grid_template_areas": null,
            "object_position": null,
            "object_fit": null,
            "grid_auto_columns": null,
            "margin": null,
            "display": null,
            "left": null
          }
        },
        "60957f49a59e45d9b2ae2c7a67ebabf1": {
          "model_module": "@jupyter-widgets/controls",
          "model_name": "HTMLModel",
          "model_module_version": "1.5.0",
          "state": {
            "_view_name": "HTMLView",
            "style": "IPY_MODEL_50c2119938804617b2010f8b8a55d16e",
            "_dom_classes": [],
            "description": "",
            "_model_name": "HTMLModel",
            "placeholder": "​",
            "_view_module": "@jupyter-widgets/controls",
            "_model_module_version": "1.5.0",
            "value": "Downloading: 100%",
            "_view_count": null,
            "_view_module_version": "1.5.0",
            "description_tooltip": null,
            "_model_module": "@jupyter-widgets/controls",
            "layout": "IPY_MODEL_237462ae1b944c98913574fcccf2a020"
          }
        },
        "cd79d286ebac483a85ea311b9c18df20": {
          "model_module": "@jupyter-widgets/controls",
          "model_name": "FloatProgressModel",
          "model_module_version": "1.5.0",
          "state": {
            "_view_name": "ProgressView",
            "style": "IPY_MODEL_6bb1038e276443dbb0ca29c11e22a691",
            "_dom_classes": [],
            "description": "",
            "_model_name": "FloatProgressModel",
            "bar_style": "success",
            "max": 231508,
            "_view_module": "@jupyter-widgets/controls",
            "_model_module_version": "1.5.0",
            "value": 231508,
            "_view_count": null,
            "_view_module_version": "1.5.0",
            "orientation": "horizontal",
            "min": 0,
            "description_tooltip": null,
            "_model_module": "@jupyter-widgets/controls",
            "layout": "IPY_MODEL_2733ddb87385457b99505f51f7b82625"
          }
        },
        "1c1158270a5d4ffabb8de0924a767b21": {
          "model_module": "@jupyter-widgets/controls",
          "model_name": "HTMLModel",
          "model_module_version": "1.5.0",
          "state": {
            "_view_name": "HTMLView",
            "style": "IPY_MODEL_b32881a55ab64c4d9ccb9eece2e50c0d",
            "_dom_classes": [],
            "description": "",
            "_model_name": "HTMLModel",
            "placeholder": "​",
            "_view_module": "@jupyter-widgets/controls",
            "_model_module_version": "1.5.0",
            "value": " 226k/226k [00:00&lt;00:00, 476kB/s]",
            "_view_count": null,
            "_view_module_version": "1.5.0",
            "description_tooltip": null,
            "_model_module": "@jupyter-widgets/controls",
            "layout": "IPY_MODEL_d521182ebcf244e4aaaffaf4b301d927"
          }
        },
        "50c2119938804617b2010f8b8a55d16e": {
          "model_module": "@jupyter-widgets/controls",
          "model_name": "DescriptionStyleModel",
          "model_module_version": "1.5.0",
          "state": {
            "_view_name": "StyleView",
            "_model_name": "DescriptionStyleModel",
            "description_width": "",
            "_view_module": "@jupyter-widgets/base",
            "_model_module_version": "1.5.0",
            "_view_count": null,
            "_view_module_version": "1.2.0",
            "_model_module": "@jupyter-widgets/controls"
          }
        },
        "237462ae1b944c98913574fcccf2a020": {
          "model_module": "@jupyter-widgets/base",
          "model_name": "LayoutModel",
          "model_module_version": "1.2.0",
          "state": {
            "_view_name": "LayoutView",
            "grid_template_rows": null,
            "right": null,
            "justify_content": null,
            "_view_module": "@jupyter-widgets/base",
            "overflow": null,
            "_model_module_version": "1.2.0",
            "_view_count": null,
            "flex_flow": null,
            "width": null,
            "min_width": null,
            "border": null,
            "align_items": null,
            "bottom": null,
            "_model_module": "@jupyter-widgets/base",
            "top": null,
            "grid_column": null,
            "overflow_y": null,
            "overflow_x": null,
            "grid_auto_flow": null,
            "grid_area": null,
            "grid_template_columns": null,
            "flex": null,
            "_model_name": "LayoutModel",
            "justify_items": null,
            "grid_row": null,
            "max_height": null,
            "align_content": null,
            "visibility": null,
            "align_self": null,
            "height": null,
            "min_height": null,
            "padding": null,
            "grid_auto_rows": null,
            "grid_gap": null,
            "max_width": null,
            "order": null,
            "_view_module_version": "1.2.0",
            "grid_template_areas": null,
            "object_position": null,
            "object_fit": null,
            "grid_auto_columns": null,
            "margin": null,
            "display": null,
            "left": null
          }
        },
        "6bb1038e276443dbb0ca29c11e22a691": {
          "model_module": "@jupyter-widgets/controls",
          "model_name": "ProgressStyleModel",
          "model_module_version": "1.5.0",
          "state": {
            "_view_name": "StyleView",
            "_model_name": "ProgressStyleModel",
            "description_width": "",
            "_view_module": "@jupyter-widgets/base",
            "_model_module_version": "1.5.0",
            "_view_count": null,
            "_view_module_version": "1.2.0",
            "bar_color": null,
            "_model_module": "@jupyter-widgets/controls"
          }
        },
        "2733ddb87385457b99505f51f7b82625": {
          "model_module": "@jupyter-widgets/base",
          "model_name": "LayoutModel",
          "model_module_version": "1.2.0",
          "state": {
            "_view_name": "LayoutView",
            "grid_template_rows": null,
            "right": null,
            "justify_content": null,
            "_view_module": "@jupyter-widgets/base",
            "overflow": null,
            "_model_module_version": "1.2.0",
            "_view_count": null,
            "flex_flow": null,
            "width": null,
            "min_width": null,
            "border": null,
            "align_items": null,
            "bottom": null,
            "_model_module": "@jupyter-widgets/base",
            "top": null,
            "grid_column": null,
            "overflow_y": null,
            "overflow_x": null,
            "grid_auto_flow": null,
            "grid_area": null,
            "grid_template_columns": null,
            "flex": null,
            "_model_name": "LayoutModel",
            "justify_items": null,
            "grid_row": null,
            "max_height": null,
            "align_content": null,
            "visibility": null,
            "align_self": null,
            "height": null,
            "min_height": null,
            "padding": null,
            "grid_auto_rows": null,
            "grid_gap": null,
            "max_width": null,
            "order": null,
            "_view_module_version": "1.2.0",
            "grid_template_areas": null,
            "object_position": null,
            "object_fit": null,
            "grid_auto_columns": null,
            "margin": null,
            "display": null,
            "left": null
          }
        },
        "b32881a55ab64c4d9ccb9eece2e50c0d": {
          "model_module": "@jupyter-widgets/controls",
          "model_name": "DescriptionStyleModel",
          "model_module_version": "1.5.0",
          "state": {
            "_view_name": "StyleView",
            "_model_name": "DescriptionStyleModel",
            "description_width": "",
            "_view_module": "@jupyter-widgets/base",
            "_model_module_version": "1.5.0",
            "_view_count": null,
            "_view_module_version": "1.2.0",
            "_model_module": "@jupyter-widgets/controls"
          }
        },
        "d521182ebcf244e4aaaffaf4b301d927": {
          "model_module": "@jupyter-widgets/base",
          "model_name": "LayoutModel",
          "model_module_version": "1.2.0",
          "state": {
            "_view_name": "LayoutView",
            "grid_template_rows": null,
            "right": null,
            "justify_content": null,
            "_view_module": "@jupyter-widgets/base",
            "overflow": null,
            "_model_module_version": "1.2.0",
            "_view_count": null,
            "flex_flow": null,
            "width": null,
            "min_width": null,
            "border": null,
            "align_items": null,
            "bottom": null,
            "_model_module": "@jupyter-widgets/base",
            "top": null,
            "grid_column": null,
            "overflow_y": null,
            "overflow_x": null,
            "grid_auto_flow": null,
            "grid_area": null,
            "grid_template_columns": null,
            "flex": null,
            "_model_name": "LayoutModel",
            "justify_items": null,
            "grid_row": null,
            "max_height": null,
            "align_content": null,
            "visibility": null,
            "align_self": null,
            "height": null,
            "min_height": null,
            "padding": null,
            "grid_auto_rows": null,
            "grid_gap": null,
            "max_width": null,
            "order": null,
            "_view_module_version": "1.2.0",
            "grid_template_areas": null,
            "object_position": null,
            "object_fit": null,
            "grid_auto_columns": null,
            "margin": null,
            "display": null,
            "left": null
          }
        },
        "4249d35f17e84f23a7cf6af4b63b4653": {
          "model_module": "@jupyter-widgets/controls",
          "model_name": "HBoxModel",
          "model_module_version": "1.5.0",
          "state": {
            "_view_name": "HBoxView",
            "_dom_classes": [],
            "_model_name": "HBoxModel",
            "_view_module": "@jupyter-widgets/controls",
            "_model_module_version": "1.5.0",
            "_view_count": null,
            "_view_module_version": "1.5.0",
            "box_style": "",
            "layout": "IPY_MODEL_481bb32b47ea4be2be1b5d08461958ba",
            "_model_module": "@jupyter-widgets/controls",
            "children": [
              "IPY_MODEL_9c8cb7b3f69b4584ad28522339508014",
              "IPY_MODEL_85178cfa2dbd4d569b9d30e9b3d472b7",
              "IPY_MODEL_f7938afbaae64179a34afa2410fc7dce"
            ]
          }
        },
        "481bb32b47ea4be2be1b5d08461958ba": {
          "model_module": "@jupyter-widgets/base",
          "model_name": "LayoutModel",
          "model_module_version": "1.2.0",
          "state": {
            "_view_name": "LayoutView",
            "grid_template_rows": null,
            "right": null,
            "justify_content": null,
            "_view_module": "@jupyter-widgets/base",
            "overflow": null,
            "_model_module_version": "1.2.0",
            "_view_count": null,
            "flex_flow": null,
            "width": null,
            "min_width": null,
            "border": null,
            "align_items": null,
            "bottom": null,
            "_model_module": "@jupyter-widgets/base",
            "top": null,
            "grid_column": null,
            "overflow_y": null,
            "overflow_x": null,
            "grid_auto_flow": null,
            "grid_area": null,
            "grid_template_columns": null,
            "flex": null,
            "_model_name": "LayoutModel",
            "justify_items": null,
            "grid_row": null,
            "max_height": null,
            "align_content": null,
            "visibility": null,
            "align_self": null,
            "height": null,
            "min_height": null,
            "padding": null,
            "grid_auto_rows": null,
            "grid_gap": null,
            "max_width": null,
            "order": null,
            "_view_module_version": "1.2.0",
            "grid_template_areas": null,
            "object_position": null,
            "object_fit": null,
            "grid_auto_columns": null,
            "margin": null,
            "display": null,
            "left": null
          }
        },
        "9c8cb7b3f69b4584ad28522339508014": {
          "model_module": "@jupyter-widgets/controls",
          "model_name": "HTMLModel",
          "model_module_version": "1.5.0",
          "state": {
            "_view_name": "HTMLView",
            "style": "IPY_MODEL_a552141bcf1547219a3dfb399ad725f0",
            "_dom_classes": [],
            "description": "",
            "_model_name": "HTMLModel",
            "placeholder": "​",
            "_view_module": "@jupyter-widgets/controls",
            "_model_module_version": "1.5.0",
            "value": "Downloading: 100%",
            "_view_count": null,
            "_view_module_version": "1.5.0",
            "description_tooltip": null,
            "_model_module": "@jupyter-widgets/controls",
            "layout": "IPY_MODEL_bf17f0fc8d594d9999499606545c11d9"
          }
        },
        "85178cfa2dbd4d569b9d30e9b3d472b7": {
          "model_module": "@jupyter-widgets/controls",
          "model_name": "FloatProgressModel",
          "model_module_version": "1.5.0",
          "state": {
            "_view_name": "ProgressView",
            "style": "IPY_MODEL_7639b3685f7244609e4ba210198d4037",
            "_dom_classes": [],
            "description": "",
            "_model_name": "FloatProgressModel",
            "bar_style": "success",
            "max": 28,
            "_view_module": "@jupyter-widgets/controls",
            "_model_module_version": "1.5.0",
            "value": 28,
            "_view_count": null,
            "_view_module_version": "1.5.0",
            "orientation": "horizontal",
            "min": 0,
            "description_tooltip": null,
            "_model_module": "@jupyter-widgets/controls",
            "layout": "IPY_MODEL_94cf8059f430469885330c529a79a6d4"
          }
        },
        "f7938afbaae64179a34afa2410fc7dce": {
          "model_module": "@jupyter-widgets/controls",
          "model_name": "HTMLModel",
          "model_module_version": "1.5.0",
          "state": {
            "_view_name": "HTMLView",
            "style": "IPY_MODEL_607d90cdb8d642d78b909457da2231c9",
            "_dom_classes": [],
            "description": "",
            "_model_name": "HTMLModel",
            "placeholder": "​",
            "_view_module": "@jupyter-widgets/controls",
            "_model_module_version": "1.5.0",
            "value": " 28.0/28.0 [00:00&lt;00:00, 344B/s]",
            "_view_count": null,
            "_view_module_version": "1.5.0",
            "description_tooltip": null,
            "_model_module": "@jupyter-widgets/controls",
            "layout": "IPY_MODEL_7c994908b17b47ccac20af629ef04b2b"
          }
        },
        "a552141bcf1547219a3dfb399ad725f0": {
          "model_module": "@jupyter-widgets/controls",
          "model_name": "DescriptionStyleModel",
          "model_module_version": "1.5.0",
          "state": {
            "_view_name": "StyleView",
            "_model_name": "DescriptionStyleModel",
            "description_width": "",
            "_view_module": "@jupyter-widgets/base",
            "_model_module_version": "1.5.0",
            "_view_count": null,
            "_view_module_version": "1.2.0",
            "_model_module": "@jupyter-widgets/controls"
          }
        },
        "bf17f0fc8d594d9999499606545c11d9": {
          "model_module": "@jupyter-widgets/base",
          "model_name": "LayoutModel",
          "model_module_version": "1.2.0",
          "state": {
            "_view_name": "LayoutView",
            "grid_template_rows": null,
            "right": null,
            "justify_content": null,
            "_view_module": "@jupyter-widgets/base",
            "overflow": null,
            "_model_module_version": "1.2.0",
            "_view_count": null,
            "flex_flow": null,
            "width": null,
            "min_width": null,
            "border": null,
            "align_items": null,
            "bottom": null,
            "_model_module": "@jupyter-widgets/base",
            "top": null,
            "grid_column": null,
            "overflow_y": null,
            "overflow_x": null,
            "grid_auto_flow": null,
            "grid_area": null,
            "grid_template_columns": null,
            "flex": null,
            "_model_name": "LayoutModel",
            "justify_items": null,
            "grid_row": null,
            "max_height": null,
            "align_content": null,
            "visibility": null,
            "align_self": null,
            "height": null,
            "min_height": null,
            "padding": null,
            "grid_auto_rows": null,
            "grid_gap": null,
            "max_width": null,
            "order": null,
            "_view_module_version": "1.2.0",
            "grid_template_areas": null,
            "object_position": null,
            "object_fit": null,
            "grid_auto_columns": null,
            "margin": null,
            "display": null,
            "left": null
          }
        },
        "7639b3685f7244609e4ba210198d4037": {
          "model_module": "@jupyter-widgets/controls",
          "model_name": "ProgressStyleModel",
          "model_module_version": "1.5.0",
          "state": {
            "_view_name": "StyleView",
            "_model_name": "ProgressStyleModel",
            "description_width": "",
            "_view_module": "@jupyter-widgets/base",
            "_model_module_version": "1.5.0",
            "_view_count": null,
            "_view_module_version": "1.2.0",
            "bar_color": null,
            "_model_module": "@jupyter-widgets/controls"
          }
        },
        "94cf8059f430469885330c529a79a6d4": {
          "model_module": "@jupyter-widgets/base",
          "model_name": "LayoutModel",
          "model_module_version": "1.2.0",
          "state": {
            "_view_name": "LayoutView",
            "grid_template_rows": null,
            "right": null,
            "justify_content": null,
            "_view_module": "@jupyter-widgets/base",
            "overflow": null,
            "_model_module_version": "1.2.0",
            "_view_count": null,
            "flex_flow": null,
            "width": null,
            "min_width": null,
            "border": null,
            "align_items": null,
            "bottom": null,
            "_model_module": "@jupyter-widgets/base",
            "top": null,
            "grid_column": null,
            "overflow_y": null,
            "overflow_x": null,
            "grid_auto_flow": null,
            "grid_area": null,
            "grid_template_columns": null,
            "flex": null,
            "_model_name": "LayoutModel",
            "justify_items": null,
            "grid_row": null,
            "max_height": null,
            "align_content": null,
            "visibility": null,
            "align_self": null,
            "height": null,
            "min_height": null,
            "padding": null,
            "grid_auto_rows": null,
            "grid_gap": null,
            "max_width": null,
            "order": null,
            "_view_module_version": "1.2.0",
            "grid_template_areas": null,
            "object_position": null,
            "object_fit": null,
            "grid_auto_columns": null,
            "margin": null,
            "display": null,
            "left": null
          }
        },
        "607d90cdb8d642d78b909457da2231c9": {
          "model_module": "@jupyter-widgets/controls",
          "model_name": "DescriptionStyleModel",
          "model_module_version": "1.5.0",
          "state": {
            "_view_name": "StyleView",
            "_model_name": "DescriptionStyleModel",
            "description_width": "",
            "_view_module": "@jupyter-widgets/base",
            "_model_module_version": "1.5.0",
            "_view_count": null,
            "_view_module_version": "1.2.0",
            "_model_module": "@jupyter-widgets/controls"
          }
        },
        "7c994908b17b47ccac20af629ef04b2b": {
          "model_module": "@jupyter-widgets/base",
          "model_name": "LayoutModel",
          "model_module_version": "1.2.0",
          "state": {
            "_view_name": "LayoutView",
            "grid_template_rows": null,
            "right": null,
            "justify_content": null,
            "_view_module": "@jupyter-widgets/base",
            "overflow": null,
            "_model_module_version": "1.2.0",
            "_view_count": null,
            "flex_flow": null,
            "width": null,
            "min_width": null,
            "border": null,
            "align_items": null,
            "bottom": null,
            "_model_module": "@jupyter-widgets/base",
            "top": null,
            "grid_column": null,
            "overflow_y": null,
            "overflow_x": null,
            "grid_auto_flow": null,
            "grid_area": null,
            "grid_template_columns": null,
            "flex": null,
            "_model_name": "LayoutModel",
            "justify_items": null,
            "grid_row": null,
            "max_height": null,
            "align_content": null,
            "visibility": null,
            "align_self": null,
            "height": null,
            "min_height": null,
            "padding": null,
            "grid_auto_rows": null,
            "grid_gap": null,
            "max_width": null,
            "order": null,
            "_view_module_version": "1.2.0",
            "grid_template_areas": null,
            "object_position": null,
            "object_fit": null,
            "grid_auto_columns": null,
            "margin": null,
            "display": null,
            "left": null
          }
        },
        "2c640f5faa184560a1dfd51ed03c0005": {
          "model_module": "@jupyter-widgets/controls",
          "model_name": "HBoxModel",
          "model_module_version": "1.5.0",
          "state": {
            "_view_name": "HBoxView",
            "_dom_classes": [],
            "_model_name": "HBoxModel",
            "_view_module": "@jupyter-widgets/controls",
            "_model_module_version": "1.5.0",
            "_view_count": null,
            "_view_module_version": "1.5.0",
            "box_style": "",
            "layout": "IPY_MODEL_a683cfda54c64d23993cea696b0e868f",
            "_model_module": "@jupyter-widgets/controls",
            "children": [
              "IPY_MODEL_9b113802d2ed4a71a54cb41f2e07774c",
              "IPY_MODEL_c8ab86792fcb464da9f116be68b5b0f9",
              "IPY_MODEL_f0a785a7060e4c30a97afb53f639c8ee"
            ]
          }
        },
        "a683cfda54c64d23993cea696b0e868f": {
          "model_module": "@jupyter-widgets/base",
          "model_name": "LayoutModel",
          "model_module_version": "1.2.0",
          "state": {
            "_view_name": "LayoutView",
            "grid_template_rows": null,
            "right": null,
            "justify_content": null,
            "_view_module": "@jupyter-widgets/base",
            "overflow": null,
            "_model_module_version": "1.2.0",
            "_view_count": null,
            "flex_flow": null,
            "width": null,
            "min_width": null,
            "border": null,
            "align_items": null,
            "bottom": null,
            "_model_module": "@jupyter-widgets/base",
            "top": null,
            "grid_column": null,
            "overflow_y": null,
            "overflow_x": null,
            "grid_auto_flow": null,
            "grid_area": null,
            "grid_template_columns": null,
            "flex": null,
            "_model_name": "LayoutModel",
            "justify_items": null,
            "grid_row": null,
            "max_height": null,
            "align_content": null,
            "visibility": null,
            "align_self": null,
            "height": null,
            "min_height": null,
            "padding": null,
            "grid_auto_rows": null,
            "grid_gap": null,
            "max_width": null,
            "order": null,
            "_view_module_version": "1.2.0",
            "grid_template_areas": null,
            "object_position": null,
            "object_fit": null,
            "grid_auto_columns": null,
            "margin": null,
            "display": null,
            "left": null
          }
        },
        "9b113802d2ed4a71a54cb41f2e07774c": {
          "model_module": "@jupyter-widgets/controls",
          "model_name": "HTMLModel",
          "model_module_version": "1.5.0",
          "state": {
            "_view_name": "HTMLView",
            "style": "IPY_MODEL_2843111d3705481a97deb7d7b0047d65",
            "_dom_classes": [],
            "description": "",
            "_model_name": "HTMLModel",
            "placeholder": "​",
            "_view_module": "@jupyter-widgets/controls",
            "_model_module_version": "1.5.0",
            "value": "Downloading: 100%",
            "_view_count": null,
            "_view_module_version": "1.5.0",
            "description_tooltip": null,
            "_model_module": "@jupyter-widgets/controls",
            "layout": "IPY_MODEL_9671573efac94fb387a9bfc306c8e6a5"
          }
        },
        "c8ab86792fcb464da9f116be68b5b0f9": {
          "model_module": "@jupyter-widgets/controls",
          "model_name": "FloatProgressModel",
          "model_module_version": "1.5.0",
          "state": {
            "_view_name": "ProgressView",
            "style": "IPY_MODEL_8adb3a21a3e44743b371109bc79e5753",
            "_dom_classes": [],
            "description": "",
            "_model_name": "FloatProgressModel",
            "bar_style": "success",
            "max": 466062,
            "_view_module": "@jupyter-widgets/controls",
            "_model_module_version": "1.5.0",
            "value": 466062,
            "_view_count": null,
            "_view_module_version": "1.5.0",
            "orientation": "horizontal",
            "min": 0,
            "description_tooltip": null,
            "_model_module": "@jupyter-widgets/controls",
            "layout": "IPY_MODEL_4f485d896a7247f2be79f3a4df6bf449"
          }
        },
        "f0a785a7060e4c30a97afb53f639c8ee": {
          "model_module": "@jupyter-widgets/controls",
          "model_name": "HTMLModel",
          "model_module_version": "1.5.0",
          "state": {
            "_view_name": "HTMLView",
            "style": "IPY_MODEL_01554d80fd2d471c8002786e53b60fd9",
            "_dom_classes": [],
            "description": "",
            "_model_name": "HTMLModel",
            "placeholder": "​",
            "_view_module": "@jupyter-widgets/controls",
            "_model_module_version": "1.5.0",
            "value": " 455k/455k [00:00&lt;00:00, 818kB/s]",
            "_view_count": null,
            "_view_module_version": "1.5.0",
            "description_tooltip": null,
            "_model_module": "@jupyter-widgets/controls",
            "layout": "IPY_MODEL_db5bb0735c974e0e9151bd0c8a80afcd"
          }
        },
        "2843111d3705481a97deb7d7b0047d65": {
          "model_module": "@jupyter-widgets/controls",
          "model_name": "DescriptionStyleModel",
          "model_module_version": "1.5.0",
          "state": {
            "_view_name": "StyleView",
            "_model_name": "DescriptionStyleModel",
            "description_width": "",
            "_view_module": "@jupyter-widgets/base",
            "_model_module_version": "1.5.0",
            "_view_count": null,
            "_view_module_version": "1.2.0",
            "_model_module": "@jupyter-widgets/controls"
          }
        },
        "9671573efac94fb387a9bfc306c8e6a5": {
          "model_module": "@jupyter-widgets/base",
          "model_name": "LayoutModel",
          "model_module_version": "1.2.0",
          "state": {
            "_view_name": "LayoutView",
            "grid_template_rows": null,
            "right": null,
            "justify_content": null,
            "_view_module": "@jupyter-widgets/base",
            "overflow": null,
            "_model_module_version": "1.2.0",
            "_view_count": null,
            "flex_flow": null,
            "width": null,
            "min_width": null,
            "border": null,
            "align_items": null,
            "bottom": null,
            "_model_module": "@jupyter-widgets/base",
            "top": null,
            "grid_column": null,
            "overflow_y": null,
            "overflow_x": null,
            "grid_auto_flow": null,
            "grid_area": null,
            "grid_template_columns": null,
            "flex": null,
            "_model_name": "LayoutModel",
            "justify_items": null,
            "grid_row": null,
            "max_height": null,
            "align_content": null,
            "visibility": null,
            "align_self": null,
            "height": null,
            "min_height": null,
            "padding": null,
            "grid_auto_rows": null,
            "grid_gap": null,
            "max_width": null,
            "order": null,
            "_view_module_version": "1.2.0",
            "grid_template_areas": null,
            "object_position": null,
            "object_fit": null,
            "grid_auto_columns": null,
            "margin": null,
            "display": null,
            "left": null
          }
        },
        "8adb3a21a3e44743b371109bc79e5753": {
          "model_module": "@jupyter-widgets/controls",
          "model_name": "ProgressStyleModel",
          "model_module_version": "1.5.0",
          "state": {
            "_view_name": "StyleView",
            "_model_name": "ProgressStyleModel",
            "description_width": "",
            "_view_module": "@jupyter-widgets/base",
            "_model_module_version": "1.5.0",
            "_view_count": null,
            "_view_module_version": "1.2.0",
            "bar_color": null,
            "_model_module": "@jupyter-widgets/controls"
          }
        },
        "4f485d896a7247f2be79f3a4df6bf449": {
          "model_module": "@jupyter-widgets/base",
          "model_name": "LayoutModel",
          "model_module_version": "1.2.0",
          "state": {
            "_view_name": "LayoutView",
            "grid_template_rows": null,
            "right": null,
            "justify_content": null,
            "_view_module": "@jupyter-widgets/base",
            "overflow": null,
            "_model_module_version": "1.2.0",
            "_view_count": null,
            "flex_flow": null,
            "width": null,
            "min_width": null,
            "border": null,
            "align_items": null,
            "bottom": null,
            "_model_module": "@jupyter-widgets/base",
            "top": null,
            "grid_column": null,
            "overflow_y": null,
            "overflow_x": null,
            "grid_auto_flow": null,
            "grid_area": null,
            "grid_template_columns": null,
            "flex": null,
            "_model_name": "LayoutModel",
            "justify_items": null,
            "grid_row": null,
            "max_height": null,
            "align_content": null,
            "visibility": null,
            "align_self": null,
            "height": null,
            "min_height": null,
            "padding": null,
            "grid_auto_rows": null,
            "grid_gap": null,
            "max_width": null,
            "order": null,
            "_view_module_version": "1.2.0",
            "grid_template_areas": null,
            "object_position": null,
            "object_fit": null,
            "grid_auto_columns": null,
            "margin": null,
            "display": null,
            "left": null
          }
        },
        "01554d80fd2d471c8002786e53b60fd9": {
          "model_module": "@jupyter-widgets/controls",
          "model_name": "DescriptionStyleModel",
          "model_module_version": "1.5.0",
          "state": {
            "_view_name": "StyleView",
            "_model_name": "DescriptionStyleModel",
            "description_width": "",
            "_view_module": "@jupyter-widgets/base",
            "_model_module_version": "1.5.0",
            "_view_count": null,
            "_view_module_version": "1.2.0",
            "_model_module": "@jupyter-widgets/controls"
          }
        },
        "db5bb0735c974e0e9151bd0c8a80afcd": {
          "model_module": "@jupyter-widgets/base",
          "model_name": "LayoutModel",
          "model_module_version": "1.2.0",
          "state": {
            "_view_name": "LayoutView",
            "grid_template_rows": null,
            "right": null,
            "justify_content": null,
            "_view_module": "@jupyter-widgets/base",
            "overflow": null,
            "_model_module_version": "1.2.0",
            "_view_count": null,
            "flex_flow": null,
            "width": null,
            "min_width": null,
            "border": null,
            "align_items": null,
            "bottom": null,
            "_model_module": "@jupyter-widgets/base",
            "top": null,
            "grid_column": null,
            "overflow_y": null,
            "overflow_x": null,
            "grid_auto_flow": null,
            "grid_area": null,
            "grid_template_columns": null,
            "flex": null,
            "_model_name": "LayoutModel",
            "justify_items": null,
            "grid_row": null,
            "max_height": null,
            "align_content": null,
            "visibility": null,
            "align_self": null,
            "height": null,
            "min_height": null,
            "padding": null,
            "grid_auto_rows": null,
            "grid_gap": null,
            "max_width": null,
            "order": null,
            "_view_module_version": "1.2.0",
            "grid_template_areas": null,
            "object_position": null,
            "object_fit": null,
            "grid_auto_columns": null,
            "margin": null,
            "display": null,
            "left": null
          }
        },
        "7c5ae9da4755429d849743846cbc2f97": {
          "model_module": "@jupyter-widgets/controls",
          "model_name": "HBoxModel",
          "model_module_version": "1.5.0",
          "state": {
            "_view_name": "HBoxView",
            "_dom_classes": [],
            "_model_name": "HBoxModel",
            "_view_module": "@jupyter-widgets/controls",
            "_model_module_version": "1.5.0",
            "_view_count": null,
            "_view_module_version": "1.5.0",
            "box_style": "",
            "layout": "IPY_MODEL_a536d590ee2249a0820a58b47c4c4702",
            "_model_module": "@jupyter-widgets/controls",
            "children": [
              "IPY_MODEL_5d9d1aa82b9a4dd98b804306b97e0549",
              "IPY_MODEL_d21690f5a0c443c9a6cb2fa73c6e0f58",
              "IPY_MODEL_3df3f9645ef04e278eb8609d686d2e88"
            ]
          }
        },
        "a536d590ee2249a0820a58b47c4c4702": {
          "model_module": "@jupyter-widgets/base",
          "model_name": "LayoutModel",
          "model_module_version": "1.2.0",
          "state": {
            "_view_name": "LayoutView",
            "grid_template_rows": null,
            "right": null,
            "justify_content": null,
            "_view_module": "@jupyter-widgets/base",
            "overflow": null,
            "_model_module_version": "1.2.0",
            "_view_count": null,
            "flex_flow": null,
            "width": null,
            "min_width": null,
            "border": null,
            "align_items": null,
            "bottom": null,
            "_model_module": "@jupyter-widgets/base",
            "top": null,
            "grid_column": null,
            "overflow_y": null,
            "overflow_x": null,
            "grid_auto_flow": null,
            "grid_area": null,
            "grid_template_columns": null,
            "flex": null,
            "_model_name": "LayoutModel",
            "justify_items": null,
            "grid_row": null,
            "max_height": null,
            "align_content": null,
            "visibility": null,
            "align_self": null,
            "height": null,
            "min_height": null,
            "padding": null,
            "grid_auto_rows": null,
            "grid_gap": null,
            "max_width": null,
            "order": null,
            "_view_module_version": "1.2.0",
            "grid_template_areas": null,
            "object_position": null,
            "object_fit": null,
            "grid_auto_columns": null,
            "margin": null,
            "display": null,
            "left": null
          }
        },
        "5d9d1aa82b9a4dd98b804306b97e0549": {
          "model_module": "@jupyter-widgets/controls",
          "model_name": "HTMLModel",
          "model_module_version": "1.5.0",
          "state": {
            "_view_name": "HTMLView",
            "style": "IPY_MODEL_1d965f382d7748e684e8161158ad2273",
            "_dom_classes": [],
            "description": "",
            "_model_name": "HTMLModel",
            "placeholder": "​",
            "_view_module": "@jupyter-widgets/controls",
            "_model_module_version": "1.5.0",
            "value": "Downloading: 100%",
            "_view_count": null,
            "_view_module_version": "1.5.0",
            "description_tooltip": null,
            "_model_module": "@jupyter-widgets/controls",
            "layout": "IPY_MODEL_aad3c6c2b18d4f04b03fe799973dd302"
          }
        },
        "d21690f5a0c443c9a6cb2fa73c6e0f58": {
          "model_module": "@jupyter-widgets/controls",
          "model_name": "FloatProgressModel",
          "model_module_version": "1.5.0",
          "state": {
            "_view_name": "ProgressView",
            "style": "IPY_MODEL_1323984b3120468c9fd9857eca8b3d96",
            "_dom_classes": [],
            "description": "",
            "_model_name": "FloatProgressModel",
            "bar_style": "success",
            "max": 570,
            "_view_module": "@jupyter-widgets/controls",
            "_model_module_version": "1.5.0",
            "value": 570,
            "_view_count": null,
            "_view_module_version": "1.5.0",
            "orientation": "horizontal",
            "min": 0,
            "description_tooltip": null,
            "_model_module": "@jupyter-widgets/controls",
            "layout": "IPY_MODEL_b6894c84d6c2438b9e370e844bb2e7d9"
          }
        },
        "3df3f9645ef04e278eb8609d686d2e88": {
          "model_module": "@jupyter-widgets/controls",
          "model_name": "HTMLModel",
          "model_module_version": "1.5.0",
          "state": {
            "_view_name": "HTMLView",
            "style": "IPY_MODEL_d498effe32f04dbaab0e889b72ef80bc",
            "_dom_classes": [],
            "description": "",
            "_model_name": "HTMLModel",
            "placeholder": "​",
            "_view_module": "@jupyter-widgets/controls",
            "_model_module_version": "1.5.0",
            "value": " 570/570 [00:00&lt;00:00, 12.3kB/s]",
            "_view_count": null,
            "_view_module_version": "1.5.0",
            "description_tooltip": null,
            "_model_module": "@jupyter-widgets/controls",
            "layout": "IPY_MODEL_f83de7949b064d089ae7a2a5363010dc"
          }
        },
        "1d965f382d7748e684e8161158ad2273": {
          "model_module": "@jupyter-widgets/controls",
          "model_name": "DescriptionStyleModel",
          "model_module_version": "1.5.0",
          "state": {
            "_view_name": "StyleView",
            "_model_name": "DescriptionStyleModel",
            "description_width": "",
            "_view_module": "@jupyter-widgets/base",
            "_model_module_version": "1.5.0",
            "_view_count": null,
            "_view_module_version": "1.2.0",
            "_model_module": "@jupyter-widgets/controls"
          }
        },
        "aad3c6c2b18d4f04b03fe799973dd302": {
          "model_module": "@jupyter-widgets/base",
          "model_name": "LayoutModel",
          "model_module_version": "1.2.0",
          "state": {
            "_view_name": "LayoutView",
            "grid_template_rows": null,
            "right": null,
            "justify_content": null,
            "_view_module": "@jupyter-widgets/base",
            "overflow": null,
            "_model_module_version": "1.2.0",
            "_view_count": null,
            "flex_flow": null,
            "width": null,
            "min_width": null,
            "border": null,
            "align_items": null,
            "bottom": null,
            "_model_module": "@jupyter-widgets/base",
            "top": null,
            "grid_column": null,
            "overflow_y": null,
            "overflow_x": null,
            "grid_auto_flow": null,
            "grid_area": null,
            "grid_template_columns": null,
            "flex": null,
            "_model_name": "LayoutModel",
            "justify_items": null,
            "grid_row": null,
            "max_height": null,
            "align_content": null,
            "visibility": null,
            "align_self": null,
            "height": null,
            "min_height": null,
            "padding": null,
            "grid_auto_rows": null,
            "grid_gap": null,
            "max_width": null,
            "order": null,
            "_view_module_version": "1.2.0",
            "grid_template_areas": null,
            "object_position": null,
            "object_fit": null,
            "grid_auto_columns": null,
            "margin": null,
            "display": null,
            "left": null
          }
        },
        "1323984b3120468c9fd9857eca8b3d96": {
          "model_module": "@jupyter-widgets/controls",
          "model_name": "ProgressStyleModel",
          "model_module_version": "1.5.0",
          "state": {
            "_view_name": "StyleView",
            "_model_name": "ProgressStyleModel",
            "description_width": "",
            "_view_module": "@jupyter-widgets/base",
            "_model_module_version": "1.5.0",
            "_view_count": null,
            "_view_module_version": "1.2.0",
            "bar_color": null,
            "_model_module": "@jupyter-widgets/controls"
          }
        },
        "b6894c84d6c2438b9e370e844bb2e7d9": {
          "model_module": "@jupyter-widgets/base",
          "model_name": "LayoutModel",
          "model_module_version": "1.2.0",
          "state": {
            "_view_name": "LayoutView",
            "grid_template_rows": null,
            "right": null,
            "justify_content": null,
            "_view_module": "@jupyter-widgets/base",
            "overflow": null,
            "_model_module_version": "1.2.0",
            "_view_count": null,
            "flex_flow": null,
            "width": null,
            "min_width": null,
            "border": null,
            "align_items": null,
            "bottom": null,
            "_model_module": "@jupyter-widgets/base",
            "top": null,
            "grid_column": null,
            "overflow_y": null,
            "overflow_x": null,
            "grid_auto_flow": null,
            "grid_area": null,
            "grid_template_columns": null,
            "flex": null,
            "_model_name": "LayoutModel",
            "justify_items": null,
            "grid_row": null,
            "max_height": null,
            "align_content": null,
            "visibility": null,
            "align_self": null,
            "height": null,
            "min_height": null,
            "padding": null,
            "grid_auto_rows": null,
            "grid_gap": null,
            "max_width": null,
            "order": null,
            "_view_module_version": "1.2.0",
            "grid_template_areas": null,
            "object_position": null,
            "object_fit": null,
            "grid_auto_columns": null,
            "margin": null,
            "display": null,
            "left": null
          }
        },
        "d498effe32f04dbaab0e889b72ef80bc": {
          "model_module": "@jupyter-widgets/controls",
          "model_name": "DescriptionStyleModel",
          "model_module_version": "1.5.0",
          "state": {
            "_view_name": "StyleView",
            "_model_name": "DescriptionStyleModel",
            "description_width": "",
            "_view_module": "@jupyter-widgets/base",
            "_model_module_version": "1.5.0",
            "_view_count": null,
            "_view_module_version": "1.2.0",
            "_model_module": "@jupyter-widgets/controls"
          }
        },
        "f83de7949b064d089ae7a2a5363010dc": {
          "model_module": "@jupyter-widgets/base",
          "model_name": "LayoutModel",
          "model_module_version": "1.2.0",
          "state": {
            "_view_name": "LayoutView",
            "grid_template_rows": null,
            "right": null,
            "justify_content": null,
            "_view_module": "@jupyter-widgets/base",
            "overflow": null,
            "_model_module_version": "1.2.0",
            "_view_count": null,
            "flex_flow": null,
            "width": null,
            "min_width": null,
            "border": null,
            "align_items": null,
            "bottom": null,
            "_model_module": "@jupyter-widgets/base",
            "top": null,
            "grid_column": null,
            "overflow_y": null,
            "overflow_x": null,
            "grid_auto_flow": null,
            "grid_area": null,
            "grid_template_columns": null,
            "flex": null,
            "_model_name": "LayoutModel",
            "justify_items": null,
            "grid_row": null,
            "max_height": null,
            "align_content": null,
            "visibility": null,
            "align_self": null,
            "height": null,
            "min_height": null,
            "padding": null,
            "grid_auto_rows": null,
            "grid_gap": null,
            "max_width": null,
            "order": null,
            "_view_module_version": "1.2.0",
            "grid_template_areas": null,
            "object_position": null,
            "object_fit": null,
            "grid_auto_columns": null,
            "margin": null,
            "display": null,
            "left": null
          }
        },
        "f23fb5fd59ff494fb7e110f72a6d0c06": {
          "model_module": "@jupyter-widgets/controls",
          "model_name": "HBoxModel",
          "model_module_version": "1.5.0",
          "state": {
            "_view_name": "HBoxView",
            "_dom_classes": [],
            "_model_name": "HBoxModel",
            "_view_module": "@jupyter-widgets/controls",
            "_model_module_version": "1.5.0",
            "_view_count": null,
            "_view_module_version": "1.5.0",
            "box_style": "",
            "layout": "IPY_MODEL_c29966cd6fe344b998a726041f2b753a",
            "_model_module": "@jupyter-widgets/controls",
            "children": [
              "IPY_MODEL_5423fb162c6644b8bb628f2993427dc1",
              "IPY_MODEL_16dde8d01d7c49e3b74f67fa576f4b7a",
              "IPY_MODEL_633d99b2fed442b787b3767feff11359"
            ]
          }
        },
        "c29966cd6fe344b998a726041f2b753a": {
          "model_module": "@jupyter-widgets/base",
          "model_name": "LayoutModel",
          "model_module_version": "1.2.0",
          "state": {
            "_view_name": "LayoutView",
            "grid_template_rows": null,
            "right": null,
            "justify_content": null,
            "_view_module": "@jupyter-widgets/base",
            "overflow": null,
            "_model_module_version": "1.2.0",
            "_view_count": null,
            "flex_flow": null,
            "width": null,
            "min_width": null,
            "border": null,
            "align_items": null,
            "bottom": null,
            "_model_module": "@jupyter-widgets/base",
            "top": null,
            "grid_column": null,
            "overflow_y": null,
            "overflow_x": null,
            "grid_auto_flow": null,
            "grid_area": null,
            "grid_template_columns": null,
            "flex": null,
            "_model_name": "LayoutModel",
            "justify_items": null,
            "grid_row": null,
            "max_height": null,
            "align_content": null,
            "visibility": null,
            "align_self": null,
            "height": null,
            "min_height": null,
            "padding": null,
            "grid_auto_rows": null,
            "grid_gap": null,
            "max_width": null,
            "order": null,
            "_view_module_version": "1.2.0",
            "grid_template_areas": null,
            "object_position": null,
            "object_fit": null,
            "grid_auto_columns": null,
            "margin": null,
            "display": null,
            "left": null
          }
        },
        "5423fb162c6644b8bb628f2993427dc1": {
          "model_module": "@jupyter-widgets/controls",
          "model_name": "HTMLModel",
          "model_module_version": "1.5.0",
          "state": {
            "_view_name": "HTMLView",
            "style": "IPY_MODEL_4f1b79966cdb44d5955e4e72a5dc7ed5",
            "_dom_classes": [],
            "description": "",
            "_model_name": "HTMLModel",
            "placeholder": "​",
            "_view_module": "@jupyter-widgets/controls",
            "_model_module_version": "1.5.0",
            "value": "Downloading: 100%",
            "_view_count": null,
            "_view_module_version": "1.5.0",
            "description_tooltip": null,
            "_model_module": "@jupyter-widgets/controls",
            "layout": "IPY_MODEL_625122a5065642ff961141a010d7494a"
          }
        },
        "16dde8d01d7c49e3b74f67fa576f4b7a": {
          "model_module": "@jupyter-widgets/controls",
          "model_name": "FloatProgressModel",
          "model_module_version": "1.5.0",
          "state": {
            "_view_name": "ProgressView",
            "style": "IPY_MODEL_90e4399373754915b3a6c1dbac4ff176",
            "_dom_classes": [],
            "description": "",
            "_model_name": "FloatProgressModel",
            "bar_style": "success",
            "max": 536063208,
            "_view_module": "@jupyter-widgets/controls",
            "_model_module_version": "1.5.0",
            "value": 536063208,
            "_view_count": null,
            "_view_module_version": "1.5.0",
            "orientation": "horizontal",
            "min": 0,
            "description_tooltip": null,
            "_model_module": "@jupyter-widgets/controls",
            "layout": "IPY_MODEL_dc7232c01f2d44bda850e95b26034e0b"
          }
        },
        "633d99b2fed442b787b3767feff11359": {
          "model_module": "@jupyter-widgets/controls",
          "model_name": "HTMLModel",
          "model_module_version": "1.5.0",
          "state": {
            "_view_name": "HTMLView",
            "style": "IPY_MODEL_0d7630b8cf3d47dca247d00039905d74",
            "_dom_classes": [],
            "description": "",
            "_model_name": "HTMLModel",
            "placeholder": "​",
            "_view_module": "@jupyter-widgets/controls",
            "_model_module_version": "1.5.0",
            "value": " 511M/511M [00:15&lt;00:00, 30.4MB/s]",
            "_view_count": null,
            "_view_module_version": "1.5.0",
            "description_tooltip": null,
            "_model_module": "@jupyter-widgets/controls",
            "layout": "IPY_MODEL_45e6572ac116412a8418a84679527ea8"
          }
        },
        "4f1b79966cdb44d5955e4e72a5dc7ed5": {
          "model_module": "@jupyter-widgets/controls",
          "model_name": "DescriptionStyleModel",
          "model_module_version": "1.5.0",
          "state": {
            "_view_name": "StyleView",
            "_model_name": "DescriptionStyleModel",
            "description_width": "",
            "_view_module": "@jupyter-widgets/base",
            "_model_module_version": "1.5.0",
            "_view_count": null,
            "_view_module_version": "1.2.0",
            "_model_module": "@jupyter-widgets/controls"
          }
        },
        "625122a5065642ff961141a010d7494a": {
          "model_module": "@jupyter-widgets/base",
          "model_name": "LayoutModel",
          "model_module_version": "1.2.0",
          "state": {
            "_view_name": "LayoutView",
            "grid_template_rows": null,
            "right": null,
            "justify_content": null,
            "_view_module": "@jupyter-widgets/base",
            "overflow": null,
            "_model_module_version": "1.2.0",
            "_view_count": null,
            "flex_flow": null,
            "width": null,
            "min_width": null,
            "border": null,
            "align_items": null,
            "bottom": null,
            "_model_module": "@jupyter-widgets/base",
            "top": null,
            "grid_column": null,
            "overflow_y": null,
            "overflow_x": null,
            "grid_auto_flow": null,
            "grid_area": null,
            "grid_template_columns": null,
            "flex": null,
            "_model_name": "LayoutModel",
            "justify_items": null,
            "grid_row": null,
            "max_height": null,
            "align_content": null,
            "visibility": null,
            "align_self": null,
            "height": null,
            "min_height": null,
            "padding": null,
            "grid_auto_rows": null,
            "grid_gap": null,
            "max_width": null,
            "order": null,
            "_view_module_version": "1.2.0",
            "grid_template_areas": null,
            "object_position": null,
            "object_fit": null,
            "grid_auto_columns": null,
            "margin": null,
            "display": null,
            "left": null
          }
        },
        "90e4399373754915b3a6c1dbac4ff176": {
          "model_module": "@jupyter-widgets/controls",
          "model_name": "ProgressStyleModel",
          "model_module_version": "1.5.0",
          "state": {
            "_view_name": "StyleView",
            "_model_name": "ProgressStyleModel",
            "description_width": "",
            "_view_module": "@jupyter-widgets/base",
            "_model_module_version": "1.5.0",
            "_view_count": null,
            "_view_module_version": "1.2.0",
            "bar_color": null,
            "_model_module": "@jupyter-widgets/controls"
          }
        },
        "dc7232c01f2d44bda850e95b26034e0b": {
          "model_module": "@jupyter-widgets/base",
          "model_name": "LayoutModel",
          "model_module_version": "1.2.0",
          "state": {
            "_view_name": "LayoutView",
            "grid_template_rows": null,
            "right": null,
            "justify_content": null,
            "_view_module": "@jupyter-widgets/base",
            "overflow": null,
            "_model_module_version": "1.2.0",
            "_view_count": null,
            "flex_flow": null,
            "width": null,
            "min_width": null,
            "border": null,
            "align_items": null,
            "bottom": null,
            "_model_module": "@jupyter-widgets/base",
            "top": null,
            "grid_column": null,
            "overflow_y": null,
            "overflow_x": null,
            "grid_auto_flow": null,
            "grid_area": null,
            "grid_template_columns": null,
            "flex": null,
            "_model_name": "LayoutModel",
            "justify_items": null,
            "grid_row": null,
            "max_height": null,
            "align_content": null,
            "visibility": null,
            "align_self": null,
            "height": null,
            "min_height": null,
            "padding": null,
            "grid_auto_rows": null,
            "grid_gap": null,
            "max_width": null,
            "order": null,
            "_view_module_version": "1.2.0",
            "grid_template_areas": null,
            "object_position": null,
            "object_fit": null,
            "grid_auto_columns": null,
            "margin": null,
            "display": null,
            "left": null
          }
        },
        "0d7630b8cf3d47dca247d00039905d74": {
          "model_module": "@jupyter-widgets/controls",
          "model_name": "DescriptionStyleModel",
          "model_module_version": "1.5.0",
          "state": {
            "_view_name": "StyleView",
            "_model_name": "DescriptionStyleModel",
            "description_width": "",
            "_view_module": "@jupyter-widgets/base",
            "_model_module_version": "1.5.0",
            "_view_count": null,
            "_view_module_version": "1.2.0",
            "_model_module": "@jupyter-widgets/controls"
          }
        },
        "45e6572ac116412a8418a84679527ea8": {
          "model_module": "@jupyter-widgets/base",
          "model_name": "LayoutModel",
          "model_module_version": "1.2.0",
          "state": {
            "_view_name": "LayoutView",
            "grid_template_rows": null,
            "right": null,
            "justify_content": null,
            "_view_module": "@jupyter-widgets/base",
            "overflow": null,
            "_model_module_version": "1.2.0",
            "_view_count": null,
            "flex_flow": null,
            "width": null,
            "min_width": null,
            "border": null,
            "align_items": null,
            "bottom": null,
            "_model_module": "@jupyter-widgets/base",
            "top": null,
            "grid_column": null,
            "overflow_y": null,
            "overflow_x": null,
            "grid_auto_flow": null,
            "grid_area": null,
            "grid_template_columns": null,
            "flex": null,
            "_model_name": "LayoutModel",
            "justify_items": null,
            "grid_row": null,
            "max_height": null,
            "align_content": null,
            "visibility": null,
            "align_self": null,
            "height": null,
            "min_height": null,
            "padding": null,
            "grid_auto_rows": null,
            "grid_gap": null,
            "max_width": null,
            "order": null,
            "_view_module_version": "1.2.0",
            "grid_template_areas": null,
            "object_position": null,
            "object_fit": null,
            "grid_auto_columns": null,
            "margin": null,
            "display": null,
            "left": null
          }
        }
      }
    }
  },
  "cells": [
    {
      "cell_type": "markdown",
      "metadata": {
        "id": "9MPAcXbaSsPa"
      },
      "source": [
        "![Screen Shot 2021-11-02 at 11.37.17 am.png](data:image/png;base64,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)"
      ]
    },
    {
      "cell_type": "markdown",
      "metadata": {
        "id": "BJwhzHSmUIEa"
      },
      "source": [
        "#*Project AIMS (AI against Modern Slavery)*\n",
        "---\n",
        "\n",
        "\n"
      ]
    },
    {
      "cell_type": "markdown",
      "metadata": {
        "id": "6l5CwRZ9ufYH"
      },
      "source": [
        "##💻 Note: You can run this notebook locally or on Google Colab following this [link](https://drive.google.com/file/d/1t0v8BxLQuCmUkebMrnn9mLlpMe9CLqzj/view?usp=sharing)."
      ]
    },
    {
      "cell_type": "markdown",
      "metadata": {
        "id": "GM2DCUhz7DAf"
      },
      "source": [
        " \n",
        "# Risk assessment\n",
        "## How does the company assess the risks of modern slavery and trafficking in their supply chain?\n",
        " \n",
        "After eliciting their supply chain risks, an organisation must then evaluate the risk of modern slavery to make decisions to take specific actions against modern slavery. This assessment can be executed as part of an organisation’s wider approach to risk but should give specific information about modern slavery risk and also data related to the company’s size, structure, location of supply chains, and nature of business. This metric refers to the tools or mechanisms that companies use to assess risk.\n",
        " \n",
        "This metric asks how a company assesses risks, not the identification of these risks. These risk assessment tools must be specific to modern slavery and go beyond general tools related to Corporate Social Responsibility (CSR).\n",
        "This can include:\n",
        "Requiring all new suppliers to complete risk-based questionnaires,\n",
        "The use of a specified risk management database or tool, such as Maplecroft, or Sedex, or Researching to assess risk. This can include using existing research such as the Global Slavery Index, the Corruption Perception Index; Human Rights Watch reports, Amnesty International Reports or reports produced by the UN.\n",
        " \n",
        "For more information about this metric, please refer to  [WikiRate’s Research on MSA risk assessment metric](https://wikirate.org/Walk_Free_Foundation+MSA_risk_assessment), or [ Home Office Guidance, pp. 34-35](https://www.gov.uk/government/uploads/system/uploads/attachment_data/file/471996/Transparency_in_Supply_Chains_etc__A_practical_guide__final_.pdf).\n",
        " \n",
        "## Labelled dataset\n",
        "When building the ground truth data for this metric, if a company outlines in the statement that it requires suppliers to complete questions, the annotators give the statement the label 'risk-based questionnaires'. If a company describes a tool, such as a risk matrix, or the use of software such as Maplecroft or Sedex, the label given is 'use of risk management tool or software. If a company describes conducting its research into its supply chain, the label was 'conducting research. If a statement had any of those labels given for this task, it was revealed with ‘Yes/1’. For each value, the annotations included a Comment that copies relevant information and page numbers from the statement.\n",
        "If the business indicates it is developing risk management tools specific to modern slavery or planning to implement one in the future, the label given by annotators was 'In Development'. Where there are no details of risk assessment strategies, the statement was labelled with 'No'. For this task, if a statement had any of those two labels, it was relabell\n",
        "ed ‘No/0’.\n",
        " \n",
        "\n"
      ]
    },
    {
      "cell_type": "code",
      "metadata": {
        "id": "HgDw0iBojido"
      },
      "source": [
        "#!pip install unidecode\n",
        "#!pip install -U -q PyDrive"
      ],
      "execution_count": null,
      "outputs": []
    },
    {
      "cell_type": "code",
      "metadata": {
        "id": "8lSkoRuA79f2"
      },
      "source": [
        "from pydrive.auth import GoogleAuth\n",
        "from pydrive.drive import GoogleDrive\n",
        "from google.colab import auth\n",
        "from oauth2client.client import GoogleCredentials\n",
        "import pandas as pd\n",
        "import warnings\n",
        "warnings.simplefilter('ignore')\n"
      ],
      "execution_count": null,
      "outputs": []
    },
    {
      "cell_type": "markdown",
      "metadata": {
        "id": "ZZqmpe5dunHW"
      },
      "source": [
        "### 🗄️ You can access the data used in this notebook [here](https://drive.google.com/file/d/1gr9PbPTaYLnhVKJ6eraJboPmvLZ_E14J/view?usp=sharing). We recommend you re-run this research with an updated version of this data which can be downloaded following these [instructions](https://github.com/the-future-society/Project-AIMS-AI-against-Modern-Slavery/tree/main/%F0%9F%97%84%EF%B8%8F%20Data%20and%20text%20extraction/WikiRate).\n",
        "\n"
      ]
    },
    {
      "cell_type": "code",
      "metadata": {
        "id": "gs3BjTHE8D3V"
      },
      "source": [
        "# Authenticate\n",
        "# Authenticate and create the PyDrive client.\n",
        "auth.authenticate_user()\n",
        "gauth = GoogleAuth()\n",
        "gauth.credentials = GoogleCredentials.get_application_default()\n",
        "drive = GoogleDrive(gauth)"
      ],
      "execution_count": null,
      "outputs": []
    },
    {
      "cell_type": "code",
      "metadata": {
        "colab": {
          "base_uri": "https://localhost:8080/"
        },
        "id": "nZFi2Ec18RLV",
        "outputId": "bed1a1d2-22f7-4cc3-c9fe-2f83cf75334d"
      },
      "source": [
        "# Extract document ID\n",
        "file_path = 'https://drive.google.com/open?id=1yh_dBs51I825YnT_H7WMs8cPLeIUdUpJ'\n",
        "fluff, id = file_path.split('=')\n",
        "print(id)\n",
        "\n",
        "downloaded = drive.CreateFile({'id':id}) \n",
        "downloaded.GetContentFile('labeled-dataset.csv')\n",
        "df3 = pd.read_csv('labeled-dataset.csv')"
      ],
      "execution_count": null,
      "outputs": [
        {
          "output_type": "stream",
          "name": "stdout",
          "text": [
            "1yh_dBs51I825YnT_H7WMs8cPLeIUdUpJ\n"
          ]
        }
      ]
    },
    {
      "cell_type": "markdown",
      "metadata": {
        "id": "o-BPqmZakm7l"
      },
      "source": [
        "## Text preprocessing\n",
        "Text preprocessing step includes:\n",
        "- stemming\n",
        "- lemmatisation\n",
        "- stop words removal\n",
        "- tokenization\n"
      ]
    },
    {
      "cell_type": "code",
      "metadata": {
        "colab": {
          "base_uri": "https://localhost:8080/"
        },
        "id": "R4LPMbOY6_K4",
        "outputId": "902cf910-df7d-422d-b043-e58cae0268f5"
      },
      "source": [
        "import os\n",
        "import numpy as np\n",
        "import re\n",
        "import unidecode\n",
        "from pathlib import Path\n",
        "import gensim\n",
        "import nltk\n",
        "nltk.download('wordnet')\n",
        "from nltk.stem import WordNetLemmatizer, SnowballStemmer\n",
        "from nltk.tokenize.punkt import PunktSentenceTokenizer\n",
        "\n",
        "sentence_split = PunktSentenceTokenizer().tokenize\n",
        "\n",
        "metrics = {\n",
        "           \"assessment\"     : \"Walk Free Foundation+MSA risk assessment\",\n",
        "           \"identification\" : \"Walk Free Foundation+MSA Identification of risks\",\n",
        "           \"management\"     : \"Walk Free Foundation+MSA risk management (revised)\",\n",
        "           }\n",
        "\n",
        "true_values = {\"assessment\" : [\"conducting research\", \n",
        "                               \"risk-based questionnaires\",\n",
        "                               \"use of risk management tool or software\"],\n",
        "               \"identification\" : [\"geographic\", \n",
        "                                   \"industry\", \n",
        "                                   \"resource\", \n",
        "                                   \"workforce\",\n",
        "                                   \"yes\"],\n",
        "               \"management\" : [\"audits of suppliers (independent)\",\n",
        "                               'audits of suppliers (self- reporting)',\n",
        "                               'on-site visits (independent)',\n",
        "                               'on-site visits (self- reporting)']\n",
        "               }\n",
        "\n",
        "class Preprocessing:\n",
        "    def __init__(self):\n",
        "        self.stem = SnowballStemmer('english').stem\n",
        "        lemmer = WordNetLemmatizer()\n",
        "        self.lem  = lambda text : lemmer.lemmatize(text, pos='v')\n",
        "        self.stop_words = gensim.parsing.preprocessing.STOPWORDS\n",
        "        self.prepreprocessing = gensim.utils.simple_preprocess\n",
        "    \n",
        "    def remove_accents(self, text):\n",
        "        return unidecode.unidecode(text)\n",
        "        \n",
        "    def lem_stem(self, word):\n",
        "        return self.stem(self.lem(word))\n",
        "\n",
        "    def __call__(self, text):\n",
        "        text = self.remove_accents(text)\n",
        "        result = []\n",
        "        for token in self.prepreprocessing(text):\n",
        "            if token not in self.stop_words and len(token) > 3:\n",
        "                result.append(self.lem_stem(token))\n",
        "        return result\n",
        "    \n",
        "def doc_to_sentences(doc):\n",
        "    doc = \" \".join(doc.splitlines())\n",
        "    return sentence_split(doc)\n",
        "\n",
        "def compute_columns(df, metric):\n",
        "    df = df.copy()\n",
        "    metric_col = metrics[metric]\n",
        "    df.dropna(subset=[metric_col], inplace=True)\n",
        "    df[metric_col] = df[metric_col].str.lower().str.split(',')\n",
        "    df[metric_col] = df[metric_col].apply(lambda x : [y.strip() for y in x])\n",
        "    possible_values = np.unique(np.concatenate(df[metric_col].values))\n",
        "    print('Possible values : {}'.format(possible_values))\n",
        "\n",
        "    for v in possible_values:\n",
        "        df['[{}] == {}'.format(metric, v)] = df[metric_col].apply(lambda x : v in x)\n",
        "\n",
        "    for v in ['nan', 'unknown']:\n",
        "        na_col_name = '[{}] == {}'.format(metric, v)\n",
        "        if na_col_name in df.columns:\n",
        "            df = df[~df[na_col_name]] #removing examples where it is unknown\n",
        "            df.pop(na_col_name)\n",
        "    df.pop(metric_col)\n",
        "    return df\n",
        "\n",
        "def binary_only(df, metric):\n",
        "    df['Metric'] = False\n",
        "    col_start = '[{}] == '.format(metric)\n",
        "    for c in df.columns:\n",
        "        if c.startswith(col_start):\n",
        "            if c[len(col_start):] in true_values[metric]:\n",
        "                df['Metric'] = df['Metric'] | df[c] #OR\n",
        "            df.pop(c)\n",
        "    \n",
        "    return df\n",
        "\n",
        "def load_dataset(metric='', data_folder='./drive/MyDrive/data/', binary=True):\n",
        "    useful_cols = ['Answer Link', 'TEXT','Company']\n",
        "    data_file    = os.path.join(data_folder,\n",
        "                                \"labeled-dataset.csv\")\n",
        "    df = pd.read_csv(data_file)\n",
        "    df.dropna(subset=['TEXT'], inplace=True)\n",
        "    \n",
        "    if metric:\n",
        "        df = df[useful_cols + [metrics[metric]]]\n",
        "        df = compute_columns(df, metric)\n",
        "        if binary:\n",
        "            df = binary_only(df, metric)\n",
        "    else:\n",
        "        df = df[useful_cols]\n",
        "        \n",
        "    subset = [x for x in df.columns if not x in ['Answer Link', 'Company']]\n",
        "    df = df.drop_duplicates(subset=subset)\n",
        "    \n",
        "    #now there should not be any duplicate on the text\n",
        "    #if this is the case, that means we have same text and different metric, so we remove it\n",
        "    counts = df['TEXT'].value_counts()\n",
        "    to_be_removed = counts[counts > 1].index\n",
        "    df = df[~df['TEXT'].isin(to_be_removed)]\n",
        "    \n",
        "    return df\n",
        "\n",
        "def load_dataset_from_gdrive(metric='', doc_id='1yh_dBs51I825YnT_H7WMs8cPLeIUdUpJ', binary=True):\n",
        "    useful_cols = ['Answer Link', 'TEXT','Company']\n",
        "\n",
        "    downloaded = drive.CreateFile({'id': doc_id}) \n",
        "    downloaded.GetContentFile('labeled-dataset.csv')\n",
        "    df = pd.read_csv('labeled-dataset.csv')\n",
        "\n",
        "    df.dropna(subset=['TEXT'], inplace=True)\n",
        "    \n",
        "    if metric:\n",
        "        df = df[useful_cols + [metrics[metric]]]\n",
        "        df = compute_columns(df, metric)\n",
        "        if binary:\n",
        "            df = binary_only(df, metric)\n",
        "    else:\n",
        "        df = df[useful_cols]\n",
        "        \n",
        "    subset = [x for x in df.columns if not x in ['Answer Link', 'Company']]\n",
        "    df = df.drop_duplicates(subset=subset)\n",
        "    \n",
        "    #now there should not be any duplicate on the text\n",
        "    #if this is the case, that means we have same text and different metric, so we remove it\n",
        "    counts = df['TEXT'].value_counts()\n",
        "    to_be_removed = counts[counts > 1].index\n",
        "    df = df[~df['TEXT'].isin(to_be_removed)]\n",
        "    \n",
        "    return df\n",
        "\n",
        "def clean_comment(text):\n",
        "    BAD_COMMENT_KEYWORDS = [\n",
        "                            'i did not', \n",
        "                            'there is no', \n",
        "                            'they do not', \n",
        "                            'i could not', \n",
        "                            'it does not', \n",
        "                            \"the company’s statement\",\n",
        "                            'wikirate',\n",
        "                            'does not state',\n",
        "                            'statement',\n",
        "                            'not mentioned',\n",
        "                            'no mention',\n",
        "                            'i do not',\n",
        "                            'not reported',\n",
        "                            'no specific',\n",
        "                            'the report'\n",
        "                            ]\n",
        "    \n",
        "    text = text.lower().strip()\n",
        "    \n",
        "    #fixing not ending quotes\n",
        "    for quote in ['\"',\"'\"]:\n",
        "        if text.count(quote) == 1 and text[0] == quote:\n",
        "            text += quote\n",
        "            break\n",
        "    \n",
        "    in_quotes = re.findall('\"([^\"]*)\"', text) + re.findall(\"'([^']*)'\", text)\n",
        "    in_quotes = [x for x in in_quotes if len(x.strip()) > 0]\n",
        "    \n",
        "    if any(['wikirate' in x for x in in_quotes]):\n",
        "        quote_indexes = np.array([text.find('\"'), text.find(\"'\")])\n",
        "        quote_indexes = np.where(quote_indexes == -1 , len(text), quote_indexes)\n",
        "        first_quote_i = np.argmin(quote_indexes)\n",
        "        first_quote_type = ['\"', \"'\"][first_quote_i]\n",
        "        return clean_comment(text[quote_indexes[first_quote_i] + 1:] + first_quote_type)\n",
        "    \n",
        "    if len(in_quotes) > 0:\n",
        "        split = in_quotes\n",
        "    else:\n",
        "        split = re.split('\\[https://wikirate.org/[a-z0-9_]+\\][0-9\\-\\. :]+utc', text)\n",
        "        \n",
        "    split = [x for x in split if len(x) > 0]\n",
        "    split = [x for x in split if not any([kw in x for kw in BAD_COMMENT_KEYWORDS])]\n",
        "    \n",
        "    new_split = []\n",
        "    for t in split:\n",
        "        #removing bad endings when they are in the format '. [NAME]'\n",
        "        dot_split = t.split('.')\n",
        "        if len(dot_split) > 1 and len(dot_split[-1].strip().split()) < 4:\n",
        "            t = '.'.join(dot_split[:-1]) + '.'\n",
        "            \n",
        "        new_split.append(t)\n",
        "    return new_split\n",
        "\n",
        "def alphanum(text):\n",
        "    return re.sub('[^a-z0-9]', '', text.lower())\n",
        "    \n",
        "def _comment_is_in_text(row):\n",
        "    row['COMMENTS'] = [x for x in row['COMMENTS'] if alphanum(x) in alphanum(row['TEXT'])]\n",
        "    #removing stupid comments\n",
        "    row['COMMENTS'] = [x for x in row['COMMENTS'] if len(alphanum(x)) > 0 and len(x.split()) > 2]\n",
        "    \n",
        "    return row\n",
        "\n",
        "def load_comments(metric, data_folder='./drive/MyDrive/data/', to_dic=True):\n",
        "    data_file = os.path.join(data_folder,\n",
        "                             \"modern-slavery-dataset-metrics.csv\")\n",
        "\n",
        "    df = pd.read_csv(data_file)[['TEXT', 'METRIC NAME', 'COMMENTS']]\n",
        "    df.dropna(inplace=True)\n",
        "    \n",
        "    df = df[df['METRIC NAME'] == metrics[metric]]\n",
        "    df['COMMENTS'] = df['COMMENTS'].apply(clean_comment)\n",
        "    df = df.apply(_comment_is_in_text, axis=1) #adding only comments that we found in the text\n",
        "    df.pop('METRIC NAME')\n",
        "    \n",
        "    if to_dic:\n",
        "        #merging duplicate texts, removing lines where there is no comments\n",
        "        comments = {}\n",
        "        for i, row in df.iterrows():\n",
        "            text = row['TEXT']\n",
        "            if len(row['COMMENTS']) > 0:\n",
        "                if not text in comments:\n",
        "                    comments[text] = []\n",
        "                comments[text] += row['COMMENTS']\n",
        "                \n",
        "        #using labelliser to find the comments inside the text\n",
        "        found_comments = {}\n",
        "        for text, coms in comments.items():\n",
        "            l = Labelliser(text, coms)\n",
        "            found_comments[text] = l.find_all()\n",
        "        return found_comments\n",
        "    else:\n",
        "        return df\n",
        "    \n",
        "def load_comments_from_gdrive(metric, doc_id='1uPrM6T84syPM08aOYtE7xw5E62wHp0WE', to_dic=True):\n",
        "    downloaded = drive.CreateFile({'id': doc_id}) \n",
        "    downloaded.GetContentFile('modern-slavery-dataset-metrics.csv')\n",
        "    df = pd.read_csv('modern-slavery-dataset-metrics.csv')[['TEXT', 'METRIC NAME', 'COMMENTS']]\n",
        "\n",
        "    df.dropna(inplace=True)\n",
        "    \n",
        "    df = df[df['METRIC NAME'] == metrics[metric]]\n",
        "    df['COMMENTS'] = df['COMMENTS'].apply(clean_comment)\n",
        "    df = df.apply(_comment_is_in_text, axis=1) #adding only comments that we found in the text\n",
        "    df.pop('METRIC NAME')\n",
        "    \n",
        "    if to_dic:\n",
        "        #merging duplicate texts, removing lines where there is no comments\n",
        "        comments = {}\n",
        "        for i, row in df.iterrows():\n",
        "            text = row['TEXT']\n",
        "            if len(row['COMMENTS']) > 0:\n",
        "                if not text in comments:\n",
        "                    comments[text] = []\n",
        "                comments[text] += row['COMMENTS']\n",
        "                \n",
        "        #using labelliser to find the comments inside the text\n",
        "        found_comments = {}\n",
        "        for text, coms in comments.items():\n",
        "            l = Labelliser(text, coms)\n",
        "            found_comments[text] = l.find_all()\n",
        "        return found_comments\n",
        "    else:\n",
        "        return df\n",
        "\n",
        "class Labelliser:\n",
        "    def __init__(self, text, comments):\n",
        "        self.text = text\n",
        "        self.comments = comments\n",
        "        \n",
        "        self.text_processed = ''\n",
        "        self.positions = []\n",
        "        self.sub_regex = re.compile('[^a-z0-9]')\n",
        "        for i, char in enumerate(self.text.lower()):\n",
        "            if len(self.sub_regex.sub('', char)) > 0:\n",
        "                #we keep this char\n",
        "                self.text_processed += char\n",
        "                self.positions.append(i)\n",
        "        \n",
        "        assert len(self.positions) == len(self.text_processed)\n",
        "        \n",
        "    def find_text(self, string):\n",
        "        string = self.sub_regex.sub('', string.lower())\n",
        "        if len(string) == 0:\n",
        "            print(string)\n",
        "            raise Exception('string contains no alphanumerical characters')\n",
        "        pos = self.text_processed.find(string)\n",
        "        \n",
        "        if pos == -1:\n",
        "            return False, None, None\n",
        "        else:\n",
        "            start = self.positions[pos]            \n",
        "            end   = self.positions[pos + len(string) - 1] + 1\n",
        "            \n",
        "            return True, start, end\n",
        "        \n",
        "    def find_all(self):\n",
        "        results = []\n",
        "        for c in self.comments:\n",
        "            success, start, end = self.find_text(c)\n",
        "            if success:\n",
        "                results.append({\n",
        "                                'text'  : self.text[start : end],\n",
        "                                'start' : start,\n",
        "                                'end'   : end,\n",
        "                                })\n",
        "            else:\n",
        "                raise Exception('Not found')\n",
        "                \n",
        "        return results"
      ],
      "execution_count": null,
      "outputs": [
        {
          "output_type": "stream",
          "name": "stdout",
          "text": [
            "[nltk_data] Downloading package wordnet to /root/nltk_data...\n",
            "[nltk_data]   Package wordnet is already up-to-date!\n"
          ]
        }
      ]
    },
    {
      "cell_type": "markdown",
      "metadata": {
        "id": "0o-rFXgK7a7O"
      },
      "source": [
        "# Keywords and Random Forest\n",
        " \n",
        "We want to leverage experts knowledge and feedback to build an easily interpretable pipeline. Using the list of keywords provided by the modern slavery experts team, we extract sentences that might be of interest. Then all statements that contain at least n such sentences are classified as the company is taking steps to assess the risk of slavery or forced labour in its operations and/or supply chain. The list of keywords are 'assess risk', 'risk-based questionnaires', 'risk management database', 'risk management tool','Maplecroft', 'Sedex','risk matrix','conducting research', 'risk assessment', 'assessing', 'external', 'third party, 'Experts', 'stakeholders', 'Global Slavery Index', 'NGO', 'NGO reports', 'media', 'mapping', 'desk-based research', 'methodology', 'risk register','mapping'.\n",
        "\n",
        " \n",
        "\n"
      ]
    },
    {
      "cell_type": "code",
      "metadata": {
        "id": "5zIL943_7gC7"
      },
      "source": [
        "# parameters\n",
        "METRIC = \"assessment\"\n",
        "PATH_DATA = \"./\""
      ],
      "execution_count": null,
      "outputs": []
    },
    {
      "cell_type": "code",
      "metadata": {
        "colab": {
          "base_uri": "https://localhost:8080/"
        },
        "id": "4hC5yNcB7iPK",
        "outputId": "be262a83-f361-48af-b37b-1cfceeef083a"
      },
      "source": [
        "# Load statements and comments\n",
        "df = load_dataset_from_gdrive(METRIC)\n",
        "shuffled_df = df.sample(frac=1, random_state=40)\n",
        "data_train, data_test = shuffled_df[:int(0.8*len(shuffled_df))], shuffled_df[int(0.8*len(shuffled_df)):]"
      ],
      "execution_count": null,
      "outputs": [
        {
          "output_type": "stream",
          "name": "stdout",
          "text": [
            "Possible values : ['conducting research' 'in development' 'no' 'risk-based questionnaires'\n",
            " 'unknown' 'use of risk management tool or software']\n"
          ]
        }
      ]
    },
    {
      "cell_type": "markdown",
      "metadata": {
        "id": "tRyR4q3p-M2Q"
      },
      "source": [
        "Delete observations with metric but without any comment"
      ]
    },
    {
      "cell_type": "code",
      "metadata": {
        "id": "qDZvSW4x-O14"
      },
      "source": [
        "### set of keywords provided for the assessment metric\n",
        "\n",
        "suggested_keywords = [\n",
        "\"assess risk\",\n",
        "\"risk-based questionnaires\",\n",
        "\"risk management database\",\n",
        "\"risk management tool\",\n",
        "\"Maplecroft\",\n",
        "\"Sedex\",\n",
        "\"risk matrix\",\n",
        "\"risk assessment\",\n",
        "\"assessing\",\n",
        "\"third party\",\n",
        "\"Experts\",\n",
        "\"Global Slavery Index\",\n",
        "\"NGO\",\n",
        "\"NGO reports\",\n",
        "\"mapping\",\n",
        "\"deskbased research\",\n",
        "\"methodology\",\n",
        "\"risk register\",\n",
        "\"mapping\",\n",
        "\"assessment\",\n",
        "\"existing\"\n",
        "]\n",
        "\n",
        "\n",
        "synon_asses = [\"evaluation\", \"estimate\", \"jugdgement\", \"rating\", \"estimation\", \"appraisal\", \"opinion\", \"analysis\", \"valuation\", \"calculation\", \"computation\", \"costing\", \"pricing\", \"existing\"]\n",
        "\n",
        "additional_keywords = [\n",
        "    \"factory\", \"efs\", \"regulations\", \"finished\", \"comprehensive\", \"clinical\", \"factories\", \"jewellery\", \"stores\", \"fee\", \"study\", \"holiday\"\n",
        "]"
      ],
      "execution_count": null,
      "outputs": []
    },
    {
      "cell_type": "code",
      "metadata": {
        "id": "qsEsqlj_-UH7"
      },
      "source": [
        "def extract_info_using_keywords(text, add=False):\n",
        "    \"\"\"\n",
        "    Simple function that extract all the sentences that contains the trigger keywords\n",
        "    \"\"\"\n",
        "    interesting_keyword = []\n",
        "    interesting_paragraphs = []\n",
        "    par = text.split(\"\\n\")\n",
        "    for p in par:\n",
        "        list_key = suggested_keywords+synon_asses \n",
        "        if add:\n",
        "            list_key += additional_keywords\n",
        "        for v in list_key:\n",
        "            if v.lower() in p.lower():\n",
        "                for sent in p.split(\".\"):\n",
        "                    if v.lower() in p:\n",
        "                        interesting_keyword.append(v)\n",
        "                        interesting_paragraphs.append(sent)\n",
        "                        break\n",
        "    return interesting_keyword, interesting_paragraphs"
      ],
      "execution_count": null,
      "outputs": []
    },
    {
      "cell_type": "code",
      "metadata": {
        "id": "U0xrawCF-aF4"
      },
      "source": [
        "data_test[\"KeywordFocusText\"] = data_test.TEXT.apply(lambda x: extract_info_using_keywords(x, add=True)[1])\n",
        "data_train[\"KeywordFocusText\"] = data_train.TEXT.apply(lambda x: extract_info_using_keywords(x, add=True)[1])\n",
        "data_train[\"Nb_sentence_with_keyword\"] = data_train[\"KeywordFocusText\"].apply(lambda x: len(x))\n",
        "data_test[\"Nb_sentence_with_keyword\"] = data_test[\"KeywordFocusText\"].apply(lambda x: len(x))"
      ],
      "execution_count": null,
      "outputs": []
    },
    {
      "cell_type": "code",
      "metadata": {
        "id": "MfIjeKah-eb2"
      },
      "source": [
        "## Pred using the keywords first\n",
        "data_train[\"PRED\"] = data_train[\"Nb_sentence_with_keyword\"].apply(lambda x: x>=6)\n",
        "data_test[\"PRED\"] = data_test[\"Nb_sentence_with_keyword\"].apply(lambda x: x>=6)"
      ],
      "execution_count": null,
      "outputs": []
    },
    {
      "cell_type": "markdown",
      "metadata": {
        "id": "CxEXoS-N-mGZ"
      },
      "source": [
        "### Train the random forest on the remaining part of data"
      ]
    },
    {
      "cell_type": "code",
      "metadata": {
        "id": "Hr7NR3h9-qLS"
      },
      "source": [
        "data_train['text_classifier'] = data_train[\"KeywordFocusText\"].apply(lambda x: \" \".join(x))\n",
        "data_test['text_classifier'] = data_test[\"KeywordFocusText\"].apply(lambda x: \" \".join(x))"
      ],
      "execution_count": null,
      "outputs": []
    },
    {
      "cell_type": "code",
      "metadata": {
        "id": "amDicWRA-tuY"
      },
      "source": [
        "data_test_false = data_test[data_test.PRED==False]\n",
        "data_train_false = data_train[data_train.PRED==False]"
      ],
      "execution_count": null,
      "outputs": []
    },
    {
      "cell_type": "code",
      "metadata": {
        "id": "7QG1xNOS-wHr"
      },
      "source": [
        "test_text_list = list(data_test_false['text_classifier'])\n",
        "test_label =  list(data_test_false['Metric'].astype(str))\n",
        "train_text_list = list(data_train_false['text_classifier'])\n",
        "train_label =  list(data_train_false['Metric'].astype(str))"
      ],
      "execution_count": null,
      "outputs": []
    },
    {
      "cell_type": "code",
      "metadata": {
        "id": "qBI2c0eJ-xwy"
      },
      "source": [
        "from sklearn.feature_extraction.text import CountVectorizer, TfidfVectorizer\n",
        "from sklearn.ensemble import RandomForestClassifier\n",
        "\n",
        "vectorizer = TfidfVectorizer(ngram_range=(1,3), stop_words='english') \n",
        "X_train = vectorizer.fit_transform(train_text_list)\n",
        "X_test = vectorizer.transform(test_text_list)\n",
        "\n",
        "clf = RandomForestClassifier(n_estimators=160, max_depth=7)\n",
        "clf.fit(X_train, train_label)\n",
        "\n",
        "pred_test = clf.predict(X_test)"
      ],
      "execution_count": null,
      "outputs": []
    },
    {
      "cell_type": "code",
      "metadata": {
        "colab": {
          "base_uri": "https://localhost:8080/"
        },
        "id": "HnECeFIY-0wN",
        "outputId": "3f9b1575-d8c6-4cc8-8f75-ac3eaf1ab9d9"
      },
      "source": [
        "from sklearn.metrics import classification_report\n",
        "\n",
        "data_true= data_test[data_test.PRED==True]\n",
        "label_true = list(data_true['Metric'].astype(str))\n",
        "pred_true = [\"True\" for _ in label_true] \n",
        "\n",
        "print(classification_report(label_true+test_label, pred_true+pred_test.tolist()))"
      ],
      "execution_count": null,
      "outputs": [
        {
          "output_type": "stream",
          "name": "stdout",
          "text": [
            "              precision    recall  f1-score   support\n",
            "\n",
            "       False       0.65      0.58      0.61        95\n",
            "        True       0.77      0.82      0.79       160\n",
            "\n",
            "    accuracy                           0.73       255\n",
            "   macro avg       0.71      0.70      0.70       255\n",
            "weighted avg       0.72      0.73      0.73       255\n",
            "\n"
          ]
        }
      ]
    },
    {
      "cell_type": "markdown",
      "metadata": {
        "id": "qq28bT4hfy1O"
      },
      "source": [
        "### Results"
      ]
    },
    {
      "cell_type": "markdown",
      "metadata": {
        "id": "5einq0uO-5PG"
      },
      "source": [
        "Depending on the test set and random forest convergence test set the global accuracy can go from 0.66 to 0.75 (large variance)\n",
        "\n",
        "Since many sentences predicted seem to indicate a positive metric, even if labelled negative, future work is needed to verify and clean the ground truth data. Additionally, as this is also a complex metric, the method needs to incorporate the context in which the keywords were found. Therefore alternative methods are going to be applied to improve the classification performance."
      ]
    },
    {
      "cell_type": "markdown",
      "metadata": {
        "id": "q9bLQ3Yn-96O"
      },
      "source": [
        "# Hierarchical Attention Network (HAN)\n",
        "A hierarchical structure of statements is used to classify the statements, and also an attention mechanism to incorporate context is applied.\n",
        " \n",
        "The methodology combines stacked recurrent neural networks, hierarchical structure of statements, and attention mechanism to extract words that are important to the context of the sentence to classify the text as a document that covers risk assessment.\n",
        "\n"
      ]
    },
    {
      "cell_type": "code",
      "metadata": {
        "id": "tuzr-mU6_H7q"
      },
      "source": [
        "import sys, os\n",
        "os.environ['CUDA_LAUNCH_BLOCKING'] = '1'"
      ],
      "execution_count": null,
      "outputs": []
    },
    {
      "cell_type": "markdown",
      "metadata": {
        "id": "BsUJ6UQk_N0j"
      },
      "source": [
        "### Install Requirements"
      ]
    },
    {
      "cell_type": "code",
      "metadata": {
        "id": "BKn1R8W0_PuM"
      },
      "source": [
        "#!pip install torch\n",
        "#!pip install unidecode\n",
        "#!pip install weasyprint\n",
        "#!apt-get install poppler-utils\n",
        "#!pip install gensim"
      ],
      "execution_count": null,
      "outputs": []
    },
    {
      "cell_type": "code",
      "metadata": {
        "colab": {
          "base_uri": "https://localhost:8080/"
        },
        "id": "CtaYtwqU_UhT",
        "outputId": "0aa9130a-55a0-4f2d-f8c9-3502c43d51ad"
      },
      "source": [
        "import os\n",
        "import re\n",
        "import itertools\n",
        "\n",
        "import pandas as pd\n",
        "import numpy as np\n",
        "import gensim.downloader as api\n",
        "import torch\n",
        "import torchtext\n",
        "import matplotlib\n",
        "import matplotlib.pyplot as plt\n",
        "import weasyprint\n",
        "\n",
        "from IPython.core.display import display, HTML\n",
        "from tqdm.notebook import tqdm, trange\n",
        "from gensim.models import Word2Vec, KeyedVectors\n",
        "from sklearn.preprocessing import LabelEncoder\n",
        "from sklearn.model_selection import train_test_split\n",
        "from sklearn.metrics import f1_score, roc_auc_score, roc_curve, balanced_accuracy_score, precision_score, recall_score, precision_recall_curve, classification_report\n",
        "from sklearn.preprocessing import normalize\n",
        "from torch.utils.data import DataLoader, Dataset\n",
        "from torch import nn\n",
        "from torch.nn import functional as F\n",
        "from torch import optim\n",
        "from torchtext.vocab import Vectors\n",
        "\n",
        "RANDOM_SEED = 7\n",
        "torch.manual_seed(RANDOM_SEED)\n",
        "DEVICE = \"cuda\" if torch.cuda.is_available() else \"cpu\"\n",
        "print(DEVICE)"
      ],
      "execution_count": null,
      "outputs": [
        {
          "output_type": "stream",
          "name": "stdout",
          "text": [
            "cpu\n"
          ]
        }
      ]
    },
    {
      "cell_type": "markdown",
      "metadata": {
        "id": "ye5X99pulkhm"
      },
      "source": [
        "### Write to Google Drive"
      ]
    },
    {
      "cell_type": "code",
      "metadata": {
        "id": "ANX8xymyljFd"
      },
      "source": [
        "# Authenticate\n",
        "# Authenticate and create the PyDrive client.\n",
        "auth.authenticate_user()\n",
        "gauth = GoogleAuth()\n",
        "gauth.credentials = GoogleCredentials.get_application_default()\n",
        "drive = GoogleDrive(gauth)"
      ],
      "execution_count": null,
      "outputs": []
    },
    {
      "cell_type": "code",
      "metadata": {
        "colab": {
          "base_uri": "https://localhost:8080/"
        },
        "id": "-KYsre0oljFe",
        "outputId": "5a4dbb70-eaca-4cee-a661-ff89830ff13e"
      },
      "source": [
        "# Extract document ID\n",
        "file_path = 'https://drive.google.com/open?id=1yh_dBs51I825YnT_H7WMs8cPLeIUdUpJ'\n",
        "fluff, id = file_path.split('=')\n",
        "print(id)\n",
        "\n",
        "downloaded = drive.CreateFile({'id':id}) \n",
        "downloaded.GetContentFile('labeled-dataset.csv')\n",
        "df3 = pd.read_csv('labeled-dataset.csv')\n",
        "\n",
        "folder_id = '1Bd0pi6y6cKkjsfFShQFJ2CxpAzyz5Gre?usp=sharing'\n"
      ],
      "execution_count": null,
      "outputs": [
        {
          "output_type": "stream",
          "name": "stdout",
          "text": [
            "1yh_dBs51I825YnT_H7WMs8cPLeIUdUpJ\n"
          ]
        }
      ]
    },
    {
      "cell_type": "code",
      "metadata": {
        "id": "rZ4tfEB-_emQ"
      },
      "source": [
        "METRIC = \"assessment\"\n",
        "MODELPATH = './' # Folder where the model is saved\n",
        "\n",
        "SENTENCE_SPLITERS = r\"[!.;?\\n]\""
      ],
      "execution_count": null,
      "outputs": []
    },
    {
      "cell_type": "code",
      "metadata": {
        "id": "RSUaz_vT_hE_"
      },
      "source": [
        "def clean_str(string):\n",
        "    string = re.sub(r\"[^A-Za-z0-9(),!?\\'\\`]\", \" \", string)     \n",
        "    string = re.sub(r\"\\'s\", \" 's\", string) \n",
        "    string = re.sub(r\"\\'ve\", \" 've\", string) \n",
        "    string = re.sub(r\"n\\'t\", \" n't\", string) \n",
        "    string = re.sub(r\"\\'re\", \" 're\", string) \n",
        "    string = re.sub(r\"\\'d\", \" 'd\", string) \n",
        "    string = re.sub(r\"\\'ll\", \" 'll\", string) \n",
        "    string = re.sub(r\",\", \" , \", string)\n",
        "    string = re.sub(r\"!\", \" ! \", string) \n",
        "    string = re.sub(r\"\\(\", \" ( \", string) \n",
        "    string = re.sub(r\"\\)\", \" ) \", string) \n",
        "    string = re.sub(r\"\\?\", \" ? \", string) \n",
        "    string = re.sub(r\"\\s{2,}\", \" \", string)\n",
        "    return string.strip().lower().split()[:200]"
      ],
      "execution_count": null,
      "outputs": []
    },
    {
      "cell_type": "markdown",
      "metadata": {
        "id": "w12YchYN_jn8"
      },
      "source": [
        "### Load dataset"
      ]
    },
    {
      "cell_type": "code",
      "metadata": {
        "colab": {
          "base_uri": "https://localhost:8080/"
        },
        "id": "O_yywjjE_lB-",
        "outputId": "70287c1f-2a94-4464-c91e-519681810247"
      },
      "source": [
        "df = load_dataset_from_gdrive(METRIC)\n",
        "\n",
        "shuffled_df = df.sample(frac=1, random_state=60)\n",
        "train_val_df, test_df = shuffled_df[:int(0.8*len(shuffled_df))], shuffled_df[int(0.8*len(shuffled_df)):]"
      ],
      "execution_count": null,
      "outputs": [
        {
          "output_type": "stream",
          "name": "stdout",
          "text": [
            "Possible values : ['conducting research' 'in development' 'no' 'risk-based questionnaires'\n",
            " 'unknown' 'use of risk management tool or software']\n"
          ]
        }
      ]
    },
    {
      "cell_type": "markdown",
      "metadata": {
        "id": "SDrz0l7A_zQ3"
      },
      "source": [
        "#### Text analysis"
      ]
    },
    {
      "cell_type": "code",
      "metadata": {
        "colab": {
          "base_uri": "https://localhost:8080/",
          "height": 315
        },
        "id": "ITPLXf7N_06n",
        "outputId": "22377472-38a5-47ff-d0aa-f8331136e2bf"
      },
      "source": [
        "num_seq = [len([s for s in re.split(SENTENCE_SPLITERS, d) if s != '']) for d in train_val_df['TEXT']]\n",
        "seq_len = [len(s.split(\" \")) for d in train_val_df['TEXT'] for s in re.split(SENTENCE_SPLITERS, d) if s != '']\n",
        "num_char = [len(s.replace(\" \", \"\")) for d in train_val_df['TEXT'] for s in re.split(SENTENCE_SPLITERS, d) if s != '']\n",
        "\n",
        "pd.DataFrame(seq_len).hist()"
      ],
      "execution_count": null,
      "outputs": [
        {
          "output_type": "execute_result",
          "data": {
            "text/plain": [
              "array([[<matplotlib.axes._subplots.AxesSubplot object at 0x7f32870c9450>]],\n",
              "      dtype=object)"
            ]
          },
          "metadata": {},
          "execution_count": 33
        },
        {
          "output_type": "display_data",
          "data": {
            "image/png": "[encoded data removed]",
            "text/plain": [
              "<Figure size 432x288 with 1 Axes>"
            ]
          },
          "metadata": {
            "needs_background": "light"
          }
        }
      ]
    },
    {
      "cell_type": "code",
      "metadata": {
        "id": "pHBM4GtM_7XE"
      },
      "source": [
        "train_val_df['text_size'] = train_val_df['TEXT'].apply(lambda x: len([s for s in re.split(SENTENCE_SPLITERS, x) if s != '']))\n",
        "train_val_df = train_val_df[train_val_df['text_size'] < 250]"
      ],
      "execution_count": null,
      "outputs": []
    },
    {
      "cell_type": "markdown",
      "metadata": {
        "id": "32l5HP5NAAyE"
      },
      "source": [
        "### Model and Training functions/classes"
      ]
    },
    {
      "cell_type": "code",
      "metadata": {
        "id": "Uqa0WoQkAH3x"
      },
      "source": [
        "def process_data(data_df):\n",
        "  documents, word_count, labels = [], {}, []\n",
        "  label_encoder = LabelEncoder()\n",
        "  label_encoder.fit(data_df['Metric'].tolist())\n",
        "\n",
        "  for _, row in data_df.iterrows():\n",
        "    document = []\n",
        "\n",
        "    for s in re.split(SENTENCE_SPLITERS, row['TEXT']):\n",
        "      if s != '':\n",
        "        text = clean_str(s)\n",
        "        if text:\n",
        "          document.append(text)\n",
        "          \n",
        "        for word in text:\n",
        "          if word not in word_count:\n",
        "            word_count[word] = 0\n",
        "          \n",
        "          word_count[word] += 1\n",
        "    documents.append(document)\n",
        "    labels.append(row['Metric'])\n",
        "\n",
        "  return {'documents': documents, 'word_counts': word_count}, {'labels': labels, 'label_encoder': label_encoder}"
      ],
      "execution_count": null,
      "outputs": []
    },
    {
      "cell_type": "code",
      "metadata": {
        "id": "pT2NEleoAKED"
      },
      "source": [
        "class DocumentClassif(nn.Module):\n",
        "  def __init__(self, embeddings, hidden_dim, dropout=0.2):\n",
        "    super(DocumentClassif, self).__init__()\n",
        "    self.hidden_dim = hidden_dim\n",
        "    self.TEXT = embeddings\n",
        "    self.text_embedding = nn.Embedding(self.TEXT.vocab.vectors.shape[0], self.TEXT.vocab.vectors.shape[1]).from_pretrained(TEXT.vocab.vectors)\n",
        "\n",
        "    self.dropout = nn.Dropout(p=dropout)\n",
        "    self.word_rnn = nn.GRU(self.TEXT.vocab.vectors.shape[1], hidden_dim // 2, batch_first=True, bidirectional=True, num_layers=2, dropout=dropout)\n",
        "    self.word_linear = nn.Linear(hidden_dim, hidden_dim)\n",
        "    self.word_context = nn.Parameter(torch.rand(hidden_dim, 1, requires_grad=True))\n",
        "\n",
        "    self.sentence_rnn = nn.GRU(hidden_dim, hidden_dim // 2, batch_first=True, bidirectional=True)\n",
        "    self.sentence_linear = nn.Linear(hidden_dim, hidden_dim)\n",
        "    self.sentence_context = nn.Parameter(torch.rand(hidden_dim, 1, requires_grad=True))\n",
        "    self.linear_class = nn.Linear(hidden_dim, 2)\n",
        "\n",
        "  def forward(self, input):\n",
        "    text_tokens = self._embed_text(input)\n",
        "    input = self.text_embedding(text_tokens)\n",
        "    B, NS, SL, H = input.shape # B x NS x SL x H\n",
        "    input = torch.reshape(input, (-1, SL, H))# (B * NS) x SL x H\n",
        "    input = self.dropout(input) \n",
        "    embed_word, _ = self.word_rnn(input) # (B  * NS) x SL x H\n",
        "    embed_word = torch.reshape(embed_word, (B, NS, SL, -1)) # B x NS x SL x H\n",
        "    context_embed = torch.tanh(self.word_linear(embed_word)) # B x NS x SL x H\n",
        "\n",
        "    context_embed = F.softmax(torch.matmul(context_embed, self.word_context) / self.hidden_dim ** 0.5, dim=2)  # B x NS x SL x 1\n",
        "    context_embed = context_embed.expand_as(embed_word) # B x NS x SL x H\n",
        "    embed_sentence = (context_embed * embed_word).sum(axis=2) # B x NS x H\n",
        "\n",
        "    embed_sentence = self.dropout(embed_sentence) # B x NS x H\n",
        "    embed_sentence, _ = self.sentence_rnn(embed_sentence) # B x NS x H\n",
        "    context_embed = torch.tanh(self.sentence_linear(embed_sentence)) # B x NS x H\n",
        "    \n",
        "    context_embed = F.softmax(torch.matmul(context_embed, self.sentence_context) / self.hidden_dim ** 0.5, dim=1)  # B x NS x 1\n",
        "    context_embed = context_embed.expand_as(embed_sentence) # B x NS x H\n",
        "    doc_embed = (context_embed * embed_sentence).sum(axis=1) # B x H\n",
        "    final = self.linear_class(doc_embed)\n",
        "    return final # B x 2\n",
        "\n",
        "  def predict(self, input):\n",
        "    text_tokens = self._embed_text(input)\n",
        "    input = self.text_embedding(text_tokens)\n",
        "    B, NS, SL, H = input.shape # B x NS x SL x H\n",
        "    input = torch.reshape(input, (-1, SL, H))# (B * NS) x SL x H\n",
        "    input = self.dropout(input) \n",
        "    embed_word, _ = self.word_rnn(input) # (B  * NS) x SL x H\n",
        "    embed_word = torch.reshape(embed_word, (B, NS, SL, -1)) # B x NS x SL x H\n",
        "    context_embed = torch.tanh(self.word_linear(embed_word)) # B x NS x SL x H\n",
        "\n",
        "    word_attention = F.softmax(torch.matmul(context_embed, self.word_context) / self.hidden_dim ** 0.5, dim=2)  # B x NS x SL x 1\n",
        "    context_embed = word_attention.expand_as(embed_word) # B x NS x SL x H\n",
        "    embed_sentence = (context_embed * embed_word).sum(axis=2) # B x NS x H\n",
        "\n",
        "    embed_sentence = self.dropout(embed_sentence) # B x NS x H\n",
        "    embed_sentence, _ = self.sentence_rnn(embed_sentence) # B x NS x H\n",
        "    context_embed = torch.tanh(self.sentence_linear(embed_sentence)) # B x NS x H\n",
        "    \n",
        "    sentence_attention = F.softmax(torch.matmul(context_embed, self.sentence_context) / self.hidden_dim ** 0.5, dim=1)  # B x NS x 1\n",
        "    context_embed = sentence_attention.expand_as(embed_sentence) # B x NS x H\n",
        "    doc_embed = (context_embed * embed_sentence).sum(axis=1) # B x H\n",
        "    final = self.linear_class(doc_embed)\n",
        "    return F.softmax(final, dim=1), word_attention,  sentence_attention \n",
        "\n",
        "  def _embed_text(self, X):\n",
        "    device = self.word_context.device\n",
        "    ndocuments = len(X)\n",
        "    nseq = max(len(s) for s in X)\n",
        "    nword = max(len(w) for s in X for w in s)\n",
        "\n",
        "    sentences, positions = self._flat_text(X)\n",
        "    processed_sentences = TEXT.process(sentences, device=device)\n",
        "\n",
        "    embed = torch.ones(ndocuments, nseq, nword, dtype=torch.long, device=device)\n",
        "    for emd, pos in zip(processed_sentences, positions):\n",
        "      embed[pos[0], pos[1], : ] =  emd\n",
        "    \n",
        "    return embed\n",
        "\n",
        "  def _flat_text(self, documents):\n",
        "    sentences, positions = [], []\n",
        "    for d, doc in enumerate(documents):\n",
        "      for s, sent in enumerate(doc):\n",
        "        sentences.append(sent)\n",
        "        positions.append((d, s))\n",
        "\n",
        "    return sentences, positions"
      ],
      "execution_count": null,
      "outputs": []
    },
    {
      "cell_type": "code",
      "metadata": {
        "id": "SWcqGudBAUtE"
      },
      "source": [
        "class FutureSocietyDataset(Dataset):\n",
        "  def __init__(self, documents, labels):\n",
        "    self.text = documents\n",
        "    self.label = labels\n",
        "\n",
        "  def collate(self, samples):\n",
        "    data, labels = map(list, zip(*samples))\n",
        "    return data, torch.tensor(labels, dtype=torch.long)\n",
        "\n",
        "  def __len__(self):\n",
        "    return len(self.text)\n",
        "  \n",
        "  def __getitem__(self, idx):\n",
        "    return self.text[idx], self.label[idx]"
      ],
      "execution_count": null,
      "outputs": []
    },
    {
      "cell_type": "code",
      "metadata": {
        "id": "bOlmiMaNAVrz"
      },
      "source": [
        "def embedd_text(text, device):\n",
        "  return torch.tensor([WORD_VECTORS[word] if word in VOCAB else WORD_VECTORS['unk'] for word in text], device=DEVICE)\n",
        "\n",
        "def train_epoch(model, opt, dataloader, loss_fn, device):\n",
        "  losses, preds, grounds = [], [], []\n",
        "  model = model.train()\n",
        "  for X, Y in dataloader:\n",
        "    Y = Y.to(device)\n",
        "    opt.zero_grad()\n",
        "    output = model(X)\n",
        "\n",
        "    loss = loss_fn(output, Y)\n",
        "    loss.backward()\n",
        "    #nn.utils.clip_grad_norm_(model.parameters(), max_norm=1.0)\n",
        "    opt.step()\n",
        "    losses.append(loss.item())\n",
        "  \n",
        "    preds.extend(np.argmax(F.softmax(output, dim=-1).detach().cpu(), 1).tolist())\n",
        "    grounds.extend(Y.detach().cpu().tolist())\n",
        "\n",
        "  return {'f1':  f1_score(grounds, preds),\n",
        "          'loss': np.mean(losses),\n",
        "          'acc': balanced_accuracy_score(grounds, preds),\n",
        "          'precision': precision_score(grounds, preds),\n",
        "          'recall': recall_score(grounds, preds)}\n",
        "\n",
        "def eval_epoch(model, dataloader, loss_fn, device):\n",
        "  losses, preds, preds_prob, grounds = [], [], [], []\n",
        "  model = model.eval()\n",
        "  with torch.no_grad():\n",
        "    for X, Y in dataloader:\n",
        "      Y = Y.to(device)\n",
        "\n",
        "      output = model(X)\n",
        "\n",
        "      loss = loss_fn(output, Y)\n",
        "      losses.append(loss.item())\n",
        "\n",
        "      preds_prob.extend(F.softmax(output, dim=-1).detach().cpu()[:,1].tolist())\n",
        "      preds.extend(np.argmax(F.softmax(output, dim=-1).detach().cpu(), 1).tolist())\n",
        "      grounds.extend(Y.detach().cpu().tolist())\n",
        "\n",
        "  return {'f1':  f1_score(grounds, preds),\n",
        "          'auc': roc_auc_score(grounds, preds_prob),\n",
        "          'loss': np.mean(losses),\n",
        "          'acc': balanced_accuracy_score(grounds, preds),\n",
        "          'precision': precision_score(grounds, preds),\n",
        "          'recall': recall_score(grounds, preds)}\n",
        "\n",
        "def compute_threshold(model, dataloader, device):\n",
        "  precision_recall_curve\n",
        "  preds_prob, grounds = [], []\n",
        "  model = model.eval()\n",
        "  with torch.no_grad():\n",
        "    for X, Y in dataloader:\n",
        "      Y = Y.to(device)\n",
        "\n",
        "      output = model(X)\n",
        "\n",
        "      preds_prob.extend(F.softmax(output, dim=-1).detach().cpu()[:,1].tolist())\n",
        "      grounds.extend(Y.detach().cpu().tolist())\n",
        "\n",
        "  precision, recall, thresholds = precision_recall_curve(grounds, preds_prob)\n",
        "  return precision, recall, thresholds"
      ],
      "execution_count": null,
      "outputs": []
    },
    {
      "cell_type": "markdown",
      "metadata": {
        "id": "mluUVH-nAY35"
      },
      "source": [
        "Training parameters"
      ]
    },
    {
      "cell_type": "code",
      "metadata": {
        "id": "GsFIWUjjAalZ"
      },
      "source": [
        "training_params = {\n",
        "    'test_split': 0.2,\n",
        "    'val_split': 0.3,\n",
        "    'batch_size': 4,\n",
        "    'input_dim': 64,\n",
        "    'hidden_dim': 64,\n",
        "    'dropout': 0.5,\n",
        "    'learning_rate': 1e-4,\n",
        "    'momentum': 0.9,\n",
        "    'weight_decay': 1e-2,\n",
        "    'epochs': 200\n",
        "}\n",
        "train_df, val_df = train_test_split(train_val_df, test_size=training_params['val_split'], random_state=RANDOM_SEED)"
      ],
      "execution_count": null,
      "outputs": []
    },
    {
      "cell_type": "markdown",
      "metadata": {
        "id": "d3vu1zGNAfHb"
      },
      "source": [
        "### Train the model"
      ]
    },
    {
      "cell_type": "code",
      "metadata": {
        "colab": {
          "base_uri": "https://localhost:8080/"
        },
        "id": "UT_sE7xHAh2B",
        "outputId": "3c0cddb1-4e71-4feb-dac5-6092909a435b"
      },
      "source": [
        "train_documents, train_labels = process_data(train_df)\n",
        "val_documents, val_labels = process_data(val_df)\n",
        "test_documents, test_labels = process_data(test_df)\n",
        "\n",
        "\n",
        "train_text = train_documents['documents']\n",
        "val_text = val_documents['documents']\n",
        "test_text = test_documents['documents']\n",
        "\n",
        "train_sentences = [s for d in train_text for s in d]\n",
        "\n",
        "train_label = train_labels['label_encoder'].transform(train_labels['labels'])\n",
        "val_label = train_labels['label_encoder'].transform(val_labels['labels'])\n",
        "test_label = train_labels['label_encoder'].transform(test_labels['labels'])\n",
        "\n",
        "train_dataset = FutureSocietyDataset(train_text, train_label)\n",
        "val_dataset = FutureSocietyDataset(val_text, val_label)\n",
        "test_dataset = FutureSocietyDataset(test_text, test_label)\n",
        "\n",
        "train_dataloader = DataLoader(train_dataset, batch_size=training_params['batch_size'], shuffle=True, collate_fn=train_dataset.collate)\n",
        "val_dataloader = DataLoader(val_dataset, batch_size=training_params['batch_size'], shuffle=True, collate_fn=val_dataset.collate)\n",
        "test_dataloader = DataLoader(test_dataset, batch_size=training_params['batch_size'], shuffle=False, collate_fn=test_dataset.collate)\n",
        "print(\"Train size {}, Val size {}, Test size {}\".format(len(train_df), len(val_df), len(test_df)))\n",
        "print(\"Train % true {}, Val % true {}, Test % true {}\".format(train_label.sum() / len(train_label), val_label.sum() / len(val_label), test_label.sum() / len(test_label)))"
      ],
      "execution_count": null,
      "outputs": [
        {
          "output_type": "stream",
          "name": "stdout",
          "text": [
            "Train size 693, Val size 298, Test size 255\n",
            "Train % true 0.6320346320346321, Val % true 0.5536912751677853, Test % true 0.6313725490196078\n"
          ]
        }
      ]
    },
    {
      "cell_type": "markdown",
      "metadata": {
        "id": "7yKV_HO0A20p"
      },
      "source": [
        "#### Load/create embedding model"
      ]
    },
    {
      "cell_type": "code",
      "metadata": {
        "id": "WruucsumA3zx"
      },
      "source": [
        "word2vec_model = Word2Vec(sentences=train_sentences, size=training_params['input_dim'], window=5, min_count=5, workers=4, seed=RANDOM_SEED)\n",
        "word2vec_model.train(train_sentences, total_examples=2, epochs=100) # I think the constructor also trains the model\n",
        "word2vec_model.wv.save_word2vec_format(os.path.join(MODELPATH, f'word2vectors_{METRIC}.k2v'))"
      ],
      "execution_count": null,
      "outputs": []
    },
    {
      "cell_type": "code",
      "metadata": {
        "id": "li8PS2XSA73b"
      },
      "source": [
        "# word2vec_vector = torchtext.vocab.GloVe(name=\"6B\",dim=200)\n",
        "word2vec_vector = Vectors(name=f'word2vectors_{METRIC}.k2v', cache=MODELPATH)\n",
        "\n",
        "TEXT = torchtext.legacy.data.Field(batch_first=True) \n",
        "TEXT.build_vocab(train_sentences, min_freq=5)\n",
        "TEXT.vocab.set_vectors(word2vec_vector.stoi, word2vec_vector.vectors, word2vec_vector.dim)"
      ],
      "execution_count": null,
      "outputs": []
    },
    {
      "cell_type": "markdown",
      "metadata": {
        "id": "PfzIS5c5A9F-"
      },
      "source": [
        "#### Initiate model and train"
      ]
    },
    {
      "cell_type": "code",
      "metadata": {
        "id": "41kydbjnBBri"
      },
      "source": [
        "model = DocumentClassif(TEXT, training_params['hidden_dim'], training_params['dropout'])\n",
        "model = model.to(device=DEVICE)\n",
        "optimizer = optim.Adam(model.parameters(), training_params['learning_rate'])#, momentum=training_params['momentum'], weight_decay=training_params['weight_decay'])\n",
        "scheduler = optim.lr_scheduler.StepLR(optimizer, 20, gamma=0.5)\n",
        "loss_fn = nn.CrossEntropyLoss().to(device=DEVICE)"
      ],
      "execution_count": null,
      "outputs": []
    },
    {
      "cell_type": "code",
      "metadata": {
        "id": "8JN-IIurBGoH",
        "colab": {
          "base_uri": "https://localhost:8080/",
          "height": 49,
          "referenced_widgets": [
            "64b1f825e4b64c799d8f4db369a1ea52",
            "ab27c9f65cfb4b12a1ce9375a5771f3d",
            "d8c20718c3b2476d91954e7ddc4941d7",
            "5d0989890b9a4848ae7637604a9d1d1b",
            "051afa87ce8c4e248f4883ea14e57b3d",
            "468a9356727f420da4553ec449177703",
            "77febfa40a214016956611016ba1567d",
            "86b3023af29f4e40b8624931c6bf292c",
            "016dd8fb38434e8b93d5d2a442022978",
            "cd5048a2f2dc42008412bd11cc8dc9fa",
            "1934793f3f634d1c9061ebf5ff54186d"
          ]
        },
        "outputId": "e3622f4b-422a-4ce1-f5d1-aea890f0e4e0"
      },
      "source": [
        "train_losses, val_losses = [], []\n",
        "train_scores, val_scores, test_scores = [], [], []\n",
        "\n",
        "best_score = None\n",
        "early_stop = False\n",
        "delta = 1e-3\n",
        "patience = 20\n",
        "counter = 0\n",
        "finetune_embed = 1000\n",
        "\n",
        "pbar = trange(training_params['epochs'])\n",
        "for i in pbar:\n",
        "  train_result = train_epoch(model, optimizer, train_dataloader, loss_fn, DEVICE)\n",
        "  train_losses.append(train_result['loss'])\n",
        "  train_scores.append(train_result['f1'])\n",
        "\n",
        "\n",
        "  val_result = eval_epoch(model, val_dataloader, loss_fn, DEVICE)\n",
        "  val_losses.append(val_result['loss'])\n",
        "  val_scores.append(val_result['f1'])\n",
        "\n",
        "  test_result = eval_epoch(model, test_dataloader, loss_fn, DEVICE)\n",
        "  test_scores.append(test_result['f1'])\n",
        "\n",
        "  scheduler.step()\n",
        "\n",
        "  if i == finetune_embed:\n",
        "    model.text_embedding.weight.requires_grad = True\n",
        "\n",
        "  if best_score is None:\n",
        "      best_score = val_result['loss']\n",
        "  elif val_result['loss'] > best_score - delta:\n",
        "      counter += 1\n",
        "      if counter >= patience:\n",
        "          early_stop = True\n",
        "  else:\n",
        "      best_score = val_result['loss']\n",
        "      data = {\n",
        "          'model_state_dict': model.state_dict(),\n",
        "          'optimizer_state_dict': optimizer.state_dict(),\n",
        "          'scheduler_state_dict': scheduler.state_dict(),\n",
        "          'loss': loss_fn,\n",
        "          'training_params': training_params,\n",
        "          'train_loss': train_losses,\n",
        "          'val_loss': val_losses,\n",
        "          'train_f1': train_scores,\n",
        "          'val_f1': val_scores,\n",
        "          'test_f1': test_scores,\n",
        "      }\n",
        "      torch.save(data, os.path.join(MODELPATH, f'han_model_{METRIC}.pkl'))\n",
        "      counter = 0\n",
        "\n",
        "  if early_stop:\n",
        "    break\n",
        "\n",
        "\n",
        "  pbar.set_postfix(train_loss=train_result['loss'], train_f1=train_result['f1'], val_f1=val_result['f1'], counter=counter)"
      ],
      "execution_count": null,
      "outputs": [
        {
          "data": {
            "application/vnd.jupyter.widget-view+json": {
              "model_id": "64b1f825e4b64c799d8f4db369a1ea52",
              "version_major": 2,
              "version_minor": 0
            },
            "text/plain": [
              "  0%|          | 0/200 [00:00<?, ?it/s]"
            ]
          },
          "metadata": {},
          "output_type": "display_data"
        }
      ]
    },
    {
      "cell_type": "code",
      "metadata": {
        "id": "omJMWCuZBKxn"
      },
      "source": [
        "pd.DataFrame({'Train Loss': train_losses, 'Val Loss': val_losses}).plot()"
      ],
      "execution_count": null,
      "outputs": []
    },
    {
      "cell_type": "code",
      "metadata": {
        "id": "oZVBPoMYBNMF"
      },
      "source": [
        "print(f\"Train f1: {data['train_f1'][-1]}, Val f1: {data['val_f1'][-1]},Test f1 {data['test_f1'][-1]}\")"
      ],
      "execution_count": null,
      "outputs": []
    },
    {
      "cell_type": "markdown",
      "metadata": {
        "id": "nDHLNoNOBdmB"
      },
      "source": [
        "### Evaluate results"
      ]
    },
    {
      "cell_type": "markdown",
      "metadata": {
        "id": "3wmZLasWtpwb"
      },
      "source": [
        "#### Load word embeddings and model weights"
      ]
    },
    {
      "cell_type": "code",
      "metadata": {
        "id": "59riBAlFtoBT"
      },
      "source": [
        "# word2vec_vector = torchtext.vocab.GloVe(name=\"6B\",dim=200)\n",
        "word2vec_vector = Vectors(name=f'word2vectors_{METRIC}.k2v', cache=MODELPATH)\n",
        "data= torch.load(os.path.join(MODELPATH, f'han_model_{METRIC}.pkl'))"
      ],
      "execution_count": null,
      "outputs": []
    },
    {
      "cell_type": "markdown",
      "metadata": {
        "id": "VHlq0QA7t1ps"
      },
      "source": [
        "#### Load dataset"
      ]
    },
    {
      "cell_type": "code",
      "metadata": {
        "id": "4lVxze0Qt3Xh"
      },
      "source": [
        "train_documents, train_labels = process_data(train_df)\n",
        "val_documents, val_labels = process_data(val_df)\n",
        "test_documents, test_labels = process_data(test_df)\n",
        "\n",
        "train_text = train_documents['documents']\n",
        "val_text = val_documents['documents']\n",
        "test_text = test_documents['documents']\n",
        "\n",
        "train_sentences = [s for d in train_text for s in d]\n",
        "\n",
        "train_label = train_labels['label_encoder'].transform(train_labels['labels'])\n",
        "val_label = train_labels['label_encoder'].transform(val_labels['labels'])\n",
        "test_label = train_labels['label_encoder'].transform(test_labels['labels'])\n",
        "\n",
        "train_dataset = FutureSocietyDataset(train_text, train_label)\n",
        "val_dataset = FutureSocietyDataset(val_text, val_label)\n",
        "test_dataset = FutureSocietyDataset(test_text, test_label)\n",
        "\n",
        "train_dataloader = DataLoader(train_dataset, batch_size=1, shuffle=False, collate_fn=train_dataset.collate)\n",
        "val_dataloader = DataLoader(val_dataset, batch_size=1, shuffle=False, collate_fn=val_dataset.collate)\n",
        "test_dataloader = DataLoader(test_dataset, batch_size=1, shuffle=False, collate_fn=test_dataset.collate)\n",
        "\n",
        "print(\"Train size {}, Val size {}, Test size {}\".format(len(train_df), len(val_df), len(test_df)))\n",
        "print(\"Train % true {}, Val % true {}, Test % true {}\".format(train_label.sum() / len(train_label), val_label.sum() / len(val_label), test_label.sum() / len(test_label)))"
      ],
      "execution_count": null,
      "outputs": []
    },
    {
      "cell_type": "markdown",
      "metadata": {
        "id": "zjq3sSo-2D2r"
      },
      "source": [
        "#### Load dataset"
      ]
    },
    {
      "cell_type": "code",
      "metadata": {
        "id": "Obd785mu2FOb"
      },
      "source": [
        "train_documents, train_labels = process_data(train_df)\n",
        "val_documents, val_labels = process_data(val_df)\n",
        "test_documents, test_labels = process_data(test_df)\n",
        "\n",
        "train_text = train_documents['documents']\n",
        "val_text = val_documents['documents']\n",
        "test_text = test_documents['documents']\n",
        "\n",
        "train_sentences = [s for d in train_text for s in d]\n",
        "\n",
        "train_label = train_labels['label_encoder'].transform(train_labels['labels'])\n",
        "val_label = train_labels['label_encoder'].transform(val_labels['labels'])\n",
        "test_label = train_labels['label_encoder'].transform(test_labels['labels'])\n",
        "\n",
        "train_dataset = FutureSocietyDataset(train_text, train_label)\n",
        "val_dataset = FutureSocietyDataset(val_text, val_label)\n",
        "test_dataset = FutureSocietyDataset(test_text, test_label)\n",
        "\n",
        "train_dataloader = DataLoader(train_dataset, batch_size=1, shuffle=False, collate_fn=train_dataset.collate)\n",
        "val_dataloader = DataLoader(val_dataset, batch_size=1, shuffle=False, collate_fn=val_dataset.collate)\n",
        "test_dataloader = DataLoader(test_dataset, batch_size=1, shuffle=False, collate_fn=test_dataset.collate)\n",
        "\n",
        "print(\"Train size {}, Val size {}, Test size {}\".format(len(train_df), len(val_df), len(test_df)))\n",
        "print(\"Train % true {}, Val % true {}, Test % true {}\".format(train_label.sum() / len(train_label), val_label.sum() / len(val_label), test_label.sum() / len(test_label)))"
      ],
      "execution_count": null,
      "outputs": []
    },
    {
      "cell_type": "markdown",
      "metadata": {
        "id": "MHsbvohY2Idh"
      },
      "source": [
        "#### Build model"
      ]
    },
    {
      "cell_type": "code",
      "metadata": {
        "id": "cUpONWNL2JlK"
      },
      "source": [
        "TEXT = torchtext.data.Field(batch_first=True) \n",
        "TEXT.build_vocab(train_sentences, min_freq=5)\n",
        "TEXT.vocab.set_vectors(word2vec_vector.stoi, word2vec_vector.vectors, word2vec_vector.dim)"
      ],
      "execution_count": null,
      "outputs": []
    },
    {
      "cell_type": "code",
      "metadata": {
        "id": "CnSsflf82LJG"
      },
      "source": [
        "loss_fn = data['loss']\n",
        "model = DocumentClassif(TEXT, data['training_params']['hidden_dim'], data['training_params']['dropout'])\n",
        "model.load_state_dict(data['model_state_dict'])\n",
        "model = model.to(DEVICE)"
      ],
      "execution_count": null,
      "outputs": []
    },
    {
      "cell_type": "markdown",
      "metadata": {
        "id": "DVo49a6X2NLr"
      },
      "source": [
        "#### Evaluate Model"
      ]
    },
    {
      "cell_type": "code",
      "metadata": {
        "id": "cbHOQV4S2OYP"
      },
      "source": [
        "precision, recall, thresholds = compute_threshold(model, train_dataloader, DEVICE)\n",
        "plt.plot(recall, precision)"
      ],
      "execution_count": null,
      "outputs": []
    },
    {
      "cell_type": "code",
      "metadata": {
        "id": "wiT4aELg2Q20"
      },
      "source": [
        "train_result = eval_epoch(model, train_dataloader, loss_fn, DEVICE)\n",
        "val_result = eval_epoch(model, val_dataloader, loss_fn, DEVICE)\n",
        "test_result = eval_epoch(model, test_dataloader, loss_fn, DEVICE)\n",
        "\n",
        "print(f\"Accuracy  -> Train: {train_result['acc']:.{3}}, Val: {val_result['acc']:.{3}}, Test: {test_result['acc']:.{3}}\")\n",
        "print(f\"F1        -> Train: {train_result['f1']:.{3}}, Val: {val_result['f1']:.{3}}, Test: {test_result['f1']:.{3}}\")\n",
        "print(f\"Precision -> Train: {train_result['precision']:.{3}}, Val: {val_result['precision']:.{3}}, Test: {test_result['precision']:.{3}}\")\n",
        "print(f\"Recall    -> Train: {train_result['recall']:.{3}}, Val: {val_result['recall']:.{3}}, Test: {test_result['recall']:.{3}}\")\n",
        "print(f\"AUC       -> Train: {train_result['auc']:.{3}}, Val: {val_result['auc']:.{3}}, Test: {test_result['auc']:.{3}}\")"
      ],
      "execution_count": null,
      "outputs": []
    },
    {
      "cell_type": "code",
      "metadata": {
        "id": "Ivi30wnx2Unz"
      },
      "source": [
        "preds, words, sentences, texts = [], [], [], []\n",
        "results = []\n",
        "model = model.eval()\n",
        "with torch.no_grad():\n",
        "  for i, (X, Y) in enumerate(tqdm(test_dataloader)):\n",
        "    pred, word_attention, sentence_attention = model.predict(X)\n",
        "\n",
        "    results.append({\n",
        "        'pred': np.argmax(pred.detach().cpu().numpy(), 1)[0],\n",
        "        'pred_prob': pred.detach().cpu().numpy()[0,1],\n",
        "        'true': Y.detach().cpu().numpy()[0],\n",
        "        'word_att': word_attention.detach().cpu().numpy(),\n",
        "        'sent_att': sentence_attention.detach().cpu().numpy(),\n",
        "        'text': X[0],\n",
        "        'link': test_df.iloc[i]['Answer Link']\n",
        "    })"
      ],
      "execution_count": null,
      "outputs": []
    },
    {
      "cell_type": "code",
      "metadata": {
        "id": "fgbQDWap2VXb"
      },
      "source": [
        "pred = [r['pred'] for r in results]\n",
        "true = [r['true'] for r in results]\n",
        "prob = [r['pred_prob'] for r in results]\n",
        "print(f\"Dataset {METRIC}:\")\n",
        "print(classification_report(true, pred))"
      ],
      "execution_count": null,
      "outputs": []
    },
    {
      "cell_type": "code",
      "metadata": {
        "id": "vF6LOsxq2ZzR"
      },
      "source": [
        "final_df = pd.DataFrame({'True': true, 'Pred': pred, 'Pred_prob':prob})\n",
        "final_df.to_csv(os.path.join(\"./\", f\"{METRIC}_test_preds.csv\"))\n",
        "\n",
        "final_df = test_df.copy()\n",
        "final_df['Prob'] = prob\n",
        "final_df.to_csv(os.path.join(\"./\", f\"{METRIC}_test_preditions.csv\"))"
      ],
      "execution_count": null,
      "outputs": []
    },
    {
      "cell_type": "markdown",
      "metadata": {
        "id": "QE35h8_M2fnk"
      },
      "source": [
        "#### Print Results"
      ]
    },
    {
      "cell_type": "code",
      "metadata": {
        "id": "iY7gKLAd2gvr"
      },
      "source": [
        "def create_html(result):\n",
        "  template = '<span class=\"barcode\"; style=\"font-size:14px; color: black; background-color: {}\">{}</span>'\n",
        "  blue_cmap=matplotlib.cm.Blues\n",
        "  red_cmap=matplotlib.cm.Reds\n",
        "  final = \"\"\n",
        "\n",
        "  pred_label = bool(result['pred'])\n",
        "  true_label = bool(result['true'])\n",
        "  pred_color = 'green' if pred_label == true_label else 'red'\n",
        "\n",
        "  final += '<p style=\"font-size:16px\"> <span>Pred label: </span><span style=\"color:{};\">{}</span></p>'.format(pred_color, pred_label)\n",
        "  final += '<p style=\"font-size:16px\"> <span>Answer Link: </span><a href=\"{}\">{}</a></p>'.format(result['link'], result['link'])\n",
        "\n",
        "  sentence_attention = normalize(np.reshape(result['sent_att'], (1, -1)))\n",
        "  for sent, sent_att, word_attention in zip(result['text'], sentence_attention.squeeze(), result['word_att'].squeeze()):\n",
        "    color = matplotlib.colors.rgb2hex(red_cmap(sent_att)[:3])\n",
        "    word_attention = normalize(np.reshape(word_attention, (1, -1)))\n",
        "    final += \"<p>\"\n",
        "    final += template.format(color, '&nbsp' + \" \" + '&nbsp')\n",
        "    for word, word_att in zip(sent, word_attention.squeeze()):\n",
        "      color = matplotlib.colors.rgb2hex(blue_cmap(word_att * 0.8)[:3])\n",
        "      final += template.format(color, ' ' + word + ' ')\n",
        "    final += \"</p>\"\n",
        "  \n",
        "  return final\n",
        "\n",
        "def print_result(result):\n",
        "  display(HTML(create_html(result)))\n",
        "\n",
        "def result2pdf(result, pdf):\n",
        "  weasyprint.HTML(string=create_html(result)).write_pdf(pdf)"
      ],
      "execution_count": null,
      "outputs": []
    },
    {
      "cell_type": "code",
      "metadata": {
        "id": "HdfoDrvq2jN_"
      },
      "source": [
        "wrong_examples = [i for i, r in enumerate(results) if r['pred'] != r['true']]"
      ],
      "execution_count": null,
      "outputs": []
    },
    {
      "cell_type": "code",
      "metadata": {
        "id": "NNh5fvin2lqg"
      },
      "source": [
        "!rm  ./*.pdf"
      ],
      "execution_count": null,
      "outputs": []
    },
    {
      "cell_type": "code",
      "metadata": {
        "id": "3EPQdoBn2o3O"
      },
      "source": [
        "result_test_folder = \"./\"\n",
        "for i, idx in tqdm(enumerate(wrong_examples), total=len(wrong_examples)):\n",
        "  file_path = os.path.join(result_test_folder, f\"wrong_example_{i}.pdf\")\n",
        "  result2pdf(results[idx], file_path)"
      ],
      "execution_count": null,
      "outputs": []
    },
    {
      "cell_type": "code",
      "metadata": {
        "id": "fwKv94EA2tCp"
      },
      "source": [
        "final_path = os.path.join(\"./\", f\"{METRIC}_test_wrong_examples.pdf\")\n",
        "!pdfunite `ls -v $result_test_folder/*.pdf` $final_path"
      ],
      "execution_count": null,
      "outputs": []
    },
    {
      "cell_type": "code",
      "metadata": {
        "id": "W82XjMGC2woH"
      },
      "source": [
        "print_result(results[7])"
      ],
      "execution_count": null,
      "outputs": []
    },
    {
      "cell_type": "code",
      "metadata": {
        "id": "fLDIG7-e2yRA"
      },
      "source": [
        "wrong_examples[0]"
      ],
      "execution_count": null,
      "outputs": []
    },
    {
      "cell_type": "markdown",
      "metadata": {
        "id": "RkSeDTygPgso"
      },
      "source": [
        ""
      ]
    },
    {
      "cell_type": "markdown",
      "metadata": {
        "id": "q31XI6HJfoLB"
      },
      "source": [
        "## Results"
      ]
    },
    {
      "cell_type": "markdown",
      "metadata": {
        "id": "TyF8Vu6-fjan"
      },
      "source": [
        "Using six sentences as a threshold and having almost 75% of statements to classify, Hierarchical Attention Network showed worse performance than the Rule-Based and Random Forest approach. Hierarchical Attention Network yields around 69% accuracy, while the Rule-Based and Random Forest approach accounted for 73% accuracy.\n",
        " \n",
        "\n"
      ]
    },
    {
      "cell_type": "markdown",
      "metadata": {
        "id": "2u8m7Lo6B3PU"
      },
      "source": [
        "#Transformer\n",
        " \n",
        "### Introduction\n",
        " \n",
        "We want to leverage the comment section of the data to train a classification model.\n",
        " \n",
        "Reminder: On the original data, the labelisation has been made as follows:\n",
        " \n",
        "People label each statement saying if the metric is present or not in the current statement\n",
        "Sometimes, they justify their finding by copy-pasting part of the statement justifying their choice\n",
        "We transform this original training data in order to build a custom training set using the information contained in the comment section. More precisely, we define as:\n",
        " \n",
        "Positive labels - justification for the metric being present in the current statement: extract sentences of the statements present in the comment section as a citation.\n",
        "negative labels: randomly sample sentences present in the statements and not present in the comment section\n",
        "Then, we train a BERT Transformer model to classify sentences that can justify the metric being present (positive label) or not (negative label).\n",
        " \n",
        "To predict the presence or not of the metric within a global statement, we simply use this model to predict if each sentence of the statement is a justification or not. If we find at least one sentence being predicted as a justification, then we say that the overall statement contains the metric.\n",
        "\n"
      ]
    },
    {
      "cell_type": "markdown",
      "metadata": {
        "id": "jADmZAWxB9-V"
      },
      "source": [
        "### Install Requirements"
      ]
    },
    {
      "cell_type": "code",
      "metadata": {
        "id": "-OMWep6xCANz"
      },
      "source": [
        "#!pip install tensorflow\n",
        "#!pip install transformers"
      ],
      "execution_count": null,
      "outputs": []
    },
    {
      "cell_type": "code",
      "metadata": {
        "id": "Li-FmRz8B5Ib"
      },
      "source": [
        "# import core libraries \n",
        "import pandas as pd\n",
        "import numpy as np\n",
        "from pathlib import Path\n",
        "\n",
        "# import deeplearning libraries\n",
        "import transformers\n",
        "import tensorflow as tf\n",
        "\n"
      ],
      "execution_count": null,
      "outputs": []
    },
    {
      "cell_type": "markdown",
      "metadata": {
        "id": "FViq6lv4CLRI"
      },
      "source": [
        "### Data Cleaning"
      ]
    },
    {
      "cell_type": "code",
      "metadata": {
        "id": "EgJEhjeXCORR"
      },
      "source": [
        "# parameters\n",
        "METRIC = \"assessment\""
      ],
      "execution_count": null,
      "outputs": []
    },
    {
      "cell_type": "code",
      "metadata": {
        "colab": {
          "base_uri": "https://localhost:8080/"
        },
        "id": "HccAjTUGCTXL",
        "outputId": "2cdcfe68-ea24-4fbc-8563-026c8d1d14ad"
      },
      "source": [
        "# Load statements and comments\n",
        "# The load_comments function clean up comments, by selecting only sentences in statements used as justification in comments\n",
        "df = load_dataset_from_gdrive(METRIC)\n",
        "comments = load_comments_from_gdrive(METRIC)\n",
        "df[\"comments\"] = df.TEXT.apply(lambda x: comments[x] if x in comments else [])\n",
        "# Shuffle data and split in train_test\n",
        "shuffled_df = df.sample(frac=1, random_state=60)\n",
        "train, test = shuffled_df[:int(0.8*len(shuffled_df))], shuffled_df[int(0.8*len(shuffled_df)):]"
      ],
      "execution_count": null,
      "outputs": [
        {
          "output_type": "stream",
          "name": "stdout",
          "text": [
            "Possible values : ['conducting research' 'in development' 'no' 'risk-based questionnaires'\n",
            " 'unknown' 'use of risk management tool or software']\n"
          ]
        }
      ]
    },
    {
      "cell_type": "markdown",
      "metadata": {
        "id": "Gfd7o1KJCUmf"
      },
      "source": [
        "Delete observations with metric but without any comment"
      ]
    },
    {
      "cell_type": "code",
      "metadata": {
        "id": "WYePdT8HCXfv"
      },
      "source": [
        "def filtre(x):    \n",
        "    return not (x[\"Metric\"]==True and len(x[\"comments\"])==0)\n",
        "\n",
        "train_not_filtered = train.copy()\n",
        "train = train[train.apply(lambda x: filtre(x), axis=1)]"
      ],
      "execution_count": null,
      "outputs": []
    },
    {
      "cell_type": "markdown",
      "metadata": {
        "id": "-ejqkMm0CZWO"
      },
      "source": [
        "Since the final model will use full sentences as input data, we enlarge text extracted from comment section, by finding the whole sentence associated. These sentences are the positive labels. For the negative labels, we use all the other sentences."
      ]
    },
    {
      "cell_type": "code",
      "metadata": {
        "id": "l1gmYdyfCa4e"
      },
      "source": [
        "def get_full_sentence(text, sub_text, start, end):\n",
        "    pre = True\n",
        "    while pre:\n",
        "        start -= 1\n",
        "        new_char = text[start]\n",
        "        if new_char not in [\".\", \"\\n\"]:\n",
        "            sub_text = new_char + sub_text\n",
        "        else:\n",
        "            pre = False\n",
        "            \n",
        "    post = True\n",
        "    while post:\n",
        "        end += 1\n",
        "        new_char = text[end]\n",
        "        if new_char not in [\".\", \"\\n\"]:\n",
        "            sub_text += new_char\n",
        "        else:\n",
        "            post = False\n",
        "            \n",
        "    return sub_text + \".\", start, end"
      ],
      "execution_count": null,
      "outputs": []
    },
    {
      "cell_type": "code",
      "metadata": {
        "id": "tVgHU8-7CcvT"
      },
      "source": [
        "train_positive_samples = []\n",
        "train_negative_samples = []\n",
        "for idx, row in train.iterrows():\n",
        "    full_comment = []\n",
        "    old_end = 0\n",
        "    sub_negative_samples = []\n",
        "    for comment in row.comments:\n",
        "        text, start, end = get_full_sentence(row.TEXT, comment[\"text\"], comment[\"start\"], comment[\"end\"])\n",
        "        full_comment.append(text)\n",
        "        sub_negative_samples.append(row.TEXT[old_end: start])\n",
        "        old_end = end\n",
        "        \n",
        "    train_negative_samples.append(sub_negative_samples)\n",
        "    train_positive_samples.append(full_comment)"
      ],
      "execution_count": null,
      "outputs": []
    },
    {
      "cell_type": "markdown",
      "metadata": {
        "id": "PofK-OF5Ci2c"
      },
      "source": [
        "Cut string as sentences using \"\\n\" and \".\" as separators. Eliminate sentences with less than 40 characters."
      ]
    },
    {
      "cell_type": "code",
      "metadata": {
        "id": "p8N6tmMbCjTp"
      },
      "source": [
        "train_negative_samples = \"\".join([sub.replace(\"\\n\", \".\") for l in train_negative_samples for sub in l]).split(\".\")\n",
        "train_negative_samples = [i for i in train_negative_samples if len(i) > 40]\n",
        "\n",
        "train_positive_samples = \"\".join([sub.replace(\"\\n\", \".\") for l in train_positive_samples for sub in l]).split(\".\")\n",
        "train_positive_samples = [i for i in train_positive_samples if len(i) > 40]"
      ],
      "execution_count": null,
      "outputs": []
    },
    {
      "cell_type": "markdown",
      "metadata": {
        "id": "-pcvm19RCmNx"
      },
      "source": [
        "Create list of sentences with corresponding labels (justification or not)."
      ]
    },
    {
      "cell_type": "code",
      "metadata": {
        "id": "Iw38ZL2BCmxd"
      },
      "source": [
        "train_targets = list(np.ones(len(train_positive_samples)).astype(int)) + list(np.zeros(len(train_negative_samples)).astype(int))\n",
        "train_comments = train_positive_samples + train_negative_samples"
      ],
      "execution_count": null,
      "outputs": []
    },
    {
      "cell_type": "markdown",
      "metadata": {
        "id": "OP9lmvlCCqtA"
      },
      "source": [
        "### Training"
      ]
    },
    {
      "cell_type": "code",
      "metadata": {
        "colab": {
          "base_uri": "https://localhost:8080/",
          "height": 145,
          "referenced_widgets": [
            "06218806d7e247b88740f4814785ef5f",
            "367bad6b9fd940c2bd3c8ce8fb069950",
            "60957f49a59e45d9b2ae2c7a67ebabf1",
            "cd79d286ebac483a85ea311b9c18df20",
            "1c1158270a5d4ffabb8de0924a767b21",
            "50c2119938804617b2010f8b8a55d16e",
            "237462ae1b944c98913574fcccf2a020",
            "6bb1038e276443dbb0ca29c11e22a691",
            "2733ddb87385457b99505f51f7b82625",
            "b32881a55ab64c4d9ccb9eece2e50c0d",
            "d521182ebcf244e4aaaffaf4b301d927",
            "4249d35f17e84f23a7cf6af4b63b4653",
            "481bb32b47ea4be2be1b5d08461958ba",
            "9c8cb7b3f69b4584ad28522339508014",
            "85178cfa2dbd4d569b9d30e9b3d472b7",
            "f7938afbaae64179a34afa2410fc7dce",
            "a552141bcf1547219a3dfb399ad725f0",
            "bf17f0fc8d594d9999499606545c11d9",
            "7639b3685f7244609e4ba210198d4037",
            "94cf8059f430469885330c529a79a6d4",
            "607d90cdb8d642d78b909457da2231c9",
            "7c994908b17b47ccac20af629ef04b2b",
            "2c640f5faa184560a1dfd51ed03c0005",
            "a683cfda54c64d23993cea696b0e868f",
            "9b113802d2ed4a71a54cb41f2e07774c",
            "c8ab86792fcb464da9f116be68b5b0f9",
            "f0a785a7060e4c30a97afb53f639c8ee",
            "2843111d3705481a97deb7d7b0047d65",
            "9671573efac94fb387a9bfc306c8e6a5",
            "8adb3a21a3e44743b371109bc79e5753",
            "4f485d896a7247f2be79f3a4df6bf449",
            "01554d80fd2d471c8002786e53b60fd9",
            "db5bb0735c974e0e9151bd0c8a80afcd",
            "7c5ae9da4755429d849743846cbc2f97",
            "a536d590ee2249a0820a58b47c4c4702",
            "5d9d1aa82b9a4dd98b804306b97e0549",
            "d21690f5a0c443c9a6cb2fa73c6e0f58",
            "3df3f9645ef04e278eb8609d686d2e88",
            "1d965f382d7748e684e8161158ad2273",
            "aad3c6c2b18d4f04b03fe799973dd302",
            "1323984b3120468c9fd9857eca8b3d96",
            "b6894c84d6c2438b9e370e844bb2e7d9",
            "d498effe32f04dbaab0e889b72ef80bc",
            "f83de7949b064d089ae7a2a5363010dc"
          ]
        },
        "id": "oFxvXAT4XL16",
        "outputId": "ed3e3f5c-2574-4ace-f262-2c34cacdda0c"
      },
      "source": [
        "import tensorflow as tf\n",
        "from transformers import BertTokenizer\n",
        "\n",
        "tokenizer = BertTokenizer.from_pretrained(\"bert-base-uncased\")"
      ],
      "execution_count": null,
      "outputs": [
        {
          "output_type": "display_data",
          "data": {
            "application/vnd.jupyter.widget-view+json": {
              "model_id": "06218806d7e247b88740f4814785ef5f",
              "version_minor": 0,
              "version_major": 2
            },
            "text/plain": [
              "Downloading:   0%|          | 0.00/226k [00:00<?, ?B/s]"
            ]
          },
          "metadata": {}
        },
        {
          "output_type": "display_data",
          "data": {
            "application/vnd.jupyter.widget-view+json": {
              "model_id": "4249d35f17e84f23a7cf6af4b63b4653",
              "version_minor": 0,
              "version_major": 2
            },
            "text/plain": [
              "Downloading:   0%|          | 0.00/28.0 [00:00<?, ?B/s]"
            ]
          },
          "metadata": {}
        },
        {
          "output_type": "display_data",
          "data": {
            "application/vnd.jupyter.widget-view+json": {
              "model_id": "2c640f5faa184560a1dfd51ed03c0005",
              "version_minor": 0,
              "version_major": 2
            },
            "text/plain": [
              "Downloading:   0%|          | 0.00/455k [00:00<?, ?B/s]"
            ]
          },
          "metadata": {}
        },
        {
          "output_type": "display_data",
          "data": {
            "application/vnd.jupyter.widget-view+json": {
              "model_id": "7c5ae9da4755429d849743846cbc2f97",
              "version_minor": 0,
              "version_major": 2
            },
            "text/plain": [
              "Downloading:   0%|          | 0.00/570 [00:00<?, ?B/s]"
            ]
          },
          "metadata": {}
        }
      ]
    },
    {
      "cell_type": "markdown",
      "metadata": {
        "id": "H-y8hubzXNRj"
      },
      "source": [
        "Encode sentences with numerical values."
      ]
    },
    {
      "cell_type": "code",
      "metadata": {
        "id": "rbIxZj3TXP8z"
      },
      "source": [
        "def process_comments(tokenizer, comments, max_length):\n",
        "    input_ids, attention_mask = [], []\n",
        "    for comment in comments:\n",
        "        proccessed_comment = tokenizer.encode_plus(comment, max_length=max_length, pad_to_max_length=True)\n",
        "        input_ids.append(proccessed_comment[\"input_ids\"])\n",
        "        attention_mask.append(proccessed_comment[\"attention_mask\"])\n",
        "    return input_ids, attention_mask"
      ],
      "execution_count": null,
      "outputs": []
    },
    {
      "cell_type": "code",
      "metadata": {
        "colab": {
          "base_uri": "https://localhost:8080/"
        },
        "id": "BID3C7IJXSfG",
        "outputId": "7c911437-eb87-4210-e890-527d5c2bf74b"
      },
      "source": [
        "MAX_LENGTH = 128\n",
        "\n",
        "train_input_ids, train_mask = process_comments(tokenizer, train_comments, MAX_LENGTH)"
      ],
      "execution_count": null,
      "outputs": [
        {
          "output_type": "stream",
          "name": "stderr",
          "text": [
            "Truncation was not explicitly activated but `max_length` is provided a specific value, please use `truncation=True` to explicitly truncate examples to max length. Defaulting to 'longest_first' truncation strategy. If you encode pairs of sequences (GLUE-style) with the tokenizer you can select this strategy more precisely by providing a specific strategy to `truncation`.\n",
            "/usr/local/lib/python3.7/dist-packages/transformers/tokenization_utils_base.py:2217: FutureWarning: The `pad_to_max_length` argument is deprecated and will be removed in a future version, use `padding=True` or `padding='longest'` to pad to the longest sequence in the batch, or use `padding='max_length'` to pad to a max length. In this case, you can give a specific length with `max_length` (e.g. `max_length=45`) or leave max_length to None to pad to the maximal input size of the model (e.g. 512 for Bert).\n",
            "  FutureWarning,\n"
          ]
        }
      ]
    },
    {
      "cell_type": "code",
      "metadata": {
        "id": "Gg8SJZHFXVf9"
      },
      "source": [
        "train_dataset = tf.data.Dataset.from_tensor_slices(({\"input_ids\": train_input_ids, \"attention_mask\": train_mask}, train_targets))"
      ],
      "execution_count": null,
      "outputs": []
    },
    {
      "cell_type": "code",
      "metadata": {
        "id": "pw5-2YNiXZAm"
      },
      "source": [
        "BATCH_SIZE = 32\n",
        "SHUFFLE_BUFFER_SIZE = len(train_input_ids)\n",
        "\n",
        "# Shuffle data during training and use batch size of 32\n",
        "train_dataset = train_dataset.shuffle(SHUFFLE_BUFFER_SIZE).batch(BATCH_SIZE)"
      ],
      "execution_count": null,
      "outputs": []
    },
    {
      "cell_type": "code",
      "metadata": {
        "colab": {
          "base_uri": "https://localhost:8080/",
          "height": 137,
          "referenced_widgets": [
            "f23fb5fd59ff494fb7e110f72a6d0c06",
            "c29966cd6fe344b998a726041f2b753a",
            "5423fb162c6644b8bb628f2993427dc1",
            "16dde8d01d7c49e3b74f67fa576f4b7a",
            "633d99b2fed442b787b3767feff11359",
            "4f1b79966cdb44d5955e4e72a5dc7ed5",
            "625122a5065642ff961141a010d7494a",
            "90e4399373754915b3a6c1dbac4ff176",
            "dc7232c01f2d44bda850e95b26034e0b",
            "0d7630b8cf3d47dca247d00039905d74",
            "45e6572ac116412a8418a84679527ea8"
          ]
        },
        "id": "gClZJanBXdHm",
        "outputId": "bcfcf7e2-aca2-43d1-c9a2-e3337c6880e1"
      },
      "source": [
        "from transformers import TFBertForSequenceClassification\n",
        "\n",
        "model = TFBertForSequenceClassification.from_pretrained(\"bert-base-uncased\")"
      ],
      "execution_count": null,
      "outputs": [
        {
          "output_type": "display_data",
          "data": {
            "application/vnd.jupyter.widget-view+json": {
              "model_id": "f23fb5fd59ff494fb7e110f72a6d0c06",
              "version_minor": 0,
              "version_major": 2
            },
            "text/plain": [
              "Downloading:   0%|          | 0.00/511M [00:00<?, ?B/s]"
            ]
          },
          "metadata": {}
        },
        {
          "output_type": "stream",
          "name": "stderr",
          "text": [
            "All model checkpoint layers were used when initializing TFBertForSequenceClassification.\n",
            "\n",
            "Some layers of TFBertForSequenceClassification were not initialized from the model checkpoint at bert-base-uncased and are newly initialized: ['classifier']\n",
            "You should probably TRAIN this model on a down-stream task to be able to use it for predictions and inference.\n"
          ]
        }
      ]
    },
    {
      "cell_type": "markdown",
      "metadata": {
        "id": "DybnUhI5Xefw"
      },
      "source": [
        "Compile model."
      ]
    },
    {
      "cell_type": "code",
      "metadata": {
        "id": "QcHh4mEtXf24"
      },
      "source": [
        "optimizer = tf.keras.optimizers.Adam(learning_rate=3e-5, epsilon=1e-08, clipnorm=1.0)\n",
        "loss = tf.keras.losses.SparseCategoricalCrossentropy(from_logits=True)\n",
        "metric = tf.keras.metrics.SparseCategoricalAccuracy('accuracy')\n",
        "model.compile(optimizer=optimizer, loss=loss, metrics=[metric])"
      ],
      "execution_count": null,
      "outputs": []
    },
    {
      "cell_type": "markdown",
      "metadata": {
        "id": "0coXD1g8Xh6I"
      },
      "source": [
        "Train model."
      ]
    },
    {
      "cell_type": "code",
      "metadata": {
        "colab": {
          "base_uri": "https://localhost:8080/",
          "height": 358
        },
        "id": "TOzMwHOgXixJ",
        "outputId": "53633acf-3045-49dc-f5b6-f447817d95c0"
      },
      "source": [
        "model.fit(train_dataset, epochs=2, validation_steps=10)"
      ],
      "execution_count": null,
      "outputs": [
        {
          "output_type": "stream",
          "name": "stdout",
          "text": [
            "Epoch 1/2\n",
            " 89/251 [=========>....................] - ETA: 1:58:45 - loss: 0.2558 - accuracy: 0.9133"
          ]
        },
        {
          "output_type": "error",
          "ename": "KeyboardInterrupt",
          "evalue": "ignored",
          "traceback": [
            "\u001b[0;31m---------------------------------------------------------------------------\u001b[0m",
            "\u001b[0;31mKeyboardInterrupt\u001b[0m                         Traceback (most recent call last)",
            "\u001b[0;32m<ipython-input-25-8e305f9f816e>\u001b[0m in \u001b[0;36m<module>\u001b[0;34m()\u001b[0m\n\u001b[0;32m----> 1\u001b[0;31m \u001b[0mmodel\u001b[0m\u001b[0;34m.\u001b[0m\u001b[0mfit\u001b[0m\u001b[0;34m(\u001b[0m\u001b[0mtrain_dataset\u001b[0m\u001b[0;34m,\u001b[0m \u001b[0mepochs\u001b[0m\u001b[0;34m=\u001b[0m\u001b[0;36m2\u001b[0m\u001b[0;34m,\u001b[0m \u001b[0mvalidation_steps\u001b[0m\u001b[0;34m=\u001b[0m\u001b[0;36m10\u001b[0m\u001b[0;34m)\u001b[0m\u001b[0;34m\u001b[0m\u001b[0;34m\u001b[0m\u001b[0m\n\u001b[0m",
            "\u001b[0;32m/usr/local/lib/python3.7/dist-packages/keras/engine/training.py\u001b[0m in \u001b[0;36mfit\u001b[0;34m(self, x, y, batch_size, epochs, verbose, callbacks, validation_split, validation_data, shuffle, class_weight, sample_weight, initial_epoch, steps_per_epoch, validation_steps, validation_batch_size, validation_freq, max_queue_size, workers, use_multiprocessing)\u001b[0m\n\u001b[1;32m   1182\u001b[0m                 _r=1):\n\u001b[1;32m   1183\u001b[0m               \u001b[0mcallbacks\u001b[0m\u001b[0;34m.\u001b[0m\u001b[0mon_train_batch_begin\u001b[0m\u001b[0;34m(\u001b[0m\u001b[0mstep\u001b[0m\u001b[0;34m)\u001b[0m\u001b[0;34m\u001b[0m\u001b[0;34m\u001b[0m\u001b[0m\n\u001b[0;32m-> 1184\u001b[0;31m               \u001b[0mtmp_logs\u001b[0m \u001b[0;34m=\u001b[0m \u001b[0mself\u001b[0m\u001b[0;34m.\u001b[0m\u001b[0mtrain_function\u001b[0m\u001b[0;34m(\u001b[0m\u001b[0miterator\u001b[0m\u001b[0;34m)\u001b[0m\u001b[0;34m\u001b[0m\u001b[0;34m\u001b[0m\u001b[0m\n\u001b[0m\u001b[1;32m   1185\u001b[0m               \u001b[0;32mif\u001b[0m \u001b[0mdata_handler\u001b[0m\u001b[0;34m.\u001b[0m\u001b[0mshould_sync\u001b[0m\u001b[0;34m:\u001b[0m\u001b[0;34m\u001b[0m\u001b[0;34m\u001b[0m\u001b[0m\n\u001b[1;32m   1186\u001b[0m                 \u001b[0mcontext\u001b[0m\u001b[0;34m.\u001b[0m\u001b[0masync_wait\u001b[0m\u001b[0;34m(\u001b[0m\u001b[0;34m)\u001b[0m\u001b[0;34m\u001b[0m\u001b[0;34m\u001b[0m\u001b[0m\n",
            "\u001b[0;32m/usr/local/lib/python3.7/dist-packages/tensorflow/python/eager/def_function.py\u001b[0m in \u001b[0;36m__call__\u001b[0;34m(self, *args, **kwds)\u001b[0m\n\u001b[1;32m    883\u001b[0m \u001b[0;34m\u001b[0m\u001b[0m\n\u001b[1;32m    884\u001b[0m       \u001b[0;32mwith\u001b[0m \u001b[0mOptionalXlaContext\u001b[0m\u001b[0;34m(\u001b[0m\u001b[0mself\u001b[0m\u001b[0;34m.\u001b[0m\u001b[0m_jit_compile\u001b[0m\u001b[0;34m)\u001b[0m\u001b[0;34m:\u001b[0m\u001b[0;34m\u001b[0m\u001b[0;34m\u001b[0m\u001b[0m\n\u001b[0;32m--> 885\u001b[0;31m         \u001b[0mresult\u001b[0m \u001b[0;34m=\u001b[0m \u001b[0mself\u001b[0m\u001b[0;34m.\u001b[0m\u001b[0m_call\u001b[0m\u001b[0;34m(\u001b[0m\u001b[0;34m*\u001b[0m\u001b[0margs\u001b[0m\u001b[0;34m,\u001b[0m \u001b[0;34m**\u001b[0m\u001b[0mkwds\u001b[0m\u001b[0;34m)\u001b[0m\u001b[0;34m\u001b[0m\u001b[0;34m\u001b[0m\u001b[0m\n\u001b[0m\u001b[1;32m    886\u001b[0m \u001b[0;34m\u001b[0m\u001b[0m\n\u001b[1;32m    887\u001b[0m       \u001b[0mnew_tracing_count\u001b[0m \u001b[0;34m=\u001b[0m \u001b[0mself\u001b[0m\u001b[0;34m.\u001b[0m\u001b[0mexperimental_get_tracing_count\u001b[0m\u001b[0;34m(\u001b[0m\u001b[0;34m)\u001b[0m\u001b[0;34m\u001b[0m\u001b[0;34m\u001b[0m\u001b[0m\n",
            "\u001b[0;32m/usr/local/lib/python3.7/dist-packages/tensorflow/python/eager/def_function.py\u001b[0m in \u001b[0;36m_call\u001b[0;34m(self, *args, **kwds)\u001b[0m\n\u001b[1;32m    915\u001b[0m       \u001b[0;31m# In this case we have created variables on the first call, so we run the\u001b[0m\u001b[0;34m\u001b[0m\u001b[0;34m\u001b[0m\u001b[0;34m\u001b[0m\u001b[0m\n\u001b[1;32m    916\u001b[0m       \u001b[0;31m# defunned version which is guaranteed to never create variables.\u001b[0m\u001b[0;34m\u001b[0m\u001b[0;34m\u001b[0m\u001b[0;34m\u001b[0m\u001b[0m\n\u001b[0;32m--> 917\u001b[0;31m       \u001b[0;32mreturn\u001b[0m \u001b[0mself\u001b[0m\u001b[0;34m.\u001b[0m\u001b[0m_stateless_fn\u001b[0m\u001b[0;34m(\u001b[0m\u001b[0;34m*\u001b[0m\u001b[0margs\u001b[0m\u001b[0;34m,\u001b[0m \u001b[0;34m**\u001b[0m\u001b[0mkwds\u001b[0m\u001b[0;34m)\u001b[0m  \u001b[0;31m# pylint: disable=not-callable\u001b[0m\u001b[0;34m\u001b[0m\u001b[0;34m\u001b[0m\u001b[0m\n\u001b[0m\u001b[1;32m    918\u001b[0m     \u001b[0;32melif\u001b[0m \u001b[0mself\u001b[0m\u001b[0;34m.\u001b[0m\u001b[0m_stateful_fn\u001b[0m \u001b[0;32mis\u001b[0m \u001b[0;32mnot\u001b[0m \u001b[0;32mNone\u001b[0m\u001b[0;34m:\u001b[0m\u001b[0;34m\u001b[0m\u001b[0;34m\u001b[0m\u001b[0m\n\u001b[1;32m    919\u001b[0m       \u001b[0;31m# Release the lock early so that multiple threads can perform the call\u001b[0m\u001b[0;34m\u001b[0m\u001b[0;34m\u001b[0m\u001b[0;34m\u001b[0m\u001b[0m\n",
            "\u001b[0;32m/usr/local/lib/python3.7/dist-packages/tensorflow/python/eager/function.py\u001b[0m in \u001b[0;36m__call__\u001b[0;34m(self, *args, **kwargs)\u001b[0m\n\u001b[1;32m   3038\u001b[0m        filtered_flat_args) = self._maybe_define_function(args, kwargs)\n\u001b[1;32m   3039\u001b[0m     return graph_function._call_flat(\n\u001b[0;32m-> 3040\u001b[0;31m         filtered_flat_args, captured_inputs=graph_function.captured_inputs)  # pylint: disable=protected-access\n\u001b[0m\u001b[1;32m   3041\u001b[0m \u001b[0;34m\u001b[0m\u001b[0m\n\u001b[1;32m   3042\u001b[0m   \u001b[0;34m@\u001b[0m\u001b[0mproperty\u001b[0m\u001b[0;34m\u001b[0m\u001b[0;34m\u001b[0m\u001b[0m\n",
            "\u001b[0;32m/usr/local/lib/python3.7/dist-packages/tensorflow/python/eager/function.py\u001b[0m in \u001b[0;36m_call_flat\u001b[0;34m(self, args, captured_inputs, cancellation_manager)\u001b[0m\n\u001b[1;32m   1962\u001b[0m       \u001b[0;31m# No tape is watching; skip to running the function.\u001b[0m\u001b[0;34m\u001b[0m\u001b[0;34m\u001b[0m\u001b[0;34m\u001b[0m\u001b[0m\n\u001b[1;32m   1963\u001b[0m       return self._build_call_outputs(self._inference_function.call(\n\u001b[0;32m-> 1964\u001b[0;31m           ctx, args, cancellation_manager=cancellation_manager))\n\u001b[0m\u001b[1;32m   1965\u001b[0m     forward_backward = self._select_forward_and_backward_functions(\n\u001b[1;32m   1966\u001b[0m         \u001b[0margs\u001b[0m\u001b[0;34m,\u001b[0m\u001b[0;34m\u001b[0m\u001b[0;34m\u001b[0m\u001b[0m\n",
            "\u001b[0;32m/usr/local/lib/python3.7/dist-packages/tensorflow/python/eager/function.py\u001b[0m in \u001b[0;36mcall\u001b[0;34m(self, ctx, args, cancellation_manager)\u001b[0m\n\u001b[1;32m    594\u001b[0m               \u001b[0minputs\u001b[0m\u001b[0;34m=\u001b[0m\u001b[0margs\u001b[0m\u001b[0;34m,\u001b[0m\u001b[0;34m\u001b[0m\u001b[0;34m\u001b[0m\u001b[0m\n\u001b[1;32m    595\u001b[0m               \u001b[0mattrs\u001b[0m\u001b[0;34m=\u001b[0m\u001b[0mattrs\u001b[0m\u001b[0;34m,\u001b[0m\u001b[0;34m\u001b[0m\u001b[0;34m\u001b[0m\u001b[0m\n\u001b[0;32m--> 596\u001b[0;31m               ctx=ctx)\n\u001b[0m\u001b[1;32m    597\u001b[0m         \u001b[0;32melse\u001b[0m\u001b[0;34m:\u001b[0m\u001b[0;34m\u001b[0m\u001b[0;34m\u001b[0m\u001b[0m\n\u001b[1;32m    598\u001b[0m           outputs = execute.execute_with_cancellation(\n",
            "\u001b[0;32m/usr/local/lib/python3.7/dist-packages/tensorflow/python/eager/execute.py\u001b[0m in \u001b[0;36mquick_execute\u001b[0;34m(op_name, num_outputs, inputs, attrs, ctx, name)\u001b[0m\n\u001b[1;32m     58\u001b[0m     \u001b[0mctx\u001b[0m\u001b[0;34m.\u001b[0m\u001b[0mensure_initialized\u001b[0m\u001b[0;34m(\u001b[0m\u001b[0;34m)\u001b[0m\u001b[0;34m\u001b[0m\u001b[0;34m\u001b[0m\u001b[0m\n\u001b[1;32m     59\u001b[0m     tensors = pywrap_tfe.TFE_Py_Execute(ctx._handle, device_name, op_name,\n\u001b[0;32m---> 60\u001b[0;31m                                         inputs, attrs, num_outputs)\n\u001b[0m\u001b[1;32m     61\u001b[0m   \u001b[0;32mexcept\u001b[0m \u001b[0mcore\u001b[0m\u001b[0;34m.\u001b[0m\u001b[0m_NotOkStatusException\u001b[0m \u001b[0;32mas\u001b[0m \u001b[0me\u001b[0m\u001b[0;34m:\u001b[0m\u001b[0;34m\u001b[0m\u001b[0;34m\u001b[0m\u001b[0m\n\u001b[1;32m     62\u001b[0m     \u001b[0;32mif\u001b[0m \u001b[0mname\u001b[0m \u001b[0;32mis\u001b[0m \u001b[0;32mnot\u001b[0m \u001b[0;32mNone\u001b[0m\u001b[0;34m:\u001b[0m\u001b[0;34m\u001b[0m\u001b[0;34m\u001b[0m\u001b[0m\n",
            "\u001b[0;31mKeyboardInterrupt\u001b[0m: "
          ]
        }
      ]
    },
    {
      "cell_type": "markdown",
      "metadata": {
        "id": "tPlK3jh9Xl0z"
      },
      "source": [
        "### Prediction"
      ]
    },
    {
      "cell_type": "code",
      "metadata": {
        "id": "XVcLJ7wlXomg"
      },
      "source": [
        "# Prediction\n",
        "def predict_doc(text, model, threshold=.5):\n",
        "    '''\n",
        "    Function used to predict if a statement contains the metric\n",
        "    Parameters:\n",
        "        text: string, Statement to predict\n",
        "        model: transformers.models, Transformer classification model\n",
        "        theshold: float, Probability above which we consider a sentence being a justification for the metric\n",
        "    Return:\n",
        "        bool, prediction, if the metric is present or not within the statement\n",
        "        list, list of sentences justifying the prediction (presence of the metric within the statement)\n",
        "    '''\n",
        "    list_sentences = [i for i in text.replace(\"\\n\", \".\").split(\".\") if len(i) > 40]\n",
        "    input_ids, mask = process_comments(tokenizer, list_sentences, MAX_LENGTH)\n",
        "    predictions = model.predict({\"input_ids\": np.array(input_ids), \"attention_mask\": np.array(mask)})\n",
        "    probas = softmax(predictions[0], axis=1)\n",
        "    idx = np.where(probas[:,1] > threshold)[0]\n",
        "    return sum(probas[:,1] > threshold) / len(probas) > 0, [list_sentences[i] for i in idx]"
      ],
      "execution_count": null,
      "outputs": []
    },
    {
      "cell_type": "code",
      "metadata": {
        "id": "2Q7ViYE6Xtnu"
      },
      "source": [
        "prediction, justifications = predict_doc(statement, model)"
      ],
      "execution_count": null,
      "outputs": []
    },
    {
      "cell_type": "markdown",
      "metadata": {
        "id": "NgW78GP_iEll"
      },
      "source": [
        "## Results\n",
        "Even though the transformers-based approach enhances the model explainability by giving the sentence which may explain the prediction, overall, this system fell behind compared to the rules-based and random forest approach and the HAN  approach. This method has 66% of accuracy. Nevertheless, Transformers has been applied as an unsupervised learning method (i.e. it is not using labels), so there is still room for improvements to lift the classifier’s performance as a supervised or semi-supervised problem.\n",
        "\n"
      ]
    }
  ]
}